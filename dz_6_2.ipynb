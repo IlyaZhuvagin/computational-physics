{
 "cells": [
  {
   "cell_type": "code",
   "execution_count": 76,
   "metadata": {},
   "outputs": [],
   "source": [
    "def newton_iteration(f, fder, x0, eps=1e-5, maxiter=1000):\n",
    "    \"\"\"Newton's root finding method for f(x)=0\n",
    "    Parameters\n",
    "    ----------\n",
    "    f : callable\n",
    "        Function f.\n",
    "    fder : callable\n",
    "        Derivative of f.\n",
    "    x0 : float\n",
    "        Initial point for iterations.\n",
    "    eps : float\n",
    "        Requested accuracy.\n",
    "    maxiter : int\n",
    "        Maximal number of iterations.\n",
    "    \n",
    "    Returns\n",
    "    -------\n",
    "    x : float\n",
    "        Approximate root.\n",
    "    niter : int\n",
    "        Number of iterations.\n",
    "    \"\"\"\n",
    " 
    "    for niter in range(1, maxiter):\n",
    "        x_k = x0 - f(x0) / fder(x0)\n",
    "        if np.abs(x_k - x0) <= eps or niter == maxiter:\n",
    "            print(np.abs(x_k - x0))\n",
    "            break\n",
    "        x0 = x_k\n",
    "        niter += 1\n",
    "    return x_k, niter"
   ]
  },
  {
   "cell_type": "code",
   "execution_count": 81,
   "metadata": {},
   "outputs": [
    {
     "name": "stdout",
     "output_type": "stream",
     "text": [
      "2.069111777469601e-07\n"
     ]
    },
    {
     "data": {
      "text/plain": [
       "(1.0000000000000213, 7)"
      ]
     },
     "execution_count": 81,
     "metadata": {},
     "output_type": "execute_result"
    }
   ],
   "source": [
    "def fun(x):\n",
    "    return x**2 - 1\n",
    "def dfun(x):\n",
    "    return 2 * x\n",
    "newton_iteration(fun, dfun, 8)"
   ]
  },
  {
   "cell_type": "code",
   "execution_count": 100,
   "metadata": {},
   "outputs": [
    {
     "name": "stdout",
     "output_type": "stream",
     "text": [
      "8.888647595739485e-10\n",
      "1.0 7\n"
     ]
    },
    {
     "data": {
      "image/png": "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\n",
      "text/plain": [
       "<Figure size 432x288 with 1 Axes>"
      ]
     },
     "metadata": {
      "needs_background": "light"
     },
     "output_type": "display_data"
    }
   ],
   "source": [
    "eps = 1e-5\n",
    "maxiter = 1000\n",
    "x = np.zeros(8)\n",
    "x[0] = 6\n",
    "for niter in range(1, maxiter):\n",
    "    x[niter] = x[niter-1] - (x[niter-1]**2 - 1) / (2*x[niter-1])\n",
    "    if np.abs(x[niter] - x[niter-1]) <= eps or niter == maxiter:\n",
    "        print(np.abs(x[niter] - x[niter-1]))\n",
    "        break\n",
    "    x[niter-1] = x[niter]\n",
    "    niter += 1\n",
    "print(x[niter], niter)\n",
    "y = 1\n",
    "err = (x - y)**2\n",
    "plt.plot(err)\n",
    "plt.yscale('log')"
   ]
  },
  {
   "cell_type": "code",
   "execution_count": null,
   "metadata": {},
   "outputs": [],
   "source": []
  },
  {
   "cell_type": "code",
   "execution_count": null,
   "metadata": {},
   "outputs": [],
   "source": []
  }
 ],
 "metadata": {
  "kernelspec": {
   "display_name": "Python 3",
   "language": "python",
   "name": "python3"
  },
  "language_info": {
   "codemirror_mode": {
    "name": "ipython",
    "version": 3
   },
   "file_extension": ".py",
   "mimetype": "text/x-python",
   "name": "python",
   "nbconvert_exporter": "python",
   "pygments_lexer": "ipython3",
   "version": "3.7.6"
  }
 },
 "nbformat": 4,
 "nbformat_minor": 2
}

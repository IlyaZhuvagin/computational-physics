{
 "cells": [
  {
   "cell_type": "markdown",
   "metadata": {},
   "source": [
    "#### 1. Import the numpy package under the name `np` (★☆☆)"
   ]
  },
  {
   "cell_type": "code",
   "execution_count": 1,
   "metadata": {},
   "outputs": [],
   "source": [
    "import numpy as np"
   ]
  },
  {
   "cell_type": "markdown",
   "metadata": {},
   "source": [
    "#### 2. Print the numpy version and the configuration (★☆☆)"
   ]
  },
  {
   "cell_type": "code",
   "execution_count": 2,
   "metadata": {},
   "outputs": [
    {
     "name": "stdout",
     "output_type": "stream",
     "text": [
      "1.18.1\n",
      "blas_mkl_info:\n",
      "    libraries = ['mkl_rt']\n",
      "    library_dirs = ['C:/Users/aleks/anaconda3\\\\Library\\\\lib']\n",
      "    define_macros = [('SCIPY_MKL_H', None), ('HAVE_CBLAS', None)]\n",
      "    include_dirs = ['C:\\\\Program Files (x86)\\\\IntelSWTools\\\\compilers_and_libraries_2019.0.117\\\\windows\\\\mkl', 'C:\\\\Program Files (x86)\\\\IntelSWTools\\\\compilers_and_libraries_2019.0.117\\\\windows\\\\mkl\\\\include', 'C:\\\\Program Files (x86)\\\\IntelSWTools\\\\compilers_and_libraries_2019.0.117\\\\windows\\\\mkl\\\\lib', 'C:/Users/aleks/anaconda3\\\\Library\\\\include']\n",
      "blas_opt_info:\n",
      "    libraries = ['mkl_rt']\n",
      "    library_dirs = ['C:/Users/aleks/anaconda3\\\\Library\\\\lib']\n",
      "    define_macros = [('SCIPY_MKL_H', None), ('HAVE_CBLAS', None)]\n",
      "    include_dirs = ['C:\\\\Program Files (x86)\\\\IntelSWTools\\\\compilers_and_libraries_2019.0.117\\\\windows\\\\mkl', 'C:\\\\Program Files (x86)\\\\IntelSWTools\\\\compilers_and_libraries_2019.0.117\\\\windows\\\\mkl\\\\include', 'C:\\\\Program Files (x86)\\\\IntelSWTools\\\\compilers_and_libraries_2019.0.117\\\\windows\\\\mkl\\\\lib', 'C:/Users/aleks/anaconda3\\\\Library\\\\include']\n",
      "lapack_mkl_info:\n",
      "    libraries = ['mkl_rt']\n",
      "    library_dirs = ['C:/Users/aleks/anaconda3\\\\Library\\\\lib']\n",
      "    define_macros = [('SCIPY_MKL_H', None), ('HAVE_CBLAS', None)]\n",
      "    include_dirs = ['C:\\\\Program Files (x86)\\\\IntelSWTools\\\\compilers_and_libraries_2019.0.117\\\\windows\\\\mkl', 'C:\\\\Program Files (x86)\\\\IntelSWTools\\\\compilers_and_libraries_2019.0.117\\\\windows\\\\mkl\\\\include', 'C:\\\\Program Files (x86)\\\\IntelSWTools\\\\compilers_and_libraries_2019.0.117\\\\windows\\\\mkl\\\\lib', 'C:/Users/aleks/anaconda3\\\\Library\\\\include']\n",
      "lapack_opt_info:\n",
      "    libraries = ['mkl_rt']\n",
      "    library_dirs = ['C:/Users/aleks/anaconda3\\\\Library\\\\lib']\n",
      "    define_macros = [('SCIPY_MKL_H', None), ('HAVE_CBLAS', None)]\n",
      "    include_dirs = ['C:\\\\Program Files (x86)\\\\IntelSWTools\\\\compilers_and_libraries_2019.0.117\\\\windows\\\\mkl', 'C:\\\\Program Files (x86)\\\\IntelSWTools\\\\compilers_and_libraries_2019.0.117\\\\windows\\\\mkl\\\\include', 'C:\\\\Program Files (x86)\\\\IntelSWTools\\\\compilers_and_libraries_2019.0.117\\\\windows\\\\mkl\\\\lib', 'C:/Users/aleks/anaconda3\\\\Library\\\\include']\n"
     ]
    }
   ],
   "source": [
    "print(np.__version__)\n",
    "np.show_config()"
   ]
  },
  {
   "cell_type": "markdown",
   "metadata": {},
   "source": [
    "#### 3. Create a null vector of size 10 (★☆☆)"
   ]
  },
  {
   "cell_type": "code",
   "execution_count": 3,
   "metadata": {},
   "outputs": [
    {
     "data": {
      "text/plain": [
       "array([0., 0., 0., 0., 0., 0., 0., 0., 0., 0.])"
      ]
     },
     "execution_count": 3,
     "metadata": {},
     "output_type": "execute_result"
    }
   ],
   "source": [
    "Vec = np.zeros(10)\n",
    "Vec"
   ]
  },
  {
   "cell_type": "raw",
   "metadata": {},
   "source": [
    "#### 4. How to find the memory size of any array (★☆☆)"
   ]
  },
  {
   "cell_type": "code",
   "execution_count": 4,
   "metadata": {},
   "outputs": [
    {
     "data": {
      "text/plain": [
       "800"
      ]
     },
     "execution_count": 4,
     "metadata": {},
     "output_type": "execute_result"
    }
   ],
   "source": [
    "Arr = np.zeros((10,10))\n",
    "Arr.size * Arr.itemsize"
   ]
  },
  {
   "cell_type": "markdown",
   "metadata": {},
   "source": [
    "#### 5. How to get the documentation of the numpy add function from the command line? (★☆☆)"
   ]
  },
  {
   "cell_type": "code",
   "execution_count": 5,
   "metadata": {},
   "outputs": [
    {
     "name": "stdout",
     "output_type": "stream",
     "text": [
      "add(x1, x2, /, out=None, *, where=True, casting='same_kind', order='K', dtype=None, subok=True[, signature, extobj])\n",
      "\n",
      "Add arguments element-wise.\n",
      "\n",
      "Parameters\n",
      "----------\n",
      "x1, x2 : array_like\n",
      "    The arrays to be added. If ``x1.shape != x2.shape``, they must be broadcastable to a common shape (which becomes the shape of the output).\n",
      "out : ndarray, None, or tuple of ndarray and None, optional\n",
      "    A location into which the result is stored. If provided, it must have\n",
      "    a shape that the inputs broadcast to. If not provided or None,\n",
      "    a freshly-allocated array is returned. A tuple (possible only as a\n",
      "    keyword argument) must have length equal to the number of outputs.\n",
      "where : array_like, optional\n",
      "    This condition is broadcast over the input. At locations where the\n",
      "    condition is True, the `out` array will be set to the ufunc result.\n",
      "    Elsewhere, the `out` array will retain its original value.\n",
      "    Note that if an uninitialized `out` array is created via the default\n",
      "    ``out=None``, locations within it where the condition is False will\n",
      "    remain uninitialized.\n",
      "**kwargs\n",
      "    For other keyword-only arguments, see the\n",
      "    :ref:`ufunc docs <ufuncs.kwargs>`.\n",
      "\n",
      "Returns\n",
      "-------\n",
      "add : ndarray or scalar\n",
      "    The sum of `x1` and `x2`, element-wise.\n",
      "    This is a scalar if both `x1` and `x2` are scalars.\n",
      "\n",
      "Notes\n",
      "-----\n",
      "Equivalent to `x1` + `x2` in terms of array broadcasting.\n",
      "\n",
      "Examples\n",
      "--------\n",
      ">>> np.add(1.0, 4.0)\n",
      "5.0\n",
      ">>> x1 = np.arange(9.0).reshape((3, 3))\n",
      ">>> x2 = np.arange(3.0)\n",
      ">>> np.add(x1, x2)\n",
      "array([[  0.,   2.,   4.],\n",
      "       [  3.,   5.,   7.],\n",
      "       [  6.,   8.,  10.]])\n"
     ]
    }
   ],
   "source": [
    "np.info(np.add)"
   ]
  },
  {
   "cell_type": "markdown",
   "metadata": {},
   "source": [
    "#### 6. Create a null vector of size 10 but the fifth value which is 1 (★☆☆)"
   ]
  },
  {
   "cell_type": "code",
   "execution_count": 6,
   "metadata": {},
   "outputs": [
    {
     "data": {
      "text/plain": [
       "array([0., 0., 0., 0., 1., 0., 0., 0., 0., 0.])"
      ]
     },
     "execution_count": 6,
     "metadata": {},
     "output_type": "execute_result"
    }
   ],
   "source": [
    "Vec = np.zeros(10)\n",
    "Vec[4] = 1\n",
    "Vec"
   ]
  },
  {
   "cell_type": "markdown",
   "metadata": {},
   "source": [
    "#### 7. Create a vector with values ranging from 10 to 49 (★☆☆)"
   ]
  },
  {
   "cell_type": "code",
   "execution_count": 7,
   "metadata": {},
   "outputs": [
    {
     "data": {
      "text/plain": [
       "array([10, 11, 12, 13, 14, 15, 16, 17, 18, 19, 20, 21, 22, 23, 24, 25, 26,\n",
       "       27, 28, 29, 30, 31, 32, 33, 34, 35, 36, 37, 38, 39, 40, 41, 42, 43,\n",
       "       44, 45, 46, 47, 48, 49])"
      ]
     },
     "execution_count": 7,
     "metadata": {},
     "output_type": "execute_result"
    }
   ],
   "source": [
    "Vec = np.arange(10,50)\n",
    "Vec"
   ]
  },
  {
   "cell_type": "markdown",
   "metadata": {},
   "source": [
    "#### 8. Reverse a vector (first element becomes last) (★☆☆)"
   ]
  },
  {
   "cell_type": "code",
   "execution_count": 8,
   "metadata": {},
   "outputs": [
    {
     "data": {
      "text/plain": [
       "array([49, 48, 47, 46, 45, 44, 43, 42, 41, 40, 39, 38, 37, 36, 35, 34, 33,\n",
       "       32, 31, 30, 29, 28, 27, 26, 25, 24, 23, 22, 21, 20, 19, 18, 17, 16,\n",
       "       15, 14, 13, 12, 11, 10])"
      ]
     },
     "execution_count": 8,
     "metadata": {},
     "output_type": "execute_result"
    }
   ],
   "source": [
    "RevVec = np.arange(50)\n",
    "RevVec = Vec[::-1]\n",
    "RevVec"
   ]
  },
  {
   "cell_type": "markdown",
   "metadata": {},
   "source": [
    "#### 9. Create a 3x3 matrix with values ranging from 0 to 8 (★☆☆)"
   ]
  },
  {
   "cell_type": "code",
   "execution_count": 9,
   "metadata": {},
   "outputs": [
    {
     "data": {
      "text/plain": [
       "array([[0, 1, 2],\n",
       "       [3, 4, 5],\n",
       "       [6, 7, 8]])"
      ]
     },
     "execution_count": 9,
     "metadata": {},
     "output_type": "execute_result"
    }
   ],
   "source": [
    "Matr = np.arange(9).reshape(3, 3)\n",
    "Matr"
   ]
  },
  {
   "cell_type": "markdown",
   "metadata": {},
   "source": [
    "#### 10. Find indices of non-zero elements from [1,2,0,0,4,0] (★☆☆)"
   ]
  },
  {
   "cell_type": "code",
   "execution_count": 10,
   "metadata": {},
   "outputs": [
    {
     "data": {
      "text/plain": [
       "(array([0, 1, 4], dtype=int64),)"
      ]
     },
     "execution_count": 10,
     "metadata": {},
     "output_type": "execute_result"
    }
   ],
   "source": [
    "nz_elem = np.nonzero([1,2,0,0,4,0])\n",
    "nz_elem"
   ]
  },
  {
   "cell_type": "markdown",
   "metadata": {},
   "source": [
    "#### 11. Create a 3x3 identity matrix (★☆☆)"
   ]
  },
  {
   "cell_type": "code",
   "execution_count": 11,
   "metadata": {},
   "outputs": [
    {
     "data": {
      "text/plain": [
       "array([[1., 0., 0.],\n",
       "       [0., 1., 0.],\n",
       "       [0., 0., 1.]])"
      ]
     },
     "execution_count": 11,
     "metadata": {},
     "output_type": "execute_result"
    }
   ],
   "source": [
    "Id = np.eye(3)\n",
    "Id"
   ]
  },
  {
   "cell_type": "markdown",
   "metadata": {},
   "source": [
    "#### 12. Create a 3x3x3 array with random values (★☆☆)"
   ]
  },
  {
   "cell_type": "code",
   "execution_count": 12,
   "metadata": {},
   "outputs": [
    {
     "data": {
      "text/plain": [
       "array([[0.36384311, 0.99697418, 0.66487834],\n",
       "       [0.85225635, 0.91509289, 0.43506404],\n",
       "       [0.93505469, 0.33298226, 0.65508338]])"
      ]
     },
     "execution_count": 12,
     "metadata": {},
     "output_type": "execute_result"
    }
   ],
   "source": [
    "RandMatr = np.random.random((3,3))\n",
    "RandMatr"
   ]
  },
  {
   "cell_type": "markdown",
   "metadata": {},
   "source": [
    "#### 13. Create a 10x10 array with random values and find the minimum and maximum values (★☆☆)"
   ]
  },
  {
   "cell_type": "code",
   "execution_count": 13,
   "metadata": {},
   "outputs": [
    {
     "data": {
      "text/plain": [
       "(array([[0.76492974, 0.18454783, 0.09141199, 0.3911708 , 0.67980201,\n",
       "         0.52097454, 0.52361872, 0.11789143, 0.80649901, 0.56383636],\n",
       "        [0.81730187, 0.75057954, 0.45685347, 0.16533288, 0.76587385,\n",
       "         0.00598243, 0.24921097, 0.729569  , 0.24038015, 0.90749876],\n",
       "        [0.53586274, 0.08679141, 0.62673221, 0.47918373, 0.79008766,\n",
       "         0.43196356, 0.30644469, 0.13342925, 0.51625287, 0.50707335],\n",
       "        [0.65034153, 0.32544716, 0.98316324, 0.33234597, 0.43410301,\n",
       "         0.05073179, 0.30356497, 0.75967246, 0.02960761, 0.64244489],\n",
       "        [0.20736363, 0.09912014, 0.34623996, 0.0398642 , 0.51123983,\n",
       "         0.67926598, 0.05715398, 0.50859557, 0.8231679 , 0.72468454],\n",
       "        [0.96414142, 0.36983281, 0.14314601, 0.43932841, 0.51721691,\n",
       "         0.69548739, 0.29672276, 0.32945346, 0.33978822, 0.13954915],\n",
       "        [0.03645426, 0.71295607, 0.5356926 , 0.6617153 , 0.05566476,\n",
       "         0.56494564, 0.53551015, 0.13575924, 0.43137284, 0.60246349],\n",
       "        [0.54512629, 0.45499294, 0.04536547, 0.75327013, 0.24001579,\n",
       "         0.2948909 , 0.69690936, 0.32046689, 0.011024  , 0.41247871],\n",
       "        [0.75225915, 0.79287019, 0.71864053, 0.087176  , 0.19047495,\n",
       "         0.70875907, 0.15772878, 0.57648397, 0.74982099, 0.55476327],\n",
       "        [0.7986435 , 0.12204519, 0.26433523, 0.46766866, 0.35889126,\n",
       "         0.61285751, 0.38508675, 0.17128211, 0.01492214, 0.37681824]]),\n",
       " 0.005982429390641086,\n",
       " 0.983163236502583)"
      ]
     },
     "execution_count": 13,
     "metadata": {},
     "output_type": "execute_result"
    }
   ],
   "source": [
    "Matr = np.random.random((10,10))\n",
    "Matr_min, Matr_max = Matr.min(), Matr.max()\n",
    "Matr, Matr_min, Matr_max"
   ]
  },
  {
   "cell_type": "markdown",
   "metadata": {},
   "source": [
    "#### 14. Create a random vector of size 30 and find the mean value (★☆☆)"
   ]
  },
  {
   "cell_type": "code",
   "execution_count": 14,
   "metadata": {},
   "outputs": [
    {
     "data": {
      "text/plain": [
       "0.5192387063055627"
      ]
     },
     "execution_count": 14,
     "metadata": {},
     "output_type": "execute_result"
    }
   ],
   "source": [
    "Vec = np.random.random(30)\n",
    "mean = Vec.mean()\n",
    "mean"
   ]
  },
  {
   "cell_type": "markdown",
   "metadata": {},
   "source": [
    "#### 15. Create a 2d array with 1 on the border and 0 inside (★☆☆)"
   ]
  },
  {
   "cell_type": "code",
   "execution_count": 15,
   "metadata": {},
   "outputs": [
    {
     "data": {
      "text/plain": [
       "array([[1., 1., 1., 1., 1., 1., 1., 1., 1., 1.],\n",
       "       [1., 0., 0., 0., 0., 0., 0., 0., 0., 1.],\n",
       "       [1., 0., 0., 0., 0., 0., 0., 0., 0., 1.],\n",
       "       [1., 0., 0., 0., 0., 0., 0., 0., 0., 1.],\n",
       "       [1., 0., 0., 0., 0., 0., 0., 0., 0., 1.],\n",
       "       [1., 0., 0., 0., 0., 0., 0., 0., 0., 1.],\n",
       "       [1., 0., 0., 0., 0., 0., 0., 0., 0., 1.],\n",
       "       [1., 0., 0., 0., 0., 0., 0., 0., 0., 1.],\n",
       "       [1., 0., 0., 0., 0., 0., 0., 0., 0., 1.],\n",
       "       [1., 1., 1., 1., 1., 1., 1., 1., 1., 1.]])"
      ]
     },
     "execution_count": 15,
     "metadata": {},
     "output_type": "execute_result"
    }
   ],
   "source": [
    "Twod = np.ones((10,10))\n",
    "Twod[1:-1,1:-1] = 0\n",
    "Twod"
   ]
  },
  {
   "cell_type": "markdown",
   "metadata": {},
   "source": [
    "#### 16. How to add a border (filled with 0's) around an existing array? (★☆☆)"
   ]
  },
  {
   "cell_type": "code",
   "execution_count": 16,
   "metadata": {},
   "outputs": [
    {
     "data": {
      "text/plain": [
       "array([[0., 0., 0., 0., 0., 0., 0., 0., 0., 0., 0., 0.],\n",
       "       [0., 1., 1., 1., 1., 1., 1., 1., 1., 1., 1., 0.],\n",
       "       [0., 1., 0., 0., 0., 0., 0., 0., 0., 0., 1., 0.],\n",
       "       [0., 1., 0., 0., 0., 0., 0., 0., 0., 0., 1., 0.],\n",
       "       [0., 1., 0., 0., 0., 0., 0., 0., 0., 0., 1., 0.],\n",
       "       [0., 1., 0., 0., 0., 0., 0., 0., 0., 0., 1., 0.],\n",
       "       [0., 1., 0., 0., 0., 0., 0., 0., 0., 0., 1., 0.],\n",
       "       [0., 1., 0., 0., 0., 0., 0., 0., 0., 0., 1., 0.],\n",
       "       [0., 1., 0., 0., 0., 0., 0., 0., 0., 0., 1., 0.],\n",
       "       [0., 1., 0., 0., 0., 0., 0., 0., 0., 0., 1., 0.],\n",
       "       [0., 1., 1., 1., 1., 1., 1., 1., 1., 1., 1., 0.],\n",
       "       [0., 0., 0., 0., 0., 0., 0., 0., 0., 0., 0., 0.]])"
      ]
     },
     "execution_count": 16,
     "metadata": {},
     "output_type": "execute_result"
    }
   ],
   "source": [
    "x = np.pad(Twod, pad_width=1, mode='constant', constant_values=0)\n",
    "x"
   ]
  },
  {
   "cell_type": "markdown",
   "metadata": {},
   "source": [
    "#### 17. What is the result of the following expression? (★☆☆)\n",
    "```python\n",
    "0 * np.nan\n",
    "np.nan == np.nan\n",
    "np.inf > np.nan\n",
    "np.nan - np.nan\n",
    "np.nan in set([np.nan])\n",
    "0.3 == 3 * 0.1\n",
    "```"
   ]
  },
  {
   "cell_type": "code",
   "execution_count": 17,
   "metadata": {},
   "outputs": [
    {
     "data": {
      "text/plain": [
       "(nan, False, False, nan, True, False)"
      ]
     },
     "execution_count": 17,
     "metadata": {},
     "output_type": "execute_result"
    }
   ],
   "source": [
    "0 * np.nan, np.nan == np.nan, np.inf > np.nan, np.nan - np.nan, np.nan in set([np.nan]), 0.3 == 3 * 0.1"
   ]
  },
  {
   "cell_type": "markdown",
   "metadata": {},
   "source": [
    "#### 18. Create a 5x5 matrix with values 1,2,3,4 just below the diagonal (★☆☆)"
   ]
  },
  {
   "cell_type": "code",
   "execution_count": 18,
   "metadata": {},
   "outputs": [
    {
     "data": {
      "text/plain": [
       "array([[0, 0, 0, 0, 0],\n",
       "       [1, 0, 0, 0, 0],\n",
       "       [0, 2, 0, 0, 0],\n",
       "       [0, 0, 3, 0, 0],\n",
       "       [0, 0, 0, 4, 0]])"
      ]
     },
     "execution_count": 18,
     "metadata": {},
     "output_type": "execute_result"
    }
   ],
   "source": [
    "Matr = np.diag(1+np.arange(4),k=-1)\n",
    "Matr"
   ]
  },
  {
   "cell_type": "markdown",
   "metadata": {},
   "source": [
    "#### 19. Create a 8x8 matrix and fill it with a checkerboard pattern (★☆☆)"
   ]
  },
  {
   "cell_type": "code",
   "execution_count": 19,
   "metadata": {},
   "outputs": [
    {
     "data": {
      "text/plain": [
       "array([[0, 1, 0, 1, 0, 1, 0, 1],\n",
       "       [1, 0, 1, 0, 1, 0, 1, 0],\n",
       "       [0, 1, 0, 1, 0, 1, 0, 1],\n",
       "       [1, 0, 1, 0, 1, 0, 1, 0],\n",
       "       [0, 1, 0, 1, 0, 1, 0, 1],\n",
       "       [1, 0, 1, 0, 1, 0, 1, 0],\n",
       "       [0, 1, 0, 1, 0, 1, 0, 1],\n",
       "       [1, 0, 1, 0, 1, 0, 1, 0]])"
      ]
     },
     "execution_count": 19,
     "metadata": {},
     "output_type": "execute_result"
    }
   ],
   "source": [
    "Matrix = np.zeros((8,8),dtype=int)\n",
    "Matrix[1::2,::2] = 1\n",
    "Matrix[::2,1::2] = 1\n",
    "Matrix"
   ]
  },
  {
   "cell_type": "markdown",
   "metadata": {},
   "source": [
    "#### 20. Consider a (6,7,8) shape array, what is the index (x,y,z) of the 100th element?"
   ]
  },
  {
   "cell_type": "code",
   "execution_count": 20,
   "metadata": {},
   "outputs": [
    {
     "data": {
      "text/plain": [
       "(1, 5, 3)"
      ]
     },
     "execution_count": 20,
     "metadata": {},
     "output_type": "execute_result"
    }
   ],
   "source": [
    "np.unravel_index(99,(6,7,8))"
   ]
  },
  {
   "cell_type": "markdown",
   "metadata": {},
   "source": [
    "#### 21. Create a checkerboard 8x8 matrix using the tile function (★☆☆)"
   ]
  },
  {
   "cell_type": "code",
   "execution_count": 21,
   "metadata": {},
   "outputs": [
    {
     "data": {
      "text/plain": [
       "array([[0, 1, 0, 1, 0, 1, 0, 1],\n",
       "       [1, 0, 1, 0, 1, 0, 1, 0],\n",
       "       [0, 1, 0, 1, 0, 1, 0, 1],\n",
       "       [1, 0, 1, 0, 1, 0, 1, 0],\n",
       "       [0, 1, 0, 1, 0, 1, 0, 1],\n",
       "       [1, 0, 1, 0, 1, 0, 1, 0],\n",
       "       [0, 1, 0, 1, 0, 1, 0, 1],\n",
       "       [1, 0, 1, 0, 1, 0, 1, 0]])"
      ]
     },
     "execution_count": 21,
     "metadata": {},
     "output_type": "execute_result"
    }
   ],
   "source": [
    "Chess = np.tile( np.array([[0,1],[1,0]]), (4,4))\n",
    "Chess"
   ]
  },
  {
   "cell_type": "markdown",
   "metadata": {},
   "source": [
    "#### 22. Normalize a 5x5 random matrix (★☆☆)"
   ]
  },
  {
   "cell_type": "code",
   "execution_count": 22,
   "metadata": {},
   "outputs": [
    {
     "data": {
      "text/plain": [
       "array([[0.70090114, 0.44151777, 0.        , 0.33333215, 0.19795861],\n",
       "       [0.36571513, 0.74464347, 0.2200077 , 0.40368076, 1.        ],\n",
       "       [0.62537845, 0.63673943, 0.81871639, 0.88330838, 0.17085754],\n",
       "       [0.78046431, 0.54287205, 0.22896181, 0.07399898, 0.98342782],\n",
       "       [0.05804532, 0.82525978, 0.82187288, 0.45398719, 0.6484818 ]])"
      ]
     },
     "execution_count": 22,
     "metadata": {},
     "output_type": "execute_result"
    }
   ],
   "source": [
    "Matr = np.random.random((5,5))\n",
    "Matr_max, Matr_min = Matr.max(), Matr.min()\n",
    "Matr = (Matr-Matr_min)/(Matr_max-Matr_min)\n",
    "Matr"
   ]
  },
  {
   "cell_type": "markdown",
   "metadata": {},
   "source": [
    "#### 23. Create a custom dtype that describes a color as four unsigned bytes (RGBA) (★☆☆)"
   ]
  },
  {
   "cell_type": "code",
   "execution_count": 23,
   "metadata": {},
   "outputs": [
    {
     "name": "stderr",
     "output_type": "stream",
     "text": [
      "C:\\Users\\aleks\\anaconda3\\lib\\site-packages\\ipykernel_launcher.py:4: FutureWarning: Passing (type, 1) or '1type' as a synonym of type is deprecated; in a future version of numpy, it will be understood as (type, (1,)) / '(1,)type'.\n",
      "  after removing the cwd from sys.path.\n"
     ]
    },
    {
     "data": {
      "text/plain": [
       "dtype([('r', 'u1'), ('g', 'u1'), ('b', 'u1'), ('a', 'u1')])"
      ]
     },
     "execution_count": 23,
     "metadata": {},
     "output_type": "execute_result"
    }
   ],
   "source": [
    "colour = np.dtype([(\"r\", np.ubyte, 1),\n",
    "                  (\"g\", np.ubyte, 1),\n",
    "                  (\"b\", np.ubyte, 1),\n",
    "                  (\"a\", np.ubyte, 1)])\n",
    "colour"
   ]
  },
  {
   "cell_type": "markdown",
   "metadata": {},
   "source": [
    "#### 24. Multiply a 5x3 matrix by a 3x2 matrix (real matrix product) (★☆☆)"
   ]
  },
  {
   "cell_type": "code",
   "execution_count": 24,
   "metadata": {},
   "outputs": [
    {
     "data": {
      "text/plain": [
       "array([[3., 3.],\n",
       "       [3., 3.],\n",
       "       [3., 3.],\n",
       "       [3., 3.],\n",
       "       [3., 3.]])"
      ]
     },
     "execution_count": 24,
     "metadata": {},
     "output_type": "execute_result"
    }
   ],
   "source": [
    "Prod = np.ones((5,3)) @ np.ones((3,2))\n",
    "Prod"
   ]
  },
  {
   "cell_type": "markdown",
   "metadata": {},
   "source": [
    "#### 25. Given a 1D array, negate all elements which are between 3 and 8, in place. (★☆☆)"
   ]
  },
  {
   "cell_type": "code",
   "execution_count": 25,
   "metadata": {},
   "outputs": [
    {
     "data": {
      "text/plain": [
       "array([ 0,  1,  2,  3, -4, -5, -6, -7,  8,  9, 10])"
      ]
     },
     "execution_count": 25,
     "metadata": {},
     "output_type": "execute_result"
    }
   ],
   "source": [
    "OneD = np.arange(11)\n",
    "OneD[(3 < OneD) & (OneD < 8)] *= -1\n",
    "OneD"
   ]
  },
  {
   "cell_type": "markdown",
   "metadata": {},
   "source": [
    "#### 26. What is the output of the following script? (★☆☆)\n",
    "```python\n",
    "# Author: Jake VanderPlas\n",
    "\n",
    "print(sum(range(5),-1))\n",
    "from numpy import *\n",
    "print(sum(range(5),-1))\n",
    "```"
   ]
  },
  {
   "cell_type": "code",
   "execution_count": 26,
   "metadata": {},
   "outputs": [
    {
     "name": "stdout",
     "output_type": "stream",
     "text": [
      "9\n",
      "10\n"
     ]
    }
   ],
   "source": [
    "print(sum(range(5),-1))\n",
    "from numpy import *\n",
    "print(sum(range(5),-1))"
   ]
  },
  {
   "cell_type": "markdown",
   "metadata": {},
   "source": [
    "#### 27. Consider an integer vector Z, which of these expressions are legal? (★☆☆)\n",
    "```python\n",
    "Z**Z\n",
    "2 << Z >> 2\n",
    "Z <- Z\n",
    "1j*Z\n",
    "Z/1/1\n",
    "Z<Z>Z\n",
    "```"
   ]
  },
  {
   "cell_type": "code",
   "execution_count": 70,
   "metadata": {},
   "outputs": [
    {
     "data": {
      "text/plain": [
       "(array([1, 4], dtype=int32),\n",
       " array([False, False]),\n",
       " array([0.+1.j, 0.+2.j]),\n",
       " array([1., 2.]))"
      ]
     },
     "execution_count": 70,
     "metadata": {},
     "output_type": "execute_result"
    }
   ],
   "source": [
    "Z=np.array([1,2])\n",
    "Z**Z, Z <- Z, 1j*Z, Z/1/1\n",
    "# 2 << Z >> 2 illegal \n",
    "# Z<Z>Z illegal"
   ]
  },
  {
   "cell_type": "markdown",
   "metadata": {},
   "source": [
    "#### 28. What are the result of the following expressions?\n",
    "```python\n",
    "np.array(0) / np.array(0)\n",
    "np.array(0) // np.array(0)\n",
    "np.array([np.nan]).astype(int).astype(float)\n",
    "```"
   ]
  },
  {
   "cell_type": "code",
   "execution_count": 30,
   "metadata": {},
   "outputs": [
    {
     "name": "stderr",
     "output_type": "stream",
     "text": [
      "C:\\Users\\aleks\\anaconda3\\lib\\site-packages\\ipykernel_launcher.py:1: RuntimeWarning: invalid value encountered in true_divide\n",
      "  \"\"\"Entry point for launching an IPython kernel.\n",
      "C:\\Users\\aleks\\anaconda3\\lib\\site-packages\\ipykernel_launcher.py:1: RuntimeWarning: divide by zero encountered in floor_divide\n",
      "  \"\"\"Entry point for launching an IPython kernel.\n"
     ]
    },
    {
     "data": {
      "text/plain": [
       "(nan, 0, array([-2.14748365e+09]))"
      ]
     },
     "execution_count": 30,
     "metadata": {},
     "output_type": "execute_result"
    }
   ],
   "source": [
    "np.array(0) / np.array(0), np.array(0) // np.array(0), np.array([np.nan]).astype(int).astype(float)"
   ]
  },
  {
   "cell_type": "markdown",
   "metadata": {},
   "source": [
    "#### 29. How to round away from zero a float array ? (★☆☆)"
   ]
  },
  {
   "cell_type": "code",
   "execution_count": 31,
   "metadata": {},
   "outputs": [
    {
     "data": {
      "text/plain": [
       "array([ 4., 10., -6., -9., -4., -3., -2., -7.,  5., -6.])"
      ]
     },
     "execution_count": 31,
     "metadata": {},
     "output_type": "execute_result"
    }
   ],
   "source": [
    "Arr = np.random.uniform(-10,+10,10)\n",
    "np.copysign(np.ceil(np.abs(Arr)), Arr)"
   ]
  },
  {
   "cell_type": "markdown",
   "metadata": {},
   "source": [
    "#### 30. How to find common values between two arrays? (★☆☆)"
   ]
  },
  {
   "cell_type": "code",
   "execution_count": 32,
   "metadata": {},
   "outputs": [
    {
     "data": {
      "text/plain": [
       "array([0, 1, 5, 6, 7, 9])"
      ]
     },
     "execution_count": 32,
     "metadata": {},
     "output_type": "execute_result"
    }
   ],
   "source": [
    "Matr_1 = np.random.randint(0,10,10)\n",
    "Matr_2 = np.random.randint(0,10,10)\n",
    "np.intersect1d(Matr_1,Matr_2)"
   ]
  },
  {
   "cell_type": "markdown",
   "metadata": {},
   "source": [
    "#### 31. How to ignore all numpy warnings (not recommended)? (★☆☆)"
   ]
  },
  {
   "cell_type": "code",
   "execution_count": 33,
   "metadata": {},
   "outputs": [
    {
     "data": {
      "text/plain": [
       "array([inf])"
      ]
     },
     "execution_count": 33,
     "metadata": {},
     "output_type": "execute_result"
    }
   ],
   "source": [
    "defaults = np.seterr(all=\"ignore\")\n",
    "Omg = np.ones(1) / 0\n",
    "Omg"
   ]
  },
  {
   "cell_type": "markdown",
   "metadata": {},
   "source": [
    "#### 32. Is the following expressions true? (★☆☆)\n",
    "```python\n",
    "np.sqrt(-1) == np.emath.sqrt(-1)\n",
    "```"
   ]
  },
  {
   "cell_type": "code",
   "execution_count": 34,
   "metadata": {},
   "outputs": [
    {
     "data": {
      "text/plain": [
       "False"
      ]
     },
     "execution_count": 34,
     "metadata": {},
     "output_type": "execute_result"
    }
   ],
   "source": [
    "np.sqrt(-1) == np.emath.sqrt(-1)"
   ]
  },
  {
   "cell_type": "markdown",
   "metadata": {},
   "source": [
    "#### 33. How to get the dates of yesterday, today and tomorrow? (★☆☆)"
   ]
  },
  {
   "cell_type": "code",
   "execution_count": 35,
   "metadata": {},
   "outputs": [
    {
     "data": {
      "text/plain": [
       "(numpy.datetime64('2020-12-12'),\n",
       " numpy.datetime64('2020-12-13'),\n",
       " numpy.datetime64('2020-12-14'))"
      ]
     },
     "execution_count": 35,
     "metadata": {},
     "output_type": "execute_result"
    }
   ],
   "source": [
    "yesterday = np.datetime64('today') - np.timedelta64(1)\n",
    "today     = np.datetime64('today')\n",
    "tomorrow  = np.datetime64('today') + np.timedelta64(1)\n",
    "yesterday, today, tomorrow"
   ]
  },
  {
   "cell_type": "markdown",
   "metadata": {},
   "source": [
    "#### 34. How to get all the dates corresponding to the month of July 2016? (★★☆)"
   ]
  },
  {
   "cell_type": "code",
   "execution_count": 36,
   "metadata": {},
   "outputs": [
    {
     "data": {
      "text/plain": [
       "array(['2016-07-01', '2016-07-02', '2016-07-03', '2016-07-04',\n",
       "       '2016-07-05', '2016-07-06', '2016-07-07', '2016-07-08',\n",
       "       '2016-07-09', '2016-07-10', '2016-07-11', '2016-07-12',\n",
       "       '2016-07-13', '2016-07-14', '2016-07-15', '2016-07-16',\n",
       "       '2016-07-17', '2016-07-18', '2016-07-19', '2016-07-20',\n",
       "       '2016-07-21', '2016-07-22', '2016-07-23', '2016-07-24',\n",
       "       '2016-07-25', '2016-07-26', '2016-07-27', '2016-07-28',\n",
       "       '2016-07-29', '2016-07-30', '2016-07-31'], dtype='datetime64[D]')"
      ]
     },
     "execution_count": 36,
     "metadata": {},
     "output_type": "execute_result"
    }
   ],
   "source": [
    "July = np.arange('2016-07', '2016-08', dtype='datetime64[D]')\n",
    "July"
   ]
  },
  {
   "cell_type": "markdown",
   "metadata": {},
   "source": [
    "#### 35. How to compute ((A+B)*(-A/2)) in place (without copy)? (★★☆)"
   ]
  },
  {
   "cell_type": "code",
   "execution_count": 37,
   "metadata": {},
   "outputs": [
    {
     "data": {
      "text/plain": [
       "(array([3., 3., 3.]),\n",
       " array([-1.5, -1.5, -1.5]),\n",
       " array([-1.5, -1.5, -1.5]),\n",
       " array([-1.5, -1.5, -1.5]))"
      ]
     },
     "execution_count": 37,
     "metadata": {},
     "output_type": "execute_result"
    }
   ],
   "source": [
    "A = np.ones(3)*1\n",
    "B = np.ones(3)*2\n",
    "np.add(A,B,out=B), np.divide(A,2,out=A), np.negative(A,out=A), np.multiply(A,B,out=A)"
   ]
  },
  {
   "cell_type": "markdown",
   "metadata": {},
   "source": [
    "#### 36. Extract the integer part of a random array of positive numbers using 4 different methods (★★☆)"
   ]
  },
  {
   "cell_type": "code",
   "execution_count": 38,
   "metadata": {},
   "outputs": [
    {
     "data": {
      "text/plain": [
       "(array([9., 7., 8., 2., 2., 0., 1., 7., 0., 7.]),\n",
       " array([9., 7., 8., 2., 2., 0., 1., 7., 0., 7.]),\n",
       " array([9., 7., 8., 2., 2., 0., 1., 7., 0., 7.]),\n",
       " array([9, 7, 8, 2, 2, 0, 1, 7, 0, 7]),\n",
       " array([9., 7., 8., 2., 2., 0., 1., 7., 0., 7.]))"
      ]
     },
     "execution_count": 38,
     "metadata": {},
     "output_type": "execute_result"
    }
   ],
   "source": [
    "Ex = np.random.uniform(0,10,10)\n",
    "Ex - Ex%1, Ex // 1, np.floor(Ex), Ex.astype(int), np.trunc(Ex)"
   ]
  },
  {
   "cell_type": "markdown",
   "metadata": {},
   "source": [
    "#### 37. Create a 5x5 matrix with row values ranging from 0 to 4 (★★☆)"
   ]
  },
  {
   "cell_type": "code",
   "execution_count": 39,
   "metadata": {},
   "outputs": [
    {
     "data": {
      "text/plain": [
       "array([[0., 1., 2., 3., 4.],\n",
       "       [0., 1., 2., 3., 4.],\n",
       "       [0., 1., 2., 3., 4.],\n",
       "       [0., 1., 2., 3., 4.],\n",
       "       [0., 1., 2., 3., 4.]])"
      ]
     },
     "execution_count": 39,
     "metadata": {},
     "output_type": "execute_result"
    }
   ],
   "source": [
    "Matr = np.zeros((5,5))\n",
    "Matr += np.arange(5)\n",
    "Matr"
   ]
  },
  {
   "cell_type": "markdown",
   "metadata": {},
   "source": [
    "#### 38. Consider a generator function that generates 10 integers and use it to build an array (★☆☆)"
   ]
  },
  {
   "cell_type": "code",
   "execution_count": 40,
   "metadata": {},
   "outputs": [
    {
     "data": {
      "text/plain": [
       "array([0., 1., 2., 3., 4., 5., 6., 7., 8., 9.])"
      ]
     },
     "execution_count": 40,
     "metadata": {},
     "output_type": "execute_result"
    }
   ],
   "source": [
    "def generate(): \n",
    "    for x in range(10):\n",
    "        yield x\n",
    "        \n",
    "Arr = np.fromiter(generate(), dtype=float, count=-1)\n",
    "Arr"
   ]
  },
  {
   "cell_type": "markdown",
   "metadata": {},
   "source": [
    "#### 39. Create a vector of size 10 with values ranging from 0 to 1, both excluded (★★☆)"
   ]
  },
  {
   "cell_type": "code",
   "execution_count": 41,
   "metadata": {},
   "outputs": [
    {
     "data": {
      "text/plain": [
       "array([0.09090909, 0.18181818, 0.27272727, 0.36363636, 0.45454545,\n",
       "       0.54545455, 0.63636364, 0.72727273, 0.81818182, 0.90909091])"
      ]
     },
     "execution_count": 41,
     "metadata": {},
     "output_type": "execute_result"
    }
   ],
   "source": [
    "Vector = np.linspace(0,1,12,endpoint=True)[1:-1]\n",
    "Vector"
   ]
  },
  {
   "cell_type": "markdown",
   "metadata": {},
   "source": [
    "#### 40. Create a random vector of size 10 and sort it (★★☆)"
   ]
  },
  {
   "cell_type": "code",
   "execution_count": 42,
   "metadata": {},
   "outputs": [
    {
     "data": {
      "text/plain": [
       "array([0.13196036, 0.16671813, 0.19555945, 0.26388379, 0.31899133,\n",
       "       0.3246333 , 0.37560845, 0.45007205, 0.58068083, 0.58550795])"
      ]
     },
     "execution_count": 42,
     "metadata": {},
     "output_type": "execute_result"
    }
   ],
   "source": [
    "SortVec = np.random.random(10)\n",
    "SortVec.sort()\n",
    "SortVec"
   ]
  },
  {
   "cell_type": "markdown",
   "metadata": {},
   "source": [
    "#### 41. How to sum a small array faster than np.sum? (★★☆)"
   ]
  },
  {
   "cell_type": "code",
   "execution_count": 43,
   "metadata": {},
   "outputs": [
    {
     "data": {
      "text/plain": [
       "45"
      ]
     },
     "execution_count": 43,
     "metadata": {},
     "output_type": "execute_result"
    }
   ],
   "source": [
    "Arr = np.arange(10)\n",
    "np.add.reduce(Arr)"
   ]
  },
  {
   "cell_type": "markdown",
   "metadata": {},
   "source": [
    "#### 42. Consider two random array A and B, check if they are equal (★★☆)"
   ]
  },
  {
   "cell_type": "code",
   "execution_count": 44,
   "metadata": {},
   "outputs": [
    {
     "data": {
      "text/plain": [
       "False"
      ]
     },
     "execution_count": 44,
     "metadata": {},
     "output_type": "execute_result"
    }
   ],
   "source": [
    "A = np.random.randint(0,2,5)\n",
    "B = np.random.randint(0,2,5)\n",
    "equal = np.allclose(A,B)\n",
    "equal"
   ]
  },
  {
   "cell_type": "markdown",
   "metadata": {},
   "source": [
    "#### 43. Make an array immutable (read-only) (★★☆)"
   ]
  },
  {
   "cell_type": "code",
   "execution_count": 45,
   "metadata": {},
   "outputs": [
    {
     "ename": "ValueError",
     "evalue": "assignment destination is read-only",
     "output_type": "error",
     "traceback": [
      "\u001b[1;31m---------------------------------------------------------------------------\u001b[0m",
      "\u001b[1;31mValueError\u001b[0m                                Traceback (most recent call last)",
      "\u001b[1;32m<ipython-input-45-0e9dabc5e687>\u001b[0m in \u001b[0;36m<module>\u001b[1;34m\u001b[0m\n\u001b[0;32m      1\u001b[0m \u001b[0mArr\u001b[0m \u001b[1;33m=\u001b[0m \u001b[0mnp\u001b[0m\u001b[1;33m.\u001b[0m\u001b[0mzeros\u001b[0m\u001b[1;33m(\u001b[0m\u001b[1;36m10\u001b[0m\u001b[1;33m)\u001b[0m\u001b[1;33m\u001b[0m\u001b[1;33m\u001b[0m\u001b[0m\n\u001b[0;32m      2\u001b[0m \u001b[0mArr\u001b[0m\u001b[1;33m.\u001b[0m\u001b[0mflags\u001b[0m\u001b[1;33m.\u001b[0m\u001b[0mwriteable\u001b[0m \u001b[1;33m=\u001b[0m \u001b[1;32mFalse\u001b[0m\u001b[1;33m\u001b[0m\u001b[1;33m\u001b[0m\u001b[0m\n\u001b[1;32m----> 3\u001b[1;33m \u001b[0mArr\u001b[0m\u001b[1;33m[\u001b[0m\u001b[1;36m0\u001b[0m\u001b[1;33m]\u001b[0m \u001b[1;33m=\u001b[0m \u001b[1;36m1\u001b[0m\u001b[1;33m\u001b[0m\u001b[1;33m\u001b[0m\u001b[0m\n\u001b[0m",
      "\u001b[1;31mValueError\u001b[0m: assignment destination is read-only"
     ]
    }
   ],
   "source": [
    "Arr = np.zeros(10)\n",
    "Arr.flags.writeable = False\n",
    "Arr[0] = 1"
   ]
  },
  {
   "cell_type": "markdown",
   "metadata": {},
   "source": [
    "#### 44. Consider a random 10x2 matrix representing cartesian coordinates, convert them to polar coordinates (★★☆)"
   ]
  },
  {
   "cell_type": "code",
   "execution_count": 46,
   "metadata": {},
   "outputs": [
    {
     "data": {
      "text/plain": [
       "(array([0.22033689, 0.38368817, 1.08688722, 0.65457964, 1.22845585,\n",
       "        0.77003686, 0.15015436, 1.07977702, 0.3088097 , 0.97552177]),\n",
       " array([0.85149594, 1.15720637, 0.95257938, 0.20352186, 0.77142562,\n",
       "        1.08615323, 0.92500146, 1.07170805, 0.01037308, 1.21519591]))"
      ]
     },
     "execution_count": 46,
     "metadata": {},
     "output_type": "execute_result"
    }
   ],
   "source": [
    "DecCor = np.random.random((10,2))\n",
    "X,Y = DecCor[:,0], DecCor[:,1]\n",
    "R = np.sqrt(X**2+Y**2)\n",
    "Phi = np.arctan2(Y,X)\n",
    "R, Phi"
   ]
  },
  {
   "cell_type": "markdown",
   "metadata": {},
   "source": [
    "#### 45. Create random vector of size 10 and replace the maximum value by 0 (★★☆)"
   ]
  },
  {
   "cell_type": "code",
   "execution_count": 47,
   "metadata": {},
   "outputs": [
    {
     "data": {
      "text/plain": [
       "array([0.        , 0.33336175, 0.80218876, 0.4406758 , 0.34520864,\n",
       "       0.63456118, 0.12991199, 0.26104482, 0.17970787, 0.77931454])"
      ]
     },
     "execution_count": 47,
     "metadata": {},
     "output_type": "execute_result"
    }
   ],
   "source": [
    "Vec = np.random.random(10)\n",
    "Vec[Vec.argmax()] = 0\n",
    "Vec"
   ]
  },
  {
   "cell_type": "markdown",
   "metadata": {},
   "source": [
    "#### 46. Create a structured array with `x` and `y` coordinates covering the [0,1]x[0,1] area (★★☆)"
   ]
  },
  {
   "cell_type": "code",
   "execution_count": 48,
   "metadata": {},
   "outputs": [
    {
     "data": {
      "text/plain": [
       "array([[(0.  , 0.  ), (0.25, 0.  ), (0.5 , 0.  ), (0.75, 0.  ),\n",
       "        (1.  , 0.  )],\n",
       "       [(0.  , 0.25), (0.25, 0.25), (0.5 , 0.25), (0.75, 0.25),\n",
       "        (1.  , 0.25)],\n",
       "       [(0.  , 0.5 ), (0.25, 0.5 ), (0.5 , 0.5 ), (0.75, 0.5 ),\n",
       "        (1.  , 0.5 )],\n",
       "       [(0.  , 0.75), (0.25, 0.75), (0.5 , 0.75), (0.75, 0.75),\n",
       "        (1.  , 0.75)],\n",
       "       [(0.  , 1.  ), (0.25, 1.  ), (0.5 , 1.  ), (0.75, 1.  ),\n",
       "        (1.  , 1.  )]], dtype=[('x', '<f8'), ('y', '<f8')])"
      ]
     },
     "execution_count": 48,
     "metadata": {},
     "output_type": "execute_result"
    }
   ],
   "source": [
    "Arr = np.zeros((5,5), [('x',float),('y',float)])\n",
    "Arr['x'], Arr['y'] = np.meshgrid(np.linspace(0,1,5), np.linspace(0,1,5))\n",
    "Arr"
   ]
  },
  {
   "cell_type": "markdown",
   "metadata": {},
   "source": [
    "#### 47. Given two arrays, X and Y, construct the Cauchy matrix C (Cij =1/(xi - yj))"
   ]
  },
  {
   "cell_type": "code",
   "execution_count": 49,
   "metadata": {},
   "outputs": [
    {
     "data": {
      "text/plain": [
       "(array([[-2.        , -0.66666667, -0.4       , -0.28571429, -0.22222222,\n",
       "         -0.18181818, -0.15384615, -0.13333333],\n",
       "        [ 2.        , -2.        , -0.66666667, -0.4       , -0.28571429,\n",
       "         -0.22222222, -0.18181818, -0.15384615],\n",
       "        [ 0.66666667,  2.        , -2.        , -0.66666667, -0.4       ,\n",
       "         -0.28571429, -0.22222222, -0.18181818],\n",
       "        [ 0.4       ,  0.66666667,  2.        , -2.        , -0.66666667,\n",
       "         -0.4       , -0.28571429, -0.22222222],\n",
       "        [ 0.28571429,  0.4       ,  0.66666667,  2.        , -2.        ,\n",
       "         -0.66666667, -0.4       , -0.28571429],\n",
       "        [ 0.22222222,  0.28571429,  0.4       ,  0.66666667,  2.        ,\n",
       "         -2.        , -0.66666667, -0.4       ],\n",
       "        [ 0.18181818,  0.22222222,  0.28571429,  0.4       ,  0.66666667,\n",
       "          2.        , -2.        , -0.66666667],\n",
       "        [ 0.15384615,  0.18181818,  0.22222222,  0.28571429,  0.4       ,\n",
       "          0.66666667,  2.        , -2.        ]]),\n",
       " 3638.1636371179666)"
      ]
     },
     "execution_count": 49,
     "metadata": {},
     "output_type": "execute_result"
    }
   ],
   "source": [
    "X = np.arange(8)\n",
    "Y = X + 0.5\n",
    "C = 1.0 / np.subtract.outer(X, Y)\n",
    "C, np.linalg.det(C)"
   ]
  },
  {
   "cell_type": "markdown",
   "metadata": {},
   "source": [
    "#### 48. Print the minimum and maximum representable value for each numpy scalar type (★★☆)"
   ]
  },
  {
   "cell_type": "code",
   "execution_count": 50,
   "metadata": {},
   "outputs": [
    {
     "name": "stdout",
     "output_type": "stream",
     "text": [
      "-128\n",
      "127\n",
      "-2147483648\n",
      "2147483647\n",
      "-9223372036854775808\n",
      "9223372036854775807\n",
      "-3.4028235e+38\n",
      "3.4028235e+38\n",
      "1.1920929e-07\n",
      "-1.7976931348623157e+308\n",
      "1.7976931348623157e+308\n",
      "2.220446049250313e-16\n"
     ]
    }
   ],
   "source": [
    "for dtype in [np.int8, np.int32, np.int64]:\n",
    "   print(np.iinfo(dtype).min)\n",
    "   print(np.iinfo(dtype).max)\n",
    "for dtype in [np.float32, np.float64]:\n",
    "   print(np.finfo(dtype).min)\n",
    "   print(np.finfo(dtype).max)\n",
    "   print(np.finfo(dtype).eps)"
   ]
  },
  {
   "cell_type": "markdown",
   "metadata": {},
   "source": [
    "#### 49. How to print all the values of an array? (★★☆)"
   ]
  },
  {
   "cell_type": "code",
   "execution_count": 51,
   "metadata": {},
   "outputs": [
    {
     "data": {
      "text/plain": [
       "array([[0., 0., 0., 0., 0., 0., 0., 0., 0., 0., 0., 0., 0., 0., 0., 0.],\n",
       "       [0., 0., 0., 0., 0., 0., 0., 0., 0., 0., 0., 0., 0., 0., 0., 0.],\n",
       "       [0., 0., 0., 0., 0., 0., 0., 0., 0., 0., 0., 0., 0., 0., 0., 0.],\n",
       "       [0., 0., 0., 0., 0., 0., 0., 0., 0., 0., 0., 0., 0., 0., 0., 0.],\n",
       "       [0., 0., 0., 0., 0., 0., 0., 0., 0., 0., 0., 0., 0., 0., 0., 0.],\n",
       "       [0., 0., 0., 0., 0., 0., 0., 0., 0., 0., 0., 0., 0., 0., 0., 0.],\n",
       "       [0., 0., 0., 0., 0., 0., 0., 0., 0., 0., 0., 0., 0., 0., 0., 0.],\n",
       "       [0., 0., 0., 0., 0., 0., 0., 0., 0., 0., 0., 0., 0., 0., 0., 0.],\n",
       "       [0., 0., 0., 0., 0., 0., 0., 0., 0., 0., 0., 0., 0., 0., 0., 0.],\n",
       "       [0., 0., 0., 0., 0., 0., 0., 0., 0., 0., 0., 0., 0., 0., 0., 0.],\n",
       "       [0., 0., 0., 0., 0., 0., 0., 0., 0., 0., 0., 0., 0., 0., 0., 0.],\n",
       "       [0., 0., 0., 0., 0., 0., 0., 0., 0., 0., 0., 0., 0., 0., 0., 0.],\n",
       "       [0., 0., 0., 0., 0., 0., 0., 0., 0., 0., 0., 0., 0., 0., 0., 0.],\n",
       "       [0., 0., 0., 0., 0., 0., 0., 0., 0., 0., 0., 0., 0., 0., 0., 0.],\n",
       "       [0., 0., 0., 0., 0., 0., 0., 0., 0., 0., 0., 0., 0., 0., 0., 0.],\n",
       "       [0., 0., 0., 0., 0., 0., 0., 0., 0., 0., 0., 0., 0., 0., 0., 0.]])"
      ]
     },
     "execution_count": 51,
     "metadata": {},
     "output_type": "execute_result"
    }
   ],
   "source": [
    "np.set_printoptions(threshold=float(\"inf\"))\n",
    "Matrix = np.zeros((16,16))\n",
    "Matrix"
   ]
  },
  {
   "cell_type": "markdown",
   "metadata": {},
   "source": [
    "#### 50. How to find the closest value (to a given scalar) in a vector? (★★☆)"
   ]
  },
  {
   "cell_type": "code",
   "execution_count": 52,
   "metadata": {},
   "outputs": [
    {
     "name": "stdout",
     "output_type": "stream",
     "text": [
      "29\n"
     ]
    }
   ],
   "source": [
    "Vec = np.arange(100)\n",
    "Matr = np.random.uniform(0,100)\n",
    "index = (np.abs(Vec-Matr)).argmin()\n",
    "print(Vec[index])"
   ]
  },
  {
   "cell_type": "markdown",
   "metadata": {},
   "source": [
    "#### 51. Create a structured array representing a position (x,y) and a color (r,g,b) (★★☆)"
   ]
  },
  {
   "cell_type": "code",
   "execution_count": 53,
   "metadata": {},
   "outputs": [
    {
     "name": "stderr",
     "output_type": "stream",
     "text": [
      "C:\\Users\\aleks\\anaconda3\\lib\\site-packages\\ipykernel_launcher.py:5: FutureWarning: Passing (type, 1) or '1type' as a synonym of type is deprecated; in a future version of numpy, it will be understood as (type, (1,)) / '(1,)type'.\n",
      "  \"\"\"\n"
     ]
    },
    {
     "data": {
      "text/plain": [
       "array([((0., 0.), (0., 0., 0.)), ((0., 0.), (0., 0., 0.)),\n",
       "       ((0., 0.), (0., 0., 0.)), ((0., 0.), (0., 0., 0.)),\n",
       "       ((0., 0.), (0., 0., 0.)), ((0., 0.), (0., 0., 0.)),\n",
       "       ((0., 0.), (0., 0., 0.)), ((0., 0.), (0., 0., 0.)),\n",
       "       ((0., 0.), (0., 0., 0.)), ((0., 0.), (0., 0., 0.))],\n",
       "      dtype=[('position', [('x', '<f8'), ('y', '<f8')]), ('colour', [('r', '<f8'), ('g', '<f8'), ('b', '<f8')])])"
      ]
     },
     "execution_count": 53,
     "metadata": {},
     "output_type": "execute_result"
    }
   ],
   "source": [
    "Rgb = np.zeros(10, [ ('position', [ ('x', float, 1),\n",
    "                                  ('y', float, 1)]),\n",
    "                   ('colour',    [ ('r', float, 1),\n",
    "                                  ('g', float, 1),\n",
    "                                  ('b', float, 1)])])\n",
    "Rgb"
   ]
  },
  {
   "cell_type": "markdown",
   "metadata": {},
   "source": [
    "#### 52. Consider a random vector with shape (100,2) representing coordinates, find point by point distances (★★☆)"
   ]
  },
  {
   "cell_type": "code",
   "execution_count": 54,
   "metadata": {},
   "outputs": [
    {
     "name": "stdout",
     "output_type": "stream",
     "text": [
      "[[0.         0.49050717 0.51897714 0.60486169 0.37737244 0.60994532\n",
      "  0.46197959 0.21396291 0.21983226 0.3570678  0.19248003 0.82141011\n",
      "  0.45842574 0.19747771 0.65926238 0.08758815 0.363869   0.56861194\n",
      "  0.23079768 0.76967087 0.37653585 0.32959406 0.17132106 0.67831921\n",
      "  0.62349579 0.51806749 0.36780916 0.48826335 0.01648796 0.52501111\n",
      "  0.53871836 0.3870766  0.54418332 0.70740945 0.31291111 0.1863735\n",
      "  0.04335834 0.62889863 0.46356524 0.70042278 0.3640413  0.5539048\n",
      "  0.32454771 0.56309196 0.29857835 0.27861808 0.58992433 0.06566358\n",
      "  0.43544066 0.58260515 0.34761123 0.58292249 0.59146031 0.69186893\n",
      "  0.46428991 0.59004479 0.38693386 0.55547679 0.2480263  0.18595945\n",
      "  0.46019672 0.30239124 0.70711737 0.91825211 0.57755644 0.3352771\n",
      "  0.38164927 0.76036049 0.2411982  0.75508696 0.03428903 0.40997035\n",
      "  0.63059789 0.38306962 0.56521215 0.26944756 0.15506776 0.4460187\n",
      "  0.47687687 0.6520144  0.51795428 0.40428175 0.49816978 0.61020054\n",
      "  0.48120843 0.57113146 0.43219934 0.67862721 0.53599165 0.48106212\n",
      "  0.47354199 0.13318172 0.41607373 0.62735331 0.65064078 0.45324023\n",
      "  0.65479611 0.5861098  0.49571536 0.40789897]\n",
      " [0.49050717 0.         0.91673374 0.68644846 0.28584833 0.54972987\n",
      "  0.66360368 0.32085071 0.65206836 0.1780225  0.43945087 0.77394847\n",
      "  0.93047823 0.67814726 1.03682192 0.45845852 0.67367303 0.7908364\n",
      "  0.62434401 0.81509068 0.84968958 0.81514982 0.59365983 1.10456481\n",
      "  0.72141874 0.82445211 0.71225512 0.48195361 0.47412235 0.90260596\n",
      "  0.988031   0.48434264 0.05369177 1.08328473 0.78716596 0.4691138\n",
      "  0.44718595 0.14479001 0.86853148 0.56752341 0.35213357 0.97169108\n",
      "  0.53610522 0.90053946 0.41850076 0.67538698 0.97379696 0.4319958\n",
      "  0.8410383  0.30102201 0.23596185 0.71041992 0.70287259 0.9636279\n",
      "  0.55522699 0.6555932  0.87743816 0.99006465 0.34975459 0.67607737\n",
      "  0.45785494 0.61041709 0.84772262 0.89476531 0.18198508 0.79008859\n",
      "  0.1172675  0.88573871 0.43234431 1.13871363 0.45954208 0.59606164\n",
      "  0.55268493 0.1074663  1.0158167  0.35239392 0.59815086 0.26899458\n",
      "  0.19160376 0.9933671  0.10617114 0.8921204  0.08323341 0.33787863\n",
      "  0.42616067 0.14007108 0.76767783 0.68918769 0.97685989 0.86877779\n",
      "  0.94685025 0.45557771 0.77426189 0.7235192  0.8700971  0.54190811\n",
      "  0.60706498 0.4712928  0.01795153 0.80795882]\n",
      " [0.51897714 0.91673374 0.         0.51288907 0.66748069 0.66546011\n",
      "  0.35711553 0.5991394  0.29924065 0.84051048 0.70734576 0.75151168\n",
      "  0.23466453 0.35700867 0.14222447 0.49109068 0.25764342 0.32277983\n",
      "  0.64944741 0.62061027 0.54301752 0.32187006 0.35239211 0.19475468\n",
      "  0.49843164 0.18759824 0.7647412  0.58883351 0.53111175 0.04645912\n",
      "  0.15718815 0.4974759  0.96601128 0.18952688 0.52290267 0.69447851\n",
      "  0.54932522 1.02434398 0.05565859 0.77236775 0.60580368 0.06953972\n",
      "  0.40368934 0.13168388 0.51422128 0.66496372 0.07365125 0.5794399\n",
      "  0.72818637 0.84100228 0.69181439 0.45266608 0.4741753  0.29088408\n",
      "  0.48962127 0.52788951 0.39993328 0.11636996 0.76569198 0.40969169\n",
      "  0.58434617 0.75460932 0.4758117  0.78658648 0.91602686 0.21383988\n",
      "  0.83734509 0.52080996 0.48631753 0.23617839 0.5502528  0.3914488\n",
      "  0.68979099 0.82001455 0.17419917 0.78770094 0.36415823 0.72724537\n",
      "  0.80441749 0.16940789 0.98088349 0.33812812 0.88470548 0.84724066\n",
      "  0.63322092 0.93503259 0.17185479 0.61742579 0.12703429 0.04957842\n",
      "  0.24285441 0.47440621 0.77936316 0.50165218 0.34708629 0.49314575\n",
      "  0.66923417 0.7084667  0.9138977  0.11298044]\n",
      " [0.60486169 0.68644846 0.51288907 0.         0.40657679 0.19090578\n",
      "  0.17758021 0.48741445 0.50178657 0.71836742 0.76281208 0.24860264\n",
      "  0.69621922 0.60860526 0.54993851 0.5199464  0.32174204 0.20196339\n",
      "  0.83206389 0.16484071 0.88180512 0.69047436 0.49251302 0.68732329\n",
      "  0.03641363 0.32783469 0.97033761 0.20483852 0.60311132 0.47052755\n",
      "  0.66308771 0.23689502 0.71662911 0.579811   0.83115808 0.7709201\n",
      "  0.59817168 0.7292105  0.50317329 0.28038949 0.34803292 0.58173125\n",
      "  0.28102487 0.40583999 0.33592217 0.87497664 0.52018093 0.62186184\n",
      "  1.01176271 0.46184635 0.46844659 0.06171182 0.04001075 0.3579648\n",
      "  0.15035882 0.03239546 0.79032204 0.62874667 0.75742874 0.65949567\n",
      "  0.22887126 0.90638604 0.16496077 0.3204578  0.58771772 0.57542088\n",
      "  0.67236125 0.19929122 0.37714782 0.6334654  0.61255491 0.20076153\n",
      "  0.20938087 0.63591955 0.68426516 0.77922788 0.52121854 0.41934934\n",
      "  0.50444068 0.46580448 0.78598686 0.75220337 0.61690279 0.44787877\n",
      "  0.26272355 0.62732399 0.35732284 0.10498064 0.63522458 0.4723148\n",
      "  0.71088803 0.47411449 1.01369353 0.03769192 0.23914961 0.16407129\n",
      "  0.16910778 0.26697109 0.67428144 0.47139809]\n",
      " [0.37737244 0.28584833 0.66748069 0.40657679 0.         0.30231001\n",
      "  0.38049571 0.16649839 0.44870734 0.32081636 0.44945876 0.53642219\n",
      "  0.73144924 0.51244535 0.77465164 0.30298904 0.41230721 0.50635563\n",
      "  0.58943261 0.54791276 0.74952971 0.64520046 0.39742345 0.86123758\n",
      "  0.44034539 0.55109895 0.71428857 0.20685816 0.3652521  0.64597562\n",
      "  0.76441673 0.19965484 0.32384527 0.81915085 0.6866326  0.46952358\n",
      "  0.34413448 0.36280795 0.62545743 0.36062296 0.06749758 0.72916999\n",
      "  0.266821   0.6313746  0.15342235 0.64178565 0.71620387 0.34997608\n",
      "  0.80676346 0.20840636 0.06550026 0.4259322  0.41964068 0.68081629\n",
      "  0.2698033  0.37712158 0.72847536 0.7562146  0.4057679  0.53356998\n",
      "  0.17897936 0.62499744 0.56454571 0.65268688 0.24902725 0.58436136\n",
      "  0.26771878 0.60500438 0.19322922 0.87571603 0.36149711 0.31441655\n",
      "  0.31394899 0.22997652 0.79189539 0.42339455 0.41353101 0.07108038\n",
      "  0.13694375 0.72197668 0.3809141  0.72373392 0.22886328 0.23340381\n",
      "  0.16036927 0.26853062 0.50539988 0.42594089 0.74773397 0.61803512\n",
      "  0.74848343 0.27301108 0.77092224 0.44275775 0.58461657 0.25632432\n",
      "  0.35927839 0.24406306 0.27614948 0.56706105]\n",
      " [0.60994532 0.54972987 0.66546011 0.19090578 0.30231001 0.\n",
      "  0.30834764 0.43704571 0.57495878 0.62154538 0.73078637 0.23411393\n",
      "  0.81598307 0.6722861  0.72395494 0.5227371  0.43239906 0.3816416\n",
      "  0.83976918 0.27063148 0.94201388 0.77948187 0.54674036 0.85141956\n",
      "  0.22512635 0.49161105 0.97433832 0.12170501 0.60317613 0.62768855\n",
      "  0.80446133 0.23067727 0.57025853 0.75795307 0.88452066 0.74591586\n",
      "  0.59015292 0.56610489 0.64446169 0.10873856 0.26799006 0.7349341\n",
      "  0.3269754  0.57502404 0.31139978 0.88853731 0.68563645 0.60654229\n",
      "  1.04211407 0.28622323 0.36754028 0.24581688 0.22676075 0.54713948\n",
      "  0.18500493 0.16109526 0.87675913 0.77737305 0.70132672 0.71361026\n",
      "  0.15021232 0.89556847 0.34756013 0.35135837 0.42161391 0.67943573\n",
      "  0.56342321 0.36875035 0.36930848 0.81320105 0.6069076  0.28618469\n",
      "  0.02494769 0.52350277 0.82840041 0.7205067  0.57297888 0.28479034\n",
      "  0.35854688 0.6451076  0.65470576 0.85033883 0.47176331 0.26595783\n",
      "  0.14360964 0.46593528 0.49672211 0.14501404 0.77926647 0.6198331\n",
      "  0.8320547  0.47857857 1.02536123 0.22496529 0.4291522  0.18737474\n",
      "  0.0579437  0.08444309 0.53500035 0.60111169]\n",
      " [0.46197959 0.66360368 0.35711553 0.17758021 0.38049571 0.30834764\n",
      "  0.         0.39742275 0.32902912 0.6506199  0.63799076 0.4259695\n",
      "  0.52183864 0.43679854 0.42519423 0.38406362 0.14422963 0.1286696\n",
      "  0.68006158 0.32888276 0.7082776  0.51313593 0.32750541 0.54462201\n",
      "  0.18016364 0.18976714 0.81779556 0.24148325 0.46358684 0.31995723\n",
      "  0.49846279 0.18122445 0.70404115 0.46387562 0.65984039 0.64083098\n",
      "  0.46441454 0.73959734 0.33779259 0.41556177 0.31302943 0.42658675\n",
      "  0.14989893 0.27484918 0.25293971 0.71911027 0.38055029 0.49183196\n",
      "  0.84671278 0.51095011 0.42827648 0.13214206 0.14788107 0.30035982\n",
      "  0.13869002 0.18189462 0.61298792 0.46945653 0.65129715 0.49002926\n",
      "  0.24489986 0.7633236  0.2451394  0.49348463 0.61098511 0.39796689\n",
      "  0.61967081 0.29852693 0.26857316 0.52059471 0.47633646 0.0686469\n",
      "  0.33271991 0.58947155 0.52161109 0.67425408 0.35620817 0.42178297\n",
      "  0.50793204 0.3561545  0.75127411 0.57468488 0.60914723 0.5099151\n",
      "  0.29406211 0.64079308 0.18953047 0.27941715 0.47235621 0.31170796\n",
      "  0.53697756 0.34116654 0.85672112 0.18417062 0.21199066 0.14589494\n",
      "  0.31516775 0.355152   0.65530316 0.29921808]\n",
      " [0.21396291 0.32085071 0.5991394  0.48741445 0.16649839 0.43704571\n",
      "  0.39742275 0.         0.33258014 0.25640991 0.29395478 0.66540366\n",
      "  0.61434911 0.37211627 0.72457009 0.15033776 0.36779286 0.5243909\n",
      "  0.42321043 0.64640128 0.58977163 0.50924966 0.27481513 0.78463745\n",
      "  0.51515908 0.52702221 0.5499259  0.32105124 0.20074841 0.58837645\n",
      "  0.66742721 0.25055383 0.37241753 0.77200148 0.52630918 0.31048939\n",
      "  0.17836619 0.44359858 0.54946752 0.51318541 0.17052899 0.65201034\n",
      "  0.24988441 0.59608659 0.15245008 0.47541763 0.65936463 0.1835396\n",
      "  0.64028408 0.36885059 0.13431122 0.48634478 0.48737681 0.68362333\n",
      "  0.33708054 0.46402647 0.58361829 0.66931083 0.27115916 0.38310027\n",
      "  0.29036653 0.46367868 0.6248185  0.77439649 0.37072535 0.47131045\n",
      "  0.23964405 0.67296722 0.13078521 0.82620449 0.19559725 0.33012068\n",
      "  0.45386787 0.22093767 0.69522942 0.29242002 0.28253852 0.2329889\n",
      "  0.26524271 0.68991588 0.38233469 0.58787035 0.30489435 0.39724481\n",
      "  0.29612575 0.37125519 0.4595838  0.53603524 0.65601167 0.55214975\n",
      "  0.63102279 0.13650287 0.60562316 0.51844487 0.60886966 0.32334703\n",
      "  0.48940078 0.39570762 0.32039734 0.48879034]\n",
      " [0.21983226 0.65206836 0.29924065 0.50178657 0.44870734 0.57495878\n",
      "  0.32902912 0.33258014 0.         0.55227669 0.40983512 0.74509962\n",
      "  0.28423029 0.10788829 0.43948123 0.20006917 0.19251002 0.40204902\n",
      "  0.38165885 0.65788532 0.38002444 0.20665939 0.05875233 0.46567286\n",
      "  0.50876137 0.31951275 0.51295178 0.46257914 0.23187899 0.30599783\n",
      "  0.33703798 0.3492874  0.70434913 0.48759705 0.33084566 0.39906326\n",
      "  0.25065098 0.77564839 0.24396168 0.68044556 0.40313255 0.33735442\n",
      "  0.24802742 0.35091834 0.30795823 0.41093398 0.37012318 0.28048211\n",
      "  0.52189059 0.65100846 0.45087726 0.46115902 0.47612773 0.49341527\n",
      "  0.39512855 0.49814751 0.30204212 0.34497768 0.46659213 0.16304358\n",
      "  0.44342813 0.47995311 0.56010864 0.82137506 0.69042885 0.13891722\n",
      "  0.55907293 0.61426972 0.25641407 0.53540856 0.2510439  0.30504101\n",
      "  0.59923002 0.54839789 0.36469332 0.48851035 0.0649293  0.51823905\n",
      "  0.57872842 0.43630051 0.70231551 0.28196865 0.63607383 0.66853851\n",
      "  0.48262169 0.69828322 0.23053915 0.59615532 0.3286015  0.26157872\n",
      "  0.30116824 0.19654333 0.54321873 0.51278383 0.47532925 0.38961458\n",
      "  0.604253   0.58240279 0.65254009 0.18818696]\n",
      " [0.3570678  0.1780225  0.84051048 0.71836742 0.32081636 0.62154538\n",
      "  0.6506199  0.25640991 0.55227669 0.         0.2668095  0.85526327\n",
      "  0.8142169  0.55400561 0.97199528 0.35238419 0.62206736 0.77866758\n",
      "  0.4541135  0.86681318 0.69079334 0.68637113 0.49419528 1.01740743\n",
      "  0.74983612 0.78255407 0.53522743 0.52605497 0.34083627 0.83484709\n",
      "  0.88702701 0.48851804 0.22393593 1.02000536 0.63001602 0.29703489\n",
      "  0.31515605 0.32023558 0.78795964 0.66641863 0.37119748 0.88715007\n",
      "  0.50539798 0.84927738 0.39880997 0.5036462  0.90496435 0.29239493\n",
      "  0.66699865 0.42974699 0.25539002 0.72759906 0.72528972 0.93995973\n",
      "  0.57192505 0.69099899 0.73633152 0.89725359 0.17336453 0.54042269\n",
      "  0.49680821 0.43320601 0.86766812 0.97275404 0.3419847  0.68358045\n",
      "  0.07134429 0.91265514 0.38702948 1.07276102 0.32318309 0.58236299\n",
      "  0.6311286  0.10937178 0.91428568 0.17452707 0.49098476 0.3435614\n",
      "  0.30027532 0.94304692 0.16440428 0.75981409 0.23533853 0.46724181\n",
      "  0.48108504 0.30923198 0.71205441 0.74632109 0.88051418 0.79578212\n",
      "  0.82967392 0.36627962 0.59726773 0.75269008 0.86260393 0.55783256\n",
      "  0.67906147 0.55551548 0.192095   0.72787746]\n",
      " [0.19248003 0.43945087 0.70734576 0.76281208 0.44945876 0.73078637\n",
      "  0.63799076 0.29395478 0.40983512 0.2668095  0.         0.95721425\n",
      "  0.61715501 0.3641351  0.84870102 0.25506372 0.55285744 0.75213984\n",
      "  0.18763346 0.92632462 0.43299686 0.47569804 0.363693   0.85696137\n",
      "  0.78604393 0.70951134 0.27839594 0.61333162 0.18404635 0.71582316\n",
      "  0.71086461 0.53010261 0.4888108  0.89660106 0.37560582 0.03034038\n",
      "  0.17570683 0.58402251 0.6517041  0.80591023 0.46432948 0.73745164\n",
      "  0.49185047 0.75556129 0.43166742 0.2368561  0.77931482 0.14662436\n",
      "  0.40159038 0.62776339 0.39643546 0.74996345 0.75545514 0.88264138\n",
      "  0.61465507 0.74336097 0.50275154 0.73368872 0.09722902 0.329307\n",
      "  0.58288399 0.1802798  0.88118903 1.06327787 0.57844304 0.51224082\n",
      "  0.32256021 0.93308789 0.38567201 0.94273567 0.16716312 0.57933028\n",
      "  0.74781695 0.3442877  0.73593369 0.10774204 0.34591984 0.50496443\n",
      "  0.50228144 0.84421162 0.42640695 0.53929558 0.47877961 0.66175581\n",
      "  0.59002454 0.55625348 0.62433177 0.82314715 0.71218707 0.6713592\n",
      "  0.63035308 0.29682619 0.339507   0.78969057 0.83565441 0.60190198\n",
      "  0.78238064 0.68828278 0.45094564 0.59783482]\n",
      " [0.82141011 0.77394847 0.75151168 0.24860264 0.53642219 0.23411393\n",
      "  0.4259695  0.66540366 0.74509962 0.85526327 0.95721425 0.\n",
      "  0.94390444 0.85031048 0.76753802 0.73397458 0.56986538 0.42959814\n",
      "  1.0521026  0.15064768 1.12408609 0.93798829 0.72989475 0.91402729\n",
      "  0.2546589  0.56395915 1.1891005  0.34435466 0.81679457 0.70714235\n",
      "  0.90529222 0.43447256 0.78865856 0.78962447 1.07113382 0.97033578\n",
      "  0.80699648 0.77011993 0.74707409 0.21469214 0.4993591  0.81885299\n",
      "  0.50946429 0.63419841 0.52825755 1.09838996 0.74890263 0.82640524\n",
      "  1.24385527 0.48761715 0.60164272 0.30287173 0.28270496 0.54455475\n",
      "  0.35993121 0.24722471 1.03776967 0.86787807 0.93304206 0.89863146\n",
      "  0.37504297 1.11598929 0.30396273 0.12103072 0.62734908 0.82392997\n",
      "  0.79595907 0.28759185 0.58156095 0.83854373 0.82299174 0.44014911\n",
      "  0.22452918 0.75571818 0.92505726 0.95271344 0.75811484 0.51550464\n",
      "  0.58266006 0.67735742 0.87994754 1.00064791 0.69310015 0.45758304\n",
      "  0.37712537 0.67495857 0.6036808  0.14894498 0.87654595 0.7141799\n",
      "  0.95832695 0.68822979 1.23682438 0.25115113 0.43209287 0.36962163\n",
      "  0.17762867 0.30370831 0.75820655 0.71858929]\n",
      " [0.45842574 0.93047823 0.23466453 0.69621922 0.73144924 0.81598307\n",
      "  0.52183864 0.61434911 0.28423029 0.8142169  0.61715501 0.94390444\n",
      "  0.         0.26102189 0.34204488 0.47217902 0.38431226 0.52998667\n",
      "  0.50446288 0.82649531 0.33366531 0.14493968 0.34008536 0.26942219\n",
      "  0.69007615 0.39875283 0.59415776 0.71665104 0.47426994 0.27801095\n",
      "  0.11759247 0.60808499 0.98347635 0.37712624 0.33162221 0.59605505\n",
      "  0.49929693 1.05793967 0.20954781 0.92461667 0.68224566 0.20277241\n",
      "  0.50331123 0.36341467 0.58575732 0.50373848 0.29114387 0.52403265\n",
      "  0.52699213 0.93030457 0.73508833 0.64128062 0.66120489 0.52529616\n",
      "  0.63105077 0.70361947 0.18215301 0.1640812  0.69695576 0.2878482\n",
      "  0.70307325 0.61021694 0.69252155 0.99489312 0.97460499 0.14717516\n",
      "  0.83106152 0.74136991 0.53829339 0.3999678  0.49269699 0.52990998\n",
      "  0.84092685 0.82477059 0.13355658 0.71574499 0.33252978 0.80007941\n",
      "  0.86275322 0.39906117 0.97192529 0.11646144 0.9189874  0.94529175\n",
      "  0.74726556 0.9822956  0.34095132 0.80024472 0.13762067 0.24840247\n",
      "  0.01704439 0.47787825 0.59485589 0.69376301 0.57086628 0.62980484\n",
      "  0.83313146 0.83972437 0.93219187 0.22554997]\n",
      " [0.19747771 0.67814726 0.35700867 0.60860526 0.51244535 0.6722861\n",
      "  0.43679854 0.37211627 0.10788829 0.55400561 0.3641351  0.85031048\n",
      "  0.26102189 0.         0.49893406 0.22268749 0.29980501 0.5075293\n",
      "  0.29416972 0.76558925 0.27377637 0.13756626 0.1259704  0.49318506\n",
      "  0.61633159 0.4158046  0.41779315 0.55618745 0.21343519 0.37545126\n",
      "  0.34702392 0.4429373  0.73167442 0.5453638  0.22304814 0.34657912\n",
      "  0.23884959 0.81118801 0.30234668 0.77558316 0.47661423 0.37742019\n",
      "  0.34661629 0.43455344 0.38654377 0.31578308 0.43063762 0.26303702\n",
      "  0.41553063 0.71993101 0.50213311 0.5688967  0.58364001 0.5866276\n",
      "  0.49648509 0.60390042 0.21629937 0.37003418 0.43821382 0.05817609\n",
      "  0.53445761 0.39816381 0.66715123 0.92859369 0.74195822 0.14957562\n",
      "  0.57425735 0.72123227 0.3291803  0.58712719 0.23172412 0.41029377\n",
      "  0.6960621  0.57115636 0.37251955 0.45786885 0.10210278 0.58346749\n",
      "  0.63348385 0.51217032 0.7133476  0.21586406 0.67503486 0.74124976\n",
      "  0.56973466 0.74326045 0.32769877 0.70143291 0.34813456 0.32985898\n",
      "  0.27606664 0.24088442 0.44279119 0.62035615 0.57827064 0.48986008\n",
      "  0.70486975 0.67255904 0.68141615 0.25837246]\n",
      " [0.65926238 1.03682192 0.14222447 0.54993851 0.77465164 0.72395494\n",
      "  0.42519423 0.72457009 0.43948123 0.97199528 0.84870102 0.76753802\n",
      "  0.34204488 0.49893406 0.         0.62654791 0.36404859 0.34799388\n",
      "  0.79048199 0.62411788 0.66919073 0.45319878 0.49065147 0.15400854\n",
      "  0.52720535 0.23543187 0.9031901  0.66650786 0.67091871 0.1372203\n",
      "  0.23292977 0.58998145 1.08429598 0.04834802 0.65517429 0.83630622\n",
      "  0.68818051 1.13634642 0.19769287 0.82573733 0.7097726  0.13980824\n",
      "  0.50786546 0.15036901 0.62399946 0.80435327 0.06938939 0.71856567\n",
      "  0.85873769 0.9320851  0.80618528 0.48832325 0.50993199 0.23932837\n",
      "  0.56383478 0.5716518  0.52062939 0.18125648 0.90483577 0.55086398\n",
      "  0.66777694 0.89600848 0.46943925 0.78076791 1.01980341 0.35373685\n",
      "  0.96414419 0.50393182 0.60451072 0.10189523 0.68992257 0.47528601\n",
      "  0.74686263 0.9440861  0.23319505 0.9270854  0.50420023 0.82895936\n",
      "  0.91043678 0.09234263 1.10678719 0.45579763 0.99842318 0.933624\n",
      "  0.71727042 1.04309842 0.26998211 0.64923624 0.20634454 0.1787089\n",
      "  0.34481931 0.60611235 0.91509639 0.52965851 0.33680611 0.5703595\n",
      "  0.71670501 0.77906396 1.03258824 0.25137602]\n",
      " [0.08758815 0.45845852 0.49109068 0.5199464  0.30298904 0.5227371\n",
      "  0.38406362 0.15033776 0.20006917 0.35238419 0.25506372 0.73397458\n",
      "  0.47217902 0.22268749 0.62654791 0.         0.30135799 0.49710645\n",
      "  0.31837098 0.68477064 0.44675693 0.36020016 0.14181382 0.66505534\n",
      "  0.53986742 0.46146946 0.45513344 0.4010328  0.08339884 0.48963467\n",
      "  0.53628701 0.29956307 0.5116338  0.67487292 0.38414945 0.25676824\n",
      "  0.08035352 0.58901228 0.4374361  0.61442402 0.28199466 0.535217\n",
      "  0.24140427 0.51595942 0.21157004 0.3660443  0.55819052 0.10844117\n",
      "  0.52081505 0.5109935  0.28307966 0.50074805 0.50821437 0.63211573\n",
      "  0.37759107 0.50413465 0.43329571 0.54496361 0.28496119 0.23330792\n",
      "  0.37324414 0.38647292 0.62846219 0.83160294 0.5210547  0.3343173\n",
      "  0.36038628 0.68105709 0.15368566 0.72580392 0.09308175 0.32819891\n",
      "  0.54361089 0.35259984 0.56378849 0.30804389 0.14084415 0.37343097\n",
      "  0.41465622 0.60798981 0.50301972 0.43853529 0.45237053 0.53624405\n",
      "  0.39582969 0.52082834 0.38021253 0.59167562 0.52862903 0.44832007\n",
      "  0.48847548 0.04605152 0.50365548 0.5436697  0.58077582 0.36630116\n",
      "  0.5672481  0.5010386  0.4606822  0.37811053]\n",
      " [0.363869   0.67367303 0.25764342 0.32174204 0.41230721 0.43239906\n",
      "  0.14422963 0.36779286 0.19251002 0.62206736 0.55285744 0.56986538\n",
      "  0.38431226 0.29980501 0.36404859 0.30135799 0.         0.21164849\n",
      "  0.56367934 0.47045863 0.56757366 0.36894353 0.20515301 0.45239586\n",
      "  0.32334095 0.16195932 0.69886387 0.33999211 0.36967089 0.23368339\n",
      "  0.3771523  0.24125988 0.7205458  0.40989995 0.52170598 0.54986161\n",
      "  0.37766994 0.77273182 0.22229524 0.54113552 0.34912302 0.32294855\n",
      "  0.14639787 0.22851389 0.26031263 0.59780002 0.30396718 0.40782146\n",
      "  0.71437478 0.58374306 0.44213819 0.27451519 0.29154628 0.33076154\n",
      "  0.24806467 0.32417672 0.46879061 0.35731603 0.58530686 0.35555034\n",
      "  0.33155329 0.65525249 0.3676035  0.63660863 0.65979851 0.25458395\n",
      "  0.60651919 0.42177692 0.24229485 0.4657737  0.38577097 0.1463411\n",
      "  0.45734113 0.58370897 0.40267968 0.60849738 0.23215104 0.47017213\n",
      "  0.54893092 0.32226854 0.74738802 0.43094617 0.63444735 0.59107971\n",
      "  0.37938573 0.68074786 0.09413121 0.42249286 0.35456932 0.20810994\n",
      "  0.40014328 0.26774798 0.73274972 0.32730923 0.2895325  0.24819721\n",
      "  0.4489972  0.46256236 0.66898475 0.17129643]\n",
      " [0.56861194 0.7908364  0.32277983 0.20196339 0.50635563 0.3816416\n",
      "  0.1286696  0.5243909  0.40204902 0.77866758 0.75213984 0.42959814\n",
      "  0.52998667 0.5075293  0.34799388 0.49710645 0.21164849 0.\n",
      "  0.77499348 0.29880425 0.76755384 0.55570788 0.41642467 0.48755468\n",
      "  0.18031671 0.13547551 0.91048183 0.34672243 0.57244435 0.27782595\n",
      "  0.4783713  0.30675522 0.83020034 0.37834172 0.72619616 0.75227711\n",
      "  0.57668686 0.86198649 0.32415938 0.47972571 0.43916314 0.3894263\n",
      "  0.27485854 0.20594862 0.38156097 0.80944709 0.32091152 0.60553815\n",
      "  0.92305981 0.62063969 0.55609818 0.14043088 0.16196803 0.17705066\n",
      "  0.24786337 0.22473047 0.65327919 0.43897582 0.77247417 0.56452883\n",
      "  0.35716102 0.86495803 0.16521941 0.46629089 0.72955897 0.4320846\n",
      "  0.74833826 0.21752533 0.39440063 0.43264978 0.58695503 0.19731547\n",
      "  0.40332574 0.71806115 0.49688488 0.79559936 0.4437145  0.54312887\n",
      "  0.63012775 0.26457869 0.87960479 0.60500697 0.73417026 0.61486131\n",
      "  0.40414524 0.76195084 0.19478249 0.30220598 0.44896324 0.2885506\n",
      "  0.54281108 0.45700189 0.9441654  0.18306171 0.08489395 0.25873264\n",
      "  0.36958829 0.44544666 0.78208466 0.30738736]\n",
      " [0.23079768 0.62434401 0.64944741 0.83206389 0.58943261 0.83976918\n",
      "  0.68006158 0.42321043 0.38165885 0.4541135  0.18763346 1.0521026\n",
      "  0.50446288 0.29416972 0.79048199 0.31837098 0.56367934 0.77499348\n",
      "  0.         0.9964724  0.25573006 0.36012969 0.35858538 0.76625808\n",
      "  0.84867522 0.70117116 0.13830382 0.71822136 0.23661778 0.66954671\n",
      "  0.61312996 0.6178587  0.67473826 0.83593227 0.20635335 0.15729692\n",
      "  0.2508097  0.7691337  0.59553709 0.92774729 0.5869607  0.66272374\n",
      "  0.5510446  0.72736422 0.52846288 0.05313279 0.72304795 0.23981989\n",
      "  0.22153008 0.78491132 0.54719507 0.80606325 0.81619157 0.87487026\n",
      "  0.69420719 0.81873664 0.35562683 0.64648858 0.28417295 0.23975724\n",
      "  0.68969349 0.10665463 0.92367015 1.14777114 0.75259477 0.43691639\n",
      "  0.50708075 0.97765739 0.47181882 0.8745466  0.23363161 0.63394119\n",
      "  0.85995905 0.52521758 0.6346622  0.29120965 0.33166933 0.65332571\n",
      "  0.66626392 0.80632511 0.61393762 0.40585632 0.65750272 0.81616746\n",
      "  0.70804895 0.73479676 0.61219558 0.90871249 0.62184662 0.6239778\n",
      "  0.51437953 0.36391728 0.18559206 0.85260322 0.8527347  0.68344837\n",
      "  0.88538208 0.81200931 0.63491849 0.5524574 ]\n",
      " [0.76967087 0.81509068 0.62061027 0.16484071 0.54791276 0.27063148\n",
      "  0.32888276 0.64640128 0.65788532 0.86681318 0.92632462 0.15064768\n",
      "  0.82649531 0.76558925 0.62411788 0.68477064 0.47045863 0.29880425\n",
      "  0.9964724  0.         1.03704308 0.83756194 0.65320248 0.77341115\n",
      "  0.14964049 0.43410151 1.13477083 0.34114161 0.76795037 0.57498483\n",
      "  0.77689566 0.39746851 0.83875302 0.6436181  0.98863584 0.93505575\n",
      "  0.7628562  0.83670894 0.62268212 0.30862052 0.49622708 0.68584477\n",
      "  0.44558003 0.49738103 0.49683934 1.0388848  0.61072468 0.78627104\n",
      "  1.17316362 0.55572134 0.61246667 0.19674109 0.18250102 0.39608251\n",
      "  0.31181452 0.18313556 0.93707764 0.73630256 0.91742918 0.81824944\n",
      "  0.37002101 1.07122131 0.15566989 0.16849813 0.69218084 0.71782802\n",
      "  0.81557476 0.13732368 0.54078989 0.69113442 0.7773256  0.36339866\n",
      "  0.27534666 0.7772753  0.79479782 0.93881977 0.68199291 0.5465058\n",
      "  0.62569305 0.53278757 0.91848802 0.89406931 0.73948396 0.53263154\n",
      "  0.39123077 0.73653568 0.48641062 0.12639215 0.7472831  0.58735259\n",
      "  0.83988267 0.63891614 1.17750031 0.1456198  0.287312   0.32485592\n",
      "  0.21825782 0.35469525 0.80119448 0.60164312]\n",
      " [0.37653585 0.84968958 0.54301752 0.88180512 0.74952971 0.94201388\n",
      "  0.7082776  0.58977163 0.38002444 0.69079334 0.43299686 1.12408609\n",
      "  0.33366531 0.27377637 0.66919073 0.44675693 0.56757366 0.76755384\n",
      "  0.25573006 1.03704308 0.         0.2228296  0.39641583 0.60085505\n",
      "  0.88834916 0.65898468 0.28778224 0.82358929 0.39097431 0.57754128\n",
      "  0.45120849 0.71145738 0.90236753 0.70775095 0.06369902 0.40358264\n",
      "  0.41610922 0.99282109 0.49928401 1.04298991 0.72622708 0.52981419\n",
      "  0.61881481 0.65448638 0.64434172 0.22538767 0.61064666 0.42301905\n",
      "  0.19396301 0.95695258 0.72387983 0.84035446 0.85582749 0.81716349\n",
      "  0.76930079 0.87761663 0.15172829 0.49677757 0.52977368 0.22840366\n",
      "  0.79989929 0.34034336 0.93097352 1.20128753 0.95288418 0.34491278\n",
      "  0.73412567 0.98443996 0.58469624 0.73339715 0.40040377 0.68405025\n",
      "  0.96529586 0.74456768 0.46500676 0.54034226 0.36934879 0.81958174\n",
      "  0.85340814 0.71232468 0.85449756 0.21727439 0.86871515 0.98290357\n",
      "  0.83112151 0.94367989 0.57674976 0.97520834 0.47021198 0.5364385\n",
      "  0.33645228 0.48136673 0.27207247 0.89236545 0.83072048 0.76216255\n",
      "  0.97686285 0.93579005 0.85768445 0.47962647]\n",
      " [0.32959406 0.81514982 0.32187006 0.69047436 0.64520046 0.77948187\n",
      "  0.51313593 0.50924966 0.20665939 0.68637113 0.47569804 0.93798829\n",
      "  0.14493968 0.13756626 0.45319878 0.36020016 0.36894353 0.55570788\n",
      "  0.36012969 0.83756194 0.2228296  0.         0.24912712 0.40785337\n",
      "  0.6919396  0.44005136 0.4561039  0.66881401 0.34597965 0.3549873\n",
      "  0.25407772 0.55570505 0.86873641 0.49460252 0.2019988  0.45344855\n",
      "  0.37229974 0.94872514 0.27661643 0.88585678 0.60508462 0.31627238\n",
      "  0.45335906 0.43174736 0.51175054 0.36217047 0.39149034 0.39398944\n",
      "  0.40651846 0.85121846 0.63812585 0.64290104 0.66038336 0.59474167\n",
      "  0.59724781 0.69118909 0.09985289 0.29149153 0.55895455 0.14824255\n",
      "  0.65004718 0.46626826 0.72072067 1.00476299 0.87836322 0.12470533\n",
      "  0.70989652 0.77320503 0.45708528 0.5262208  0.36323578 0.50210837\n",
      "  0.80397551 0.70798314 0.27472522 0.57678017 0.23170382 0.71592188\n",
      "  0.76909962 0.49066769 0.8475063  0.07882318 0.81256903 0.87079032\n",
      "  0.68915677 0.88049513 0.36164398 0.7897827  0.265731   0.31361114\n",
      "  0.15627628 0.37636469 0.46299174 0.69588233 0.6136689  0.59283435\n",
      "  0.80601183 0.78902445 0.81867464 0.25843875]\n",
      " [0.17132106 0.59365983 0.35239211 0.49251302 0.39742345 0.54674036\n",
      "  0.32750541 0.27481513 0.05875233 0.49419528 0.363693   0.72989475\n",
      "  0.34008536 0.1259704  0.49065147 0.14181382 0.20515301 0.41642467\n",
      "  0.35858538 0.65320248 0.39641583 0.24912712 0.         0.52329362\n",
      "  0.50358779 0.35043344 0.49433652 0.43023377 0.18143613 0.35509121\n",
      "  0.39578972 0.31703961 0.64606761 0.53896231 0.34146461 0.35580384\n",
      "  0.19755402 0.71828317 0.29783013 0.6496676  0.35596332 0.39390988\n",
      "  0.22242676 0.39193596 0.26323336 0.39388997 0.42158734 0.22803328\n",
      "  0.51997905 0.60236194 0.39577771 0.45785554 0.47072155 0.52504497\n",
      "  0.37305012 0.48514887 0.33852327 0.40319756 0.41422138 0.16892709\n",
      "  0.40854132 0.4508484  0.56757109 0.81292181 0.63598823 0.19659375\n",
      "  0.50032812 0.62177554 0.20795819 0.58827628 0.20006528 0.29200679\n",
      "  0.5703968  0.48974836 0.42344114 0.43656043 0.02879386 0.46776087\n",
      "  0.52492293 0.48071255 0.64360259 0.32706034 0.57902613 0.62166373\n",
      "  0.44439772 0.64238071 0.2629486  0.58146567 0.38717979 0.3119598\n",
      "  0.35688534 0.13841867 0.5303108  0.50760344 0.49452627 0.36575411\n",
      "  0.58047744 0.54679499 0.59433875 0.23980817]\n",
      " [0.67831921 1.10456481 0.19475468 0.68732329 0.86123758 0.85141956\n",
      "  0.54462201 0.78463745 0.46567286 1.01740743 0.85696137 0.91402729\n",
      "  0.26942219 0.49318506 0.15400854 0.66505534 0.45239586 0.48755468\n",
      "  0.76625808 0.77341115 0.60085505 0.40785337 0.52329362 0.\n",
      "  0.66784005 0.36106022 0.86260714 0.78091401 0.69229776 0.22519221\n",
      "  0.15384209 0.69191787 1.15481132 0.15659474 0.60101879 0.83975155\n",
      "  0.71366763 1.2160186  0.23684185 0.95652718 0.80017691 0.1330192\n",
      "  0.59835006 0.28172909 0.7078348  0.7700081  0.16715949 0.74232617\n",
      "  0.7947739  1.03563588 0.88339359 0.6257357  0.64752162 0.3932853\n",
      "  0.68031403 0.70611218 0.44927254 0.12329269 0.92597396 0.53516138\n",
      "  0.77768267 0.87283526 0.61999312 0.93251137 1.11005263 0.34485936\n",
      "  1.01999773 0.65646488 0.67730023 0.14976505 0.71161933 0.58408652\n",
      "  0.87525641 1.00527792 0.13610518 0.94682843 0.52881601 0.92172502\n",
      "  0.99816821 0.24578638 1.16377777 0.38423974 1.07598513 1.04144723\n",
      "  0.82678485 1.12811605 0.36516383 0.78953575 0.14551592 0.24429375\n",
      "  0.26468396 0.65466397 0.86427773 0.6706143  0.48679903 0.68471056\n",
      "  0.85019862 0.89895534 1.10261036 0.29697498]\n",
      " [0.62349579 0.72141874 0.49843164 0.03641363 0.44034539 0.22512635\n",
      "  0.18016364 0.51515908 0.50876137 0.74983612 0.78604393 0.2546589\n",
      "  0.69007615 0.61633159 0.52720535 0.53986742 0.32334095 0.18031671\n",
      "  0.84867522 0.14964049 0.88834916 0.6919396  0.50358779 0.66784005\n",
      "  0.         0.31147564 0.98696375 0.24035501 0.62257677 0.45486272\n",
      "  0.65109707 0.26491271 0.75215733 0.55514062 0.83934762 0.79307686\n",
      "  0.61895864 0.76547111 0.49246831 0.31020312 0.3805596  0.56653644\n",
      "  0.2989597  0.38615415 0.36293755 0.89036734 0.50105356 0.64355848\n",
      "  1.0235618  0.49818183 0.50149718 0.04922179 0.03286625 0.32741064\n",
      "  0.17886913 0.06880774 0.79171659 0.61473401 0.7839966  0.66870829\n",
      "  0.26358404 0.92570916 0.12861538 0.31338552 0.62409098 0.57430038\n",
      "  0.70515394 0.1646806  0.40099759 0.60789211 0.6328419  0.21478081\n",
      "  0.24249314 0.66914016 0.67132246 0.80603855 0.53238002 0.45487695\n",
      "  0.54025556 0.44107671 0.8204048  0.75111442 0.65249082 0.48393823\n",
      "  0.29860497 0.66357916 0.34936629 0.12205556 0.62259828 0.45994148\n",
      "  0.70428155 0.49438708 1.02884221 0.00402617 0.2081417  0.19289023\n",
      "  0.19874514 0.302629   0.70943866 0.46456067]\n",
      " [0.51806749 0.82445211 0.18759824 0.32783469 0.55109895 0.49161105\n",
      "  0.18976714 0.52702221 0.31951275 0.78255407 0.70951134 0.56395915\n",
      "  0.39875283 0.4158046  0.23543187 0.46146946 0.16195932 0.13547551\n",
      "  0.70117116 0.43410151 0.65898468 0.44005136 0.35043344 0.36106022\n",
      "  0.31147564 0.         0.83146975 0.43115822 0.52548716 0.14340195\n",
      "  0.3429     0.35921401 0.86906454 0.27468649 0.62387758 0.70435451\n",
      "  0.53574726 0.91387092 0.19040663 0.59577061 0.48451204 0.25511853\n",
      "  0.28835906 0.08508406 0.40608327 0.72927365 0.19431973 0.56627427\n",
      "  0.8264716  0.69843252 0.5894774  0.26677797 0.28848141 0.17467338\n",
      "  0.32843116 0.34531106 0.53420981 0.30394098 0.74619101 0.47398009\n",
      "  0.43316852 0.79860932 0.29404416 0.60111724 0.79158605 0.31540775\n",
      "  0.76400729 0.34264992 0.39852951 0.33157526 0.5425263  0.24259294\n",
      "  0.51511511 0.73913782 0.36152942 0.76933811 0.37381978 0.60071137\n",
      "  0.68450726 0.17103461 0.90307424 0.48147095 0.77865287 0.69887714\n",
      "  0.48260209 0.81780844 0.08897886 0.43158429 0.31350088 0.15365358\n",
      "  0.41077661 0.42941203 0.85858323 0.31460276 0.17465145 0.33515726\n",
      "  0.48914581 0.54402275 0.81836045 0.18288933]\n",
      " [0.36780916 0.71225512 0.7647412  0.97033761 0.71428857 0.97433832\n",
      "  0.81779556 0.5499259  0.51295178 0.53522743 0.27839594 1.1891005\n",
      "  0.59415776 0.41779315 0.9031901  0.45513344 0.69886387 0.91048183\n",
      "  0.13830382 1.13477083 0.28778224 0.4561039  0.49433652 0.86260714\n",
      "  0.98696375 0.83146975 0.         0.85310389 0.37243292 0.7890067\n",
      "  0.70888593 0.75464935 0.75913933 0.94689496 0.26516262 0.25180042\n",
      "  0.38418565 0.85545642 0.71268935 1.05978408 0.71732101 0.77006337\n",
      "  0.68931348 0.85205176 0.66362349 0.1022122  0.8376616  0.36927667\n",
      "  0.14895333 0.90251272 0.66714556 0.94424314 0.95446666 1.00383875\n",
      "  0.83191688 0.95683938 0.4242188  0.74759194 0.3625048  0.36035293\n",
      "  0.824127   0.10210617 1.06089315 1.28569199 0.85678997 0.550948\n",
      "  0.59695959 1.11496181 0.60796673 0.98141332 0.36749225 0.77221717\n",
      "  0.99398587 0.62142483 0.72751868 0.36120785 0.466781   0.77504429\n",
      "  0.77913329 0.92685329 0.68384183 0.48427881 0.75635998 0.93541842\n",
      "  0.84025765 0.83372504 0.7426293  1.0463544  0.72181046 0.74386883\n",
      "  0.60122754 0.50095682 0.06204076 0.99089366 0.98699154 0.82099538\n",
      "  1.02106018 0.94320935 0.72497487 0.67455681]\n",
      " [0.48826335 0.48195361 0.58883351 0.20483852 0.20685816 0.12170501\n",
      "  0.24148325 0.32105124 0.46257914 0.52605497 0.61333162 0.34435466\n",
      "  0.71665104 0.55618745 0.66650786 0.4010328  0.33999211 0.34672243\n",
      "  0.71822136 0.34114161 0.82358929 0.66881401 0.43023377 0.78091401\n",
      "  0.24035501 0.43115822 0.85310389 0.         0.48160683 0.55581247\n",
      "  0.71711549 0.11347593 0.51182196 0.70533202 0.76527885 0.62729794\n",
      "  0.46895931 0.5274476  0.56041131 0.21955362 0.15769129 0.65717049\n",
      "  0.21610664 0.51623427 0.18977066 0.76686828 0.61966627 0.48602897\n",
      "  0.92057736 0.27392113 0.27133578 0.23613808 0.22498249 0.522979\n",
      "  0.10283585 0.17367135 0.7644661  0.69538169 0.58959771 0.59534063\n",
      "  0.03076886 0.77548275 0.36819929 0.45471081 0.38865753 0.57544163\n",
      "  0.47457665 0.40402752 0.24763046 0.76200777 0.48561402 0.19745257\n",
      "  0.14311533 0.43661033 0.74247394 0.60971127 0.45560992 0.21453456\n",
      "  0.30009085 0.59675435 0.58249856 0.74191156 0.41213682 0.26943704\n",
      "  0.05946239 0.42567723 0.41700012 0.22075817 0.69407992 0.54075265\n",
      "  0.73317377 0.35691729 0.90380861 0.24222688 0.41317829 0.09646145\n",
      "  0.16927948 0.1231597  0.46956774 0.51128839]\n",
      " [0.01648796 0.47412235 0.53111175 0.60311132 0.3652521  0.60317613\n",
      "  0.46358684 0.20074841 0.23187899 0.34083627 0.18404635 0.81679457\n",
      "  0.47426994 0.21343519 0.67091871 0.08339884 0.36967089 0.57244435\n",
      "  0.23661778 0.76795037 0.39097431 0.34597965 0.18143613 0.69229776\n",
      "  0.62257677 0.52548716 0.37243292 0.48160683 0.         0.53612464\n",
      "  0.5535523  0.38232379 0.52779352 0.71913326 0.3272959  0.18032544\n",
      "  0.02693641 0.61270477 0.47583058 0.69226644 0.35414522 0.56719419\n",
      "  0.32373281 0.57238031 0.29184524 0.285722   0.6016418  0.05034757\n",
      "  0.44490466 0.56959496 0.33383721 0.58278065 0.59075232 0.69880632\n",
      "  0.46096198 0.58751029 0.40331703 0.56961325 0.23489782 0.20243865\n",
      "  0.45315265 0.30328744 0.70859822 0.91496101 0.56248298 0.34990192\n",
      "  0.36516204 0.76159502 0.23554385 0.76728517 0.01933412 0.40992094\n",
      "  0.62348327 0.36669694 0.58015133 0.25666441 0.16695417 0.43337665\n",
      "  0.4625389  0.66193901 0.5015412  0.42075353 0.48233552 0.59763993\n",
      "  0.47275704 0.55554162 0.44036888 0.67495315 0.55039988 0.4924777\n",
      "  0.48945919 0.12944801 0.42220189 0.62640257 0.65501728 0.44961069\n",
      "  0.64890187 0.57736501 0.47940601 0.41956141]\n",
      " [0.52501111 0.90260596 0.04645912 0.47052755 0.64597562 0.62768855\n",
      "  0.31995723 0.58837645 0.30599783 0.83484709 0.71582316 0.70714235\n",
      "  0.27801095 0.37545126 0.1372203  0.48963467 0.23368339 0.27782595\n",
      "  0.66954671 0.57498483 0.57754128 0.3549873  0.35509121 0.22519221\n",
      "  0.45486272 0.14340195 0.7890067  0.55581247 0.53612464 0.\n",
      "  0.20357721 0.46911053 0.95082221 0.18541982 0.55383943 0.70475377\n",
      "  0.55257962 1.0057247  0.07846432 0.73376582 0.58264236 0.11173742\n",
      "  0.37982438 0.08590717 0.49362218 0.68815925 0.07119344 0.5831147\n",
      "  0.75954526 0.81309746 0.67408302 0.40981121 0.43144424 0.24756805\n",
      "  0.45512658 0.48668205 0.43774732 0.16133752 0.76920965 0.43047692\n",
      "  0.55312308 0.77346677 0.42950634 0.74061694 0.89335215 0.23982959\n",
      "  0.82777653 0.47435772 0.47042877 0.23809754 0.55496471 0.35930201\n",
      "  0.65177409 0.80844627 0.21995775 0.7916203  0.37012669 0.70336085\n",
      "  0.78261183 0.13799234 0.97070825 0.37756421 0.86686273 0.81769291\n",
      "  0.60237261 0.91436644 0.1420458  0.57467023 0.17332433 0.04561883\n",
      "  0.28707724 0.4688975  0.80658046 0.45800045 0.30062857 0.45955265\n",
      "  0.62919805 0.67381178 0.89891222 0.11882189]\n",
      " [0.53871836 0.988031   0.15718815 0.66308771 0.76441673 0.80446133\n",
      "  0.49846279 0.66742721 0.33703798 0.88702701 0.71086461 0.90529222\n",
      "  0.11759247 0.34702392 0.23292977 0.53628701 0.3771523  0.4783713\n",
      "  0.61312996 0.77689566 0.45120849 0.25407772 0.39578972 0.15384209\n",
      "  0.65109707 0.3429     0.70888593 0.71711549 0.5535523  0.20357721\n",
      "  0.         0.61609264 1.03984234 0.26358637 0.44813186 0.69219987\n",
      "  0.57656762 1.10777831 0.16075532 0.91274213 0.70855658 0.10140086\n",
      "  0.51448219 0.28742889 0.61268712 0.61619435 0.19307504 0.60389789\n",
      "  0.64458392 0.95295616 0.77767406 0.60413473 0.62529894 0.43984508\n",
      "  0.6228782  0.67560026 0.29958747 0.05190845 0.78426488 0.3850231\n",
      "  0.7082712  0.71960846 0.63298692 0.94337164 1.01249377 0.20391922\n",
      "  0.89606889 0.67786989 0.57328136 0.28297055 0.57269319 0.52157127\n",
      "  0.8292154  0.88516387 0.02781524 0.80437214 0.39616375 0.82964306\n",
      "  0.89983135 0.30183964 1.03917202 0.23394235 0.96752741 0.96361043\n",
      "  0.75547343 1.02547665 0.30897502 0.76804749 0.03060876 0.19115574\n",
      "  0.11588509 0.53272096 0.71152079 0.65446774 0.50401141 0.62427102\n",
      "  0.81355617 0.839472   0.9878172  0.20591585]\n",
      " [0.3870766  0.48434264 0.4974759  0.23689502 0.19965484 0.23067727\n",
      "  0.18122445 0.25055383 0.3492874  0.48851804 0.53010261 0.43447256\n",
      "  0.60808499 0.4429373  0.58998145 0.29956307 0.24125988 0.30675522\n",
      "  0.6178587  0.39746851 0.71145738 0.55570505 0.31703961 0.69191787\n",
      "  0.26491271 0.35921401 0.75464935 0.11347593 0.38232379 0.46911053\n",
      "  0.61609264 0.         0.52348472 0.63225883 0.65384397 0.5404469\n",
      "  0.37303183 0.55867803 0.46350819 0.33264742 0.1324095  0.56388407\n",
      "  0.10485329 0.44234708 0.09938693 0.66478414 0.53670938 0.39369584\n",
      "  0.81432014 0.34399388 0.25094227 0.2391956  0.23810267 0.4813173\n",
      "  0.08653795 0.2144083  0.65106373 0.59841774 0.52067617 0.48306608\n",
      "  0.09526622 0.68255204 0.37918544 0.53471732 0.4325962  0.46496353\n",
      "  0.4494085  0.42506432 0.14741442 0.68920837 0.38879072 0.11728115\n",
      "  0.25383858 0.41631452 0.64225942 0.54239004 0.34276175 0.24206122\n",
      "  0.32733899 0.52992267 0.5753     0.6293227  0.4280145  0.34992604\n",
      "  0.13980946 0.460515   0.32723778 0.29415947 0.59477643 0.44823917\n",
      "  0.62479574 0.25395178 0.8029035  0.26812414 0.3858978  0.07290831\n",
      "  0.26968061 0.23377062 0.4753681  0.41061062]\n",
      " [0.54418332 0.05369177 0.96601128 0.71662911 0.32384527 0.57025853\n",
      "  0.70404115 0.37241753 0.70434913 0.22393593 0.4888108  0.78865856\n",
      "  0.98347635 0.73167442 1.08429598 0.5116338  0.7205458  0.83020034\n",
      "  0.67473826 0.83875302 0.90236753 0.86873641 0.64606761 1.15481132\n",
      "  0.75215733 0.86906454 0.75913933 0.51182196 0.52779352 0.95082221\n",
      "  1.03984234 0.52348472 0.         1.13043275 0.83999253 0.51872329\n",
      "  0.50085723 0.09654256 0.91844502 0.57826404 0.39113554 1.02184737\n",
      "  0.58087329 0.94635757 0.46309317 0.72534256 1.02197715 0.48549356\n",
      "  0.8901157  0.30564495 0.2796046  0.74399431 0.73526283 1.00439802\n",
      "  0.59061895 0.68519742 0.93111054 1.0410881  0.39716138 0.72976863\n",
      "  0.48955592 0.65709172 0.87959938 0.90968903 0.17297215 0.84260047\n",
      "  0.16859277 0.91564176 0.48041659 1.1861424  0.51315732 0.63725563\n",
      "  0.57099307 0.16115763 1.06764298 0.39814852 0.65103706 0.29728746\n",
      "  0.21344539 1.03874308 0.10988041 0.94576156 0.09983372 0.3406479\n",
      "  0.45430439 0.12497459 0.8146639  0.71239891 1.0282536  0.91777172\n",
      "  0.99988938 0.50780604 0.82118006 0.7540488  0.90805016 0.57766093\n",
      "  0.62667863 0.4891672  0.05220514 0.85797018]\n",
      " [0.70740945 1.08328473 0.18952688 0.579811   0.81915085 0.75795307\n",
      "  0.46387562 0.77200148 0.48759705 1.02000536 0.89660106 0.78962447\n",
      "  0.37712624 0.5453638  0.04834802 0.67487292 0.40989995 0.37834172\n",
      "  0.83593227 0.6436181  0.70775095 0.49460252 0.53896231 0.15659474\n",
      "  0.55514062 0.27468649 0.94689496 0.70533202 0.71913326 0.18541982\n",
      "  0.26358637 0.63225883 1.13043275 0.         0.69623989 0.88397231\n",
      "  0.73647966 1.18132149 0.24515664 0.85792684 0.75381916 0.17853984\n",
      "  0.55259786 0.19013664 0.66927144 0.84867974 0.11749348 0.76684882\n",
      "  0.89866654 0.97302323 0.8519017  0.51859602 0.53994233 0.25052416\n",
      "  0.60250186 0.60303935 0.55785048 0.21344697 0.95312774 0.59657397\n",
      "  0.70785075 0.94172876 0.48802893 0.79598952 1.06328082 0.39901699\n",
      "  1.011624   0.51853663 0.65111552 0.05696602 0.73815443 0.51659392\n",
      "  0.78038189 0.9912048  0.25946272 0.97535959 0.55236084 0.87231941\n",
      "  0.9545014  0.1140801  1.15409777 0.49248748 1.04382478 0.97351224\n",
      "  0.75727426 1.08740035 0.31577243 0.67674229 0.23965285 0.22703975\n",
      "  0.37829853 0.65424108 0.95735191 0.55735455 0.35753514 0.60962841\n",
      "  0.74792784 0.81575481 1.07882458 0.29957204]\n",
      " [0.31291111 0.78716596 0.52290267 0.83115808 0.6866326  0.88452066\n",
      "  0.65984039 0.52630918 0.33084566 0.63001602 0.37560582 1.07113382\n",
      "  0.33162221 0.22304814 0.65517429 0.38414945 0.52170598 0.72619616\n",
      "  0.20635335 0.98863584 0.06369902 0.2019988  0.34146461 0.60101879\n",
      "  0.83934762 0.62387758 0.26516262 0.76527885 0.3272959  0.55383943\n",
      "  0.44813186 0.65384397 0.83999253 0.69623989 0.         0.34681043\n",
      "  0.35241022 0.93000526 0.47543779 0.98436145 0.66449111 0.51773968\n",
      "  0.5635814  0.62672981 0.58406397 0.18574128 0.59327201 0.3595156\n",
      "  0.20571701 0.89381249 0.66035247 0.79194438 0.80663591 0.78724871\n",
      "  0.71432501 0.82555626 0.15928974 0.48994263 0.47164968 0.17255003\n",
      "  0.74097509 0.30058931 0.88793409 1.15137135 0.8891966  0.31550047\n",
      "  0.67196185 0.94179558 0.52427422 0.72626041 0.33671898 0.63191653\n",
      "  0.90752952 0.68172519 0.46515138 0.48331652 0.31363043 0.75652586\n",
      "  0.78976513 0.69081451 0.79406537 0.21943562 0.80529893 0.9200348\n",
      "  0.77107207 0.88014366 0.53899036 0.92250274 0.46363465 0.51084299\n",
      "  0.33754323 0.41971957 0.26339099 0.84337272 0.79286503 0.70667078\n",
      "  0.9207871  0.87600806 0.79493382 0.44898809]\n",
      " [0.1863735  0.4691138  0.69447851 0.7709201  0.46952358 0.74591586\n",
      "  0.64083098 0.31048939 0.39906326 0.29703489 0.03034038 0.97033578\n",
      "  0.59605505 0.34657912 0.83630622 0.25676824 0.54986161 0.75227711\n",
      "  0.15729692 0.93505575 0.40358264 0.45344855 0.35580384 0.83975155\n",
      "  0.79307686 0.70435451 0.25180042 0.62729794 0.18032544 0.70475377\n",
      "  0.69219987 0.5404469  0.51872329 0.88397231 0.34681043 0.\n",
      "  0.17642341 0.61376943 0.63882722 0.82358473 0.48096632 0.72220747\n",
      "  0.49668531 0.74746102 0.44298406 0.206724   0.76698371 0.14973453\n",
      "  0.37207017 0.65182101 0.41850612 0.7557354  0.76205126 0.87823942\n",
      "  0.62397574 0.75247832 0.47680077 0.71661265 0.1273674  0.30858304\n",
      "  0.59707733 0.15621024 0.88506867 1.07476718 0.60587663 0.49566415\n",
      "  0.35207952 0.93746165 0.39444433 0.92908517 0.16532614 0.5840017\n",
      "  0.76357333 0.37295956 0.71685404 0.13676097 0.33621537 0.52696556\n",
      "  0.52749326 0.834926   0.45673837 0.51515894 0.50709173 0.68533098\n",
      "  0.60637171 0.58458703 0.61810457 0.83431525 0.69458021 0.65990929\n",
      "  0.60886471 0.30039986 0.31232975 0.79678457 0.83514728 0.6115188\n",
      "  0.79656137 0.70603091 0.48040267 0.58626684]\n",
      " [0.04335834 0.44718595 0.54932522 0.59817168 0.34413448 0.59015292\n",
      "  0.46441454 0.17836619 0.25065098 0.31515605 0.17570683 0.80699648\n",
      "  0.49929693 0.23884959 0.68818051 0.08035352 0.37766994 0.57668686\n",
      "  0.2508097  0.7628562  0.41610922 0.37229974 0.19755402 0.71366763\n",
      "  0.61895864 0.53574726 0.38418565 0.46895931 0.02693641 0.55257962\n",
      "  0.57656762 0.37303183 0.50085723 0.73647966 0.35241022 0.17642341\n",
      "  0.         0.58585408 0.49433419 0.67695259 0.33659355 0.58739454\n",
      "  0.32114648 0.58569581 0.27971793 0.30144017 0.61906547 0.03078167\n",
      "  0.46349989 0.54691098 0.31021743 0.58049238 0.58752786 0.70802782\n",
      "  0.45374781 0.58132343 0.43025332 0.59133199 0.21666744 0.2292944\n",
      "  0.43994217 0.30964154 0.70878378 0.90721584 0.53688908 0.37268901\n",
      "  0.33838286 0.7613198  0.22562155 0.78543446 0.01745308 0.40820619\n",
      "  0.60988555 0.33976131 0.60335374 0.2390431  0.1859373  0.41135476\n",
      "  0.43798349 0.67623373 0.47523293 0.44737815 0.45582777 0.57560847\n",
      "  0.4572503  0.52930405 0.4520481  0.66680276 0.57262641 0.50950437\n",
      "  0.51463605 0.12470811 0.43604625 0.62272718 0.6600338  0.44193643\n",
      "  0.63721951 0.56123963 0.45248827 0.43712253]\n",
      " [0.62889863 0.14479001 1.02434398 0.7292105  0.36280795 0.56610489\n",
      "  0.73959734 0.44359858 0.77564839 0.32023558 0.58402251 0.77011993\n",
      "  1.05793967 0.81118801 1.13634642 0.58901228 0.77273182 0.86198649\n",
      "  0.7691337  0.83670894 0.99282109 0.94872514 0.71828317 1.2160186\n",
      "  0.76547111 0.91387092 0.85545642 0.5274476  0.61270477 1.0057247\n",
      "  1.10777831 0.55867803 0.09654256 1.18132149 0.93000526 0.61376943\n",
      "  0.58585408 0.         0.97918296 0.55579339 0.42946263 1.08309566\n",
      "  0.62873227 0.99408113 0.51243811 0.82013959 1.07647639 0.57271562\n",
      "  0.98556047 0.28338201 0.33264476 0.76346735 0.7522835  1.03844107\n",
      "  0.6162181  0.69700707 1.01522014 1.10562753 0.49324995 0.81318741\n",
      "  0.50950628 0.75344157 0.89406413 0.89034956 0.14458511 0.91454418\n",
      "  0.26205659 0.92561257 0.53872696 1.23772021 0.59912562 0.67542798\n",
      "  0.5626107  0.24828063 1.13558044 0.49459475 0.72582268 0.31889689\n",
      "  0.23188748 1.08477949 0.19434175 1.02657281 0.14033569 0.31261717\n",
      "  0.46809662 0.10189572 0.86651453 0.71095536 1.09437042 0.97534711\n",
      "  1.07459739 0.58009489 0.91749572 0.76690092 0.9358998  0.60427743\n",
      "  0.61965375 0.48207484 0.13521426 0.91931451]\n",
      " [0.46356524 0.86853148 0.05565859 0.50317329 0.62545743 0.64446169\n",
      "  0.33779259 0.54946752 0.24396168 0.78795964 0.6517041  0.74707409\n",
      "  0.20954781 0.30234668 0.19769287 0.4374361  0.22229524 0.32415938\n",
      "  0.59553709 0.62268212 0.49928401 0.27661643 0.29783013 0.23684185\n",
      "  0.49246831 0.19040663 0.71268935 0.56041131 0.47583058 0.07846432\n",
      "  0.16075532 0.46350819 0.91844502 0.24515664 0.47543779 0.63882722\n",
      "  0.49433419 0.97918296 0.         0.75253742 0.56556561 0.10395374\n",
      "  0.3655584  0.15797349 0.47206122 0.61233855 0.1286684  0.52434713\n",
      "  0.68113072 0.80498675 0.6465679  0.44489795 0.46583805 0.32195734\n",
      "  0.46414356 0.5150532  0.36090935 0.13512018 0.7105351  0.35585559\n",
      "  0.55343361 0.70033306 0.48441669 0.79043915 0.87446087 0.16221727\n",
      "  0.78660405 0.532442   0.44046019 0.29152323 0.49500521 0.36354316\n",
      "  0.66914604 0.77038519 0.18396521 0.73247198 0.30889074 0.6872708\n",
      "  0.76228527 0.2157104  0.93031407 0.30215688 0.83914364 0.81316231\n",
      "  0.60155119 0.89165634 0.14826551 0.60815183 0.13480498 0.03933381\n",
      "  0.22083999 0.42239651 0.72906601 0.4959375  0.36134118 0.46624957\n",
      "  0.65282661 0.68193319 0.86625994 0.06067954]\n",
      " [0.70042278 0.56752341 0.77236775 0.28038949 0.36062296 0.10873856\n",
      "  0.41556177 0.51318541 0.68044556 0.66641863 0.80591023 0.21469214\n",
      "  0.92461667 0.77558316 0.82573733 0.61442402 0.54113552 0.47972571\n",
      "  0.92774729 0.30862052 1.04298991 0.88585678 0.6496676  0.95652718\n",
      "  0.31020312 0.59577061 1.05978408 0.21955362 0.69226644 0.73376582\n",
      "  0.91274213 0.33264742 0.57826404 0.85792684 0.98436145 0.82358473\n",
      "  0.67695259 0.55579339 0.75253742 0.         0.34313531 0.84189715\n",
      "  0.43257098 0.67809954 0.4035774  0.97786094 0.79008642 0.69051297\n",
      "  1.13523861 0.27433817 0.42217019 0.34019245 0.31942402 0.63755236\n",
      "  0.29356885 0.25504198 0.98248223 0.88498501 0.76639083 0.81482206\n",
      "  0.24349454 0.97655862 0.42007819 0.33456026 0.41376358 0.78749379\n",
      "  0.60231953 0.42985367 0.46308942 0.91237132 0.69411749 0.39490004\n",
      "  0.08380429 0.5615771  0.93650232 0.78389178 0.67515633 0.32299929\n",
      "  0.37869285 0.74429654 0.67365865 0.95751039 0.48521348 0.24317722\n",
      "  0.21970318 0.46184    0.60456887 0.20120752 0.88732149 0.72726899\n",
      "  0.94071676 0.57187871 1.11293516 0.30901442 0.518322   0.29537978\n",
      "  0.11150093 0.11762791 0.55108218 0.70972967]\n",
      " [0.3640413  0.35213357 0.60580368 0.34803292 0.06749758 0.26799006\n",
      "  0.31302943 0.17052899 0.40313255 0.37119748 0.46432948 0.4993591\n",
      "  0.68224566 0.47661423 0.7097726  0.28199466 0.34912302 0.43916314\n",
      "  0.5869607  0.49622708 0.72622708 0.60508462 0.35596332 0.80017691\n",
      "  0.3805596  0.48451204 0.71732101 0.15769129 0.35414522 0.58264236\n",
      "  0.70855658 0.1324095  0.39113554 0.75381916 0.66449111 0.48096632\n",
      "  0.33659355 0.42946263 0.56556561 0.34313531 0.         0.66882379\n",
      "  0.20281799 0.56541029 0.09662278 0.63800233 0.6524178  0.34819947\n",
      "  0.79904969 0.2481921  0.1214949  0.36292051 0.35802518 0.61337044\n",
      "  0.20600907 0.32001054 0.69267789 0.69784736 0.43376195 0.50390178\n",
      "  0.12733699 0.63343506 0.50245333 0.61184711 0.3107099  0.53518304\n",
      "  0.32460869 0.54471573 0.14802826 0.81051435 0.35397491 0.24694837\n",
      "  0.28385435 0.28907981 0.73578354 0.45335483 0.37527797 0.12170746\n",
      "  0.2006892  0.65549834 0.44483572 0.68280809 0.29634212 0.26575409\n",
      "  0.12573177 0.3336714  0.44134273 0.37815841 0.69059307 0.55624542\n",
      "  0.69928236 0.2448606  0.77142298 0.38321238 0.51796414 0.19220229\n",
      "  0.32205567 0.22600732 0.34297792 0.50819923]\n",
      " [0.5539048  0.97169108 0.06953972 0.58173125 0.72916999 0.7349341\n",
      "  0.42658675 0.65201034 0.33735442 0.88715007 0.73745164 0.81885299\n",
      "  0.20277241 0.37742019 0.13980824 0.535217   0.32294855 0.3894263\n",
      "  0.66272374 0.68584477 0.52981419 0.31627238 0.39390988 0.1330192\n",
      "  0.56653644 0.25511853 0.77006337 0.65717049 0.56719419 0.11173742\n",
      "  0.10140086 0.56388407 1.02184737 0.17853984 0.51773968 0.72220747\n",
      "  0.58739454 1.08309566 0.10395374 0.84189715 0.66882379 0.\n",
      "  0.46789705 0.19042348 0.57575064 0.67289173 0.09185333 0.61671928\n",
      "  0.72021505 0.9066605  0.75049591 0.5212418  0.54282436 0.33875173\n",
      "  0.5585084  0.59714716 0.38085099 0.05211939 0.80191699 0.42510632\n",
      "  0.65196971 0.76910904 0.53851181 0.85070586 0.97813042 0.22808367\n",
      "  0.88808565 0.58159472 0.54436872 0.21193865 0.58651645 0.45971798\n",
      "  0.75928615 0.87278497 0.11181693 0.82330904 0.40156693 0.7904958\n",
      "  0.86604334 0.20089412 1.0318672  0.3159911  0.94302481 0.91381006\n",
      "  0.70062395 0.99557792 0.24030267 0.68608321 0.07146112 0.11641865\n",
      "  0.20659475 0.52301301 0.77921376 0.56969142 0.40760542 0.56176165\n",
      "  0.73872102 0.77727995 0.96964917 0.16395596]\n",
      " [0.32454771 0.53610522 0.40368934 0.28102487 0.266821   0.3269754\n",
      "  0.14989893 0.24988441 0.24802742 0.50539798 0.49185047 0.50946429\n",
      "  0.50331123 0.34661629 0.50786546 0.24140427 0.14639787 0.27485854\n",
      "  0.5510446  0.44558003 0.61881481 0.45335906 0.22242676 0.59835006\n",
      "  0.2989597  0.28835906 0.68931348 0.21610664 0.32373281 0.37982438\n",
      "  0.51448219 0.10485329 0.58087329 0.55259786 0.5635814  0.49668531\n",
      "  0.32114648 0.62873227 0.3655584  0.43257098 0.20281799 0.46789705\n",
      "  0.         0.36596828 0.11778172 0.59431415 0.44967597 0.34697151\n",
      "  0.73489096 0.43960451 0.30127449 0.25936593 0.26702843 0.43536388\n",
      "  0.15075315 0.26861696 0.54998514 0.49950374 0.5016133  0.39118565\n",
      "  0.200065   0.6267612  0.38952882 0.59824932 0.51352784 0.36016751\n",
      "  0.47978896 0.44123801 0.11954693 0.60905465 0.33448541 0.08748113\n",
      "  0.35120665 0.45273702 0.54105727 0.52452287 0.2499573  0.32377601\n",
      "  0.40302253 0.45792058 0.61643185 0.52587907 0.49173317 0.44915711\n",
      "  0.24407035 0.53533466 0.23867703 0.36210735 0.49430364 0.35411223\n",
      "  0.5200477  0.19646742 0.73309186 0.30281101 0.35958575 0.14336127\n",
      "  0.35828193 0.33807203 0.53003991 0.31024119]\n",
      " [0.56309196 0.90053946 0.13168388 0.40583999 0.6313746  0.57502404\n",
      "  0.27484918 0.59608659 0.35091834 0.84927738 0.75556129 0.63419841\n",
      "  0.36341467 0.43455344 0.15036901 0.51595942 0.22851389 0.20594862\n",
      "  0.72736422 0.49738103 0.65448638 0.43174736 0.39193596 0.28172909\n",
      "  0.38615415 0.08508406 0.85205176 0.51623427 0.57238031 0.08590717\n",
      "  0.28742889 0.44234708 0.94635757 0.19013664 0.62672981 0.74746102\n",
      "  0.58569581 0.99408113 0.15797349 0.67809954 0.56541029 0.19042348\n",
      "  0.36596828 0.         0.48352976 0.75022498 0.11497665 0.6164762\n",
      "  0.83211985 0.78293053 0.66693171 0.34418146 0.36596067 0.16400216\n",
      "  0.41351502 0.42552881 0.51862631 0.24213987 0.80030567 0.49170174\n",
      "  0.5179892  0.82882308 0.34831695 0.66100033 0.87399258 0.31128561\n",
      "  0.83502205 0.39122515 0.47054091 0.24709735 0.59043878 0.32646409\n",
      "  0.59824737 0.81205487 0.3017134  0.82321426 0.41156558 0.68300923\n",
      "  0.76592497 0.09383985 0.97581634 0.46010814 0.85766566 0.78377346\n",
      "  0.56745241 0.89906842 0.13736281 0.50780669 0.25688917 0.11909475\n",
      "  0.37280921 0.48860421 0.87360524 0.38896108 0.21721427 0.42018762\n",
      "  0.57023353 0.62882973 0.89518728 0.17870706]\n",
      " [0.29857835 0.41850076 0.51422128 0.33592217 0.15342235 0.31139978\n",
      "  0.25293971 0.15245008 0.30795823 0.39880997 0.43166742 0.52825755\n",
      "  0.58575732 0.38654377 0.62399946 0.21157004 0.26031263 0.38156097\n",
      "  0.52846288 0.49683934 0.64434172 0.51175054 0.26323336 0.7078348\n",
      "  0.36293755 0.40608327 0.66362349 0.18977066 0.29184524 0.49362218\n",
      "  0.61268712 0.09938693 0.46309317 0.66927144 0.58406397 0.44298406\n",
      "  0.27971793 0.51243811 0.47206122 0.4035774  0.09662278 0.57575064\n",
      "  0.11778172 0.48352976 0.         0.57714348 0.56419216 0.29817917\n",
      "  0.73202892 0.34455089 0.18350052 0.33402143 0.33493994 0.5488745\n",
      "  0.18566274 0.31379508 0.60152696 0.60320569 0.421507   0.41834554\n",
      "  0.16167623 0.58784016 0.47289887 0.63184432 0.4023998  0.43876126\n",
      "  0.36689054 0.52063117 0.05986904 0.72550652 0.29618317 0.18432692\n",
      "  0.33206018 0.33769677 0.6400146  0.44334559 0.28449238 0.21696193\n",
      "  0.29033486 0.57567403 0.50072786 0.58888497 0.37456101 0.36070753\n",
      "  0.18707112 0.42097501 0.35409148 0.39152559 0.59525699 0.46482952\n",
      "  0.60278945 0.1683211  0.71404576 0.36626956 0.46468784 0.17221621\n",
      "  0.35750826 0.2922415  0.4122795  0.41383969]\n",
      " [0.27861808 0.67538698 0.66496372 0.87497664 0.64178565 0.88853731\n",
      "  0.71911027 0.47541763 0.41093398 0.5036462  0.2368561  1.09838996\n",
      "  0.50373848 0.31578308 0.80435327 0.3660443  0.59780002 0.80944709\n",
      "  0.05313279 1.0388848  0.22538767 0.36217047 0.39388997 0.7700081\n",
      "  0.89036734 0.72927365 0.1022122  0.76686828 0.285722   0.68815925\n",
      "  0.61619435 0.66478414 0.72534256 0.84867974 0.18574128 0.206724\n",
      "  0.30144017 0.82013959 0.61233855 0.97786094 0.63800233 0.67289173\n",
      "  0.59431415 0.75022498 0.57714348 0.         0.73816531 0.29188837\n",
      "  0.16848297 0.83791237 0.60012796 0.84681442 0.85771437 0.90163823\n",
      "  0.73948967 0.86272386 0.34291217 0.65276415 0.33207507 0.25857917\n",
      "  0.73868432 0.11545179 0.96122809 1.19220317 0.80545757 0.45115199\n",
      "  0.55818501 1.01538152 0.5197299  0.88470056 0.28410496 0.67564232\n",
      "  0.90906839 0.57718113 0.63615459 0.337329   0.36600691 0.70605096\n",
      "  0.7193966  0.82585029 0.66188317 0.39853573 0.70989487 0.86905509\n",
      "  0.75824165 0.78725042 0.64044828 0.95396571 0.62738467 0.64288295\n",
      "  0.51215559 0.41104211 0.13879105 0.89432592 0.8853997  0.72909083\n",
      "  0.93324555 0.86254468 0.68627344 0.57305789]\n",
      " [0.58992433 0.97379696 0.07365125 0.52018093 0.71620387 0.68563645\n",
      "  0.38055029 0.65936463 0.37012318 0.90496435 0.77931482 0.74890263\n",
      "  0.29114387 0.43063762 0.06938939 0.55819052 0.30396718 0.32091152\n",
      "  0.72304795 0.61072468 0.61064666 0.39149034 0.42158734 0.16715949\n",
      "  0.50105356 0.19431973 0.8376616  0.61966627 0.6016418  0.07119344\n",
      "  0.19307504 0.53670938 1.02197715 0.11749348 0.59327201 0.76698371\n",
      "  0.61906547 1.07647639 0.1286684  0.79008642 0.6524178  0.09185333\n",
      "  0.44967597 0.11497665 0.56419216 0.73816531 0.         0.64940591\n",
      "  0.79796783 0.88041004 0.74504952 0.45861491 0.480401   0.24881615\n",
      "  0.51789272 0.5390235  0.46459637 0.1423689  0.83569546 0.48329903\n",
      "  0.6185388  0.82825422 0.45954423 0.77274423 0.9630773  0.2870294\n",
      "  0.89866866 0.49965599 0.5415996  0.16785036 0.62066811 0.4247334\n",
      "  0.7092696  0.8795511  0.20094674 0.85790225 0.434871   0.77276172\n",
      "  0.85267216 0.10911713 1.04169768 0.40099904 0.93776813 0.88391459\n",
      "  0.66796506 0.98469053 0.21109756 0.62259054 0.16331182 0.10989417\n",
      "  0.2964447  0.53878027 0.85130565 0.5038855  0.32675003 0.52320634\n",
      "  0.68326946 0.73567569 0.97007961 0.18208052]\n",
      " [0.06566358 0.4319958  0.5794399  0.62186184 0.34997608 0.60654229\n",
      "  0.49183196 0.1835396  0.28048211 0.29239493 0.14662436 0.82640524\n",
      "  0.52403265 0.26303702 0.71856567 0.10844117 0.40782146 0.60553815\n",
      "  0.23981989 0.78627104 0.42301905 0.39398944 0.22803328 0.74232617\n",
      "  0.64355848 0.56627427 0.36927667 0.48602897 0.05034757 0.5831147\n",
      "  0.60389789 0.39369584 0.48549356 0.76684882 0.3595156  0.14973453\n",
      "  0.03078167 0.57271562 0.52434713 0.69051297 0.34819947 0.61671928\n",
      "  0.34697151 0.6164762  0.29817917 0.29188837 0.64940591 0.\n",
      "  0.45712802 0.54888873 0.31098906 0.60600542 0.61242732 0.73833724\n",
      "  0.47593407 0.60409404 0.44709963 0.61974245 0.18629932 0.24842766\n",
      "  0.4564866  0.28968971 0.73564696 0.92840152 0.53097006 0.40022546\n",
      "  0.32046504 0.78789552 0.24662103 0.81559218 0.03137893 0.43432453\n",
      "  0.62559715 0.32504791 0.6304983  0.2085358  0.21562574 0.41512619\n",
      "  0.4356677  0.70700224 0.45436859 0.46766894 0.44583719 0.57887855\n",
      "  0.47104341 0.52066476 0.48275717 0.68784819 0.60065174 0.53992233\n",
      "  0.53909716 0.15085644 0.42334301 0.64728393 0.68913897 0.46377508\n",
      "  0.65496105 0.57397127 0.43833665 0.46740116]\n",
      " [0.43544066 0.8410383  0.72818637 1.01176271 0.80676346 1.04211407\n",
      "  0.84671278 0.64028408 0.52189059 0.66699865 0.40159038 1.24385527\n",
      "  0.52699213 0.41553063 0.85873769 0.52081505 0.71437478 0.92305981\n",
      "  0.22153008 1.17316362 0.19396301 0.40651846 0.51997905 0.7947739\n",
      "  1.0235618  0.8264716  0.14895333 0.92057736 0.44490466 0.75954526\n",
      "  0.64458392 0.81432014 0.8901157  0.89866654 0.20571701 0.37207017\n",
      "  0.46349989 0.98556047 0.68113072 1.13523861 0.79904969 0.72021505\n",
      "  0.73489096 0.83211985 0.73202892 0.16848297 0.79796783 0.45712802\n",
      "  0.         1.00515006 0.76717178 0.97771278 0.99069579 0.99192768\n",
      "  0.8839528  1.0026519  0.34552531 0.68926297 0.4938765  0.35886026\n",
      "  0.89349933 0.24323587 1.08197499 1.33176073 0.97386768 0.52105123\n",
      "  0.72411606 1.13615109 0.67310181 0.92607219 0.44604781 0.81100118\n",
      "  1.06358806 0.74447286 0.65885832 0.49623146 0.49118552 0.87222651\n",
      "  0.88760688 0.89640946 0.82157813 0.41085129 0.87775481 1.03577301\n",
      "  0.91643784 0.95517839 0.74017185 1.09699212 0.66272864 0.71654014\n",
      "  0.53025105 0.56384103 0.10102433 1.02757645 0.99291465 0.87462754\n",
      "  1.08399548 1.02147275 0.85246601 0.65400056]\n",
      " [0.58260515 0.30102201 0.84100228 0.46184635 0.20840636 0.28622323\n",
      "  0.51095011 0.36885059 0.65100846 0.42974699 0.62776339 0.48761715\n",
      "  0.93030457 0.71993101 0.9320851  0.5109935  0.58374306 0.62063969\n",
      "  0.78491132 0.55572134 0.95695258 0.85121846 0.60236194 1.03563588\n",
      "  0.49818183 0.69843252 0.90251272 0.27392113 0.56959496 0.81309746\n",
      "  0.95295616 0.34399388 0.30564495 0.97302323 0.89381249 0.65182101\n",
      "  0.54691098 0.28338201 0.80498675 0.27433817 0.2481921  0.9066605\n",
      "  0.43960451 0.78293053 0.34455089 0.83791237 0.88041004 0.54888873\n",
      "  1.00515006 0.         0.23801216 0.50449318 0.49011653 0.79680676\n",
      "  0.37457487 0.42950459 0.93616841 0.93910823 0.56450627 0.74197178\n",
      "  0.26609866 0.80771634 0.62590136 0.60827751 0.13974573 0.78330513\n",
      "  0.35964094 0.65243286 0.39487875 1.02995657 0.56397323 0.45680168\n",
      "  0.28053373 0.32037668 0.97984434 0.57718269 0.62001787 0.13757733\n",
      "  0.13040796 0.86701418 0.40583693 0.92940139 0.21781136 0.03772596\n",
      "  0.21733419 0.18751675 0.67122407 0.43108021 0.93359322 0.79160854\n",
      "  0.94733516 0.48131843 0.96148186 0.49902882 0.68565246 0.36557174\n",
      "  0.33770167 0.20180194 0.2836589  0.74975224]\n",
      " [0.34761123 0.23596185 0.69181439 0.46844659 0.06550026 0.36754028\n",
      "  0.42827648 0.13431122 0.45087726 0.25539002 0.39643546 0.60164272\n",
      "  0.73508833 0.50213311 0.80618528 0.28307966 0.44213819 0.55609818\n",
      "  0.54719507 0.61246667 0.72387983 0.63812585 0.39577771 0.88339359\n",
      "  0.50149718 0.5894774  0.66714556 0.27133578 0.33383721 0.67408302\n",
      "  0.77767406 0.25094227 0.2796046  0.8519017  0.66035247 0.41850612\n",
      "  0.31021743 0.33264476 0.6465679  0.42217019 0.1214949  0.75049591\n",
      "  0.30127449 0.66693171 0.18350052 0.60012796 0.74504952 0.31098906\n",
      "  0.76717178 0.23801216 0.         0.48440688 0.47942737 0.7279306\n",
      "  0.32747049 0.43968036 0.71578874 0.77374554 0.34578309 0.51638122\n",
      "  0.24272848 0.57469493 0.62393545 0.7181369  0.24049002 0.58923505\n",
      "  0.20402906 0.66588328 0.20616143 0.9078996  0.32704407 0.36040282\n",
      "  0.37865046 0.16769267 0.80541319 0.36238276 0.40781898 0.10853304\n",
      "  0.13162704 0.75917292 0.32436184 0.71694503 0.19292013 0.26902946\n",
      "  0.22586951 0.24804043 0.53623886 0.49108891 0.76319682 0.64291752\n",
      "  0.75200434 0.26177247 0.72529136 0.5040657  0.63653868 0.31362572\n",
      "  0.4246504  0.30683583 0.22899637 0.58678776]\n",
      " [0.58292249 0.71041992 0.45266608 0.06171182 0.4259322  0.24581688\n",
      "  0.13214206 0.48634478 0.46115902 0.72759906 0.74996345 0.30287173\n",
      "  0.64128062 0.5688967  0.48832325 0.50074805 0.27451519 0.14043088\n",
      "  0.80606325 0.19674109 0.84035446 0.64290104 0.45785554 0.6257357\n",
      "  0.04922179 0.26677797 0.94424314 0.23613808 0.58278065 0.40981121\n",
      "  0.60413473 0.2391956  0.74399431 0.51859602 0.79194438 0.7557354\n",
      "  0.58049238 0.76346735 0.44489795 0.34019245 0.36292051 0.5212418\n",
      "  0.25936593 0.34418146 0.33402143 0.84681442 0.45861491 0.60600542\n",
      "  0.97771278 0.50449318 0.48440688 0.         0.02178614 0.30142331\n",
      "  0.15697175 0.08549783 0.74265407 0.56876874 0.75243594 0.62183704\n",
      "  0.25497611 0.88531178 0.14011394 0.36209438 0.62460128 0.52508686\n",
      "  0.68647517 0.18662248 0.36709892 0.57253759 0.59382863 0.17295223\n",
      "  0.26610995 0.65183183 0.62481659 0.77480746 0.48663954 0.44792702\n",
      "  0.53468681 0.40467361 0.80681643 0.70189579 0.64497294 0.49374059\n",
      "  0.29559136 0.66175817 0.30081359 0.16485909 0.57592134 0.41306346\n",
      "  0.6555806  0.45579132 0.9850215  0.05309474 0.1842849  0.1709036\n",
      "  0.22948607 0.31648597 0.699372   0.41583139]\n",
      " [0.59146031 0.70287259 0.4741753  0.04001075 0.41964068 0.22676075\n",
      "  0.14788107 0.48737681 0.47612773 0.72528972 0.75545514 0.28270496\n",
      "  0.66120489 0.58364001 0.50993199 0.50821437 0.29154628 0.16196803\n",
      "  0.81619157 0.18250102 0.85582749 0.66038336 0.47072155 0.64752162\n",
      "  0.03286625 0.28848141 0.95446666 0.22498249 0.59075232 0.43144424\n",
      "  0.62529894 0.23810267 0.73526283 0.53994233 0.80663591 0.76205126\n",
      "  0.58752786 0.7522835  0.46583805 0.31942402 0.35802518 0.54282436\n",
      "  0.26702843 0.36596067 0.33493994 0.85771437 0.480401   0.61242732\n",
      "  0.99069579 0.49011653 0.47942737 0.02178614 0.         0.32048548\n",
      "  0.15336734 0.06571279 0.76020195 0.59021981 0.7551664  0.63590615\n",
      "  0.24570705 0.89376326 0.14495266 0.34563215 0.61238689 0.54345202\n",
      "  0.68240344 0.1873655  0.37102816 0.59372661 0.60124768 0.18225039\n",
      "  0.24644848 0.64709118 0.64612466 0.77735283 0.49951379 0.43844245\n",
      "  0.5247438  0.42596781 0.80045187 0.72031506 0.63591557 0.47820498\n",
      "  0.2842061  0.65044687 0.32113299 0.14326197 0.59718451 0.43429299\n",
      "  0.67562583 0.46287281 0.9961527  0.03688311 0.20243086 0.16745856\n",
      "  0.2084438  0.29943272 0.6914184  0.4358968 ]\n",
      " [0.69186893 0.9636279  0.29088408 0.3579648  0.68081629 0.54713948\n",
      "  0.30035982 0.68362333 0.49341527 0.93995973 0.88264138 0.54455475\n",
      "  0.52529616 0.5866276  0.23932837 0.63211573 0.33076154 0.17705066\n",
      "  0.87487026 0.39608251 0.81716349 0.59474167 0.52504497 0.3932853\n",
      "  0.32741064 0.17467338 1.00383875 0.522979   0.69880632 0.24756805\n",
      "  0.43984508 0.4813173  1.00439802 0.25052416 0.78724871 0.87823942\n",
      "  0.70802782 1.03844107 0.32195734 0.63755236 0.61337044 0.33875173\n",
      "  0.43536388 0.16400216 0.5488745  0.90163823 0.24881615 0.73833724\n",
      "  0.99192768 0.79680676 0.7279306  0.30142331 0.32048548 0.\n",
      "  0.42489381 0.38619647 0.68258571 0.39045408 0.91563446 0.64463983\n",
      "  0.53414263 0.97302378 0.24071262 0.54554198 0.90658925 0.47273221\n",
      "  0.91483824 0.26813916 0.55293031 0.29545026 0.71549093 0.36756866\n",
      "  0.56689136 0.88655856 0.44957237 0.93884671 0.54848176 0.71972199\n",
      "  0.80655412 0.14783878 1.04947759 0.62403655 0.90932906 0.78984183\n",
      "  0.58084804 0.9386868  0.26318374 0.44432363 0.40942439 0.28307997\n",
      "  0.53373849 0.59748273 1.02891743 0.32875132 0.1192902  0.43577043\n",
      "  0.52605571 0.61665804 0.95555193 0.33834754]\n",
      " [0.46428991 0.55522699 0.48962127 0.15035882 0.2698033  0.18500493\n",
      "  0.13869002 0.33708054 0.39512855 0.57192505 0.61465507 0.35993121\n",
      "  0.63105077 0.49648509 0.56383478 0.37759107 0.24806467 0.24786337\n",
      "  0.69420719 0.31181452 0.76930079 0.59724781 0.37305012 0.68031403\n",
      "  0.17886913 0.32843116 0.83191688 0.10283585 0.46096198 0.45512658\n",
      "  0.6228782  0.08653795 0.59061895 0.60250186 0.71432501 0.62397574\n",
      "  0.45374781 0.6162181  0.46414356 0.29356885 0.20600907 0.5585084\n",
      "  0.15075315 0.41351502 0.18566274 0.73948967 0.51789272 0.47593407\n",
      "  0.8839528  0.37457487 0.32747049 0.15697175 0.15336734 0.42489381\n",
      "  0.         0.1287223  0.69547918 0.59846765 0.60713249 0.54189553\n",
      "  0.10938128 0.76325652 0.29680966 0.45401797 0.48194826 0.4947374\n",
      "  0.52960428 0.34073209 0.22954551 0.65917214 0.46888882 0.10175954\n",
      "  0.20993265 0.49486011 0.64751548 0.62889117 0.40069526 0.29765248\n",
      "  0.38494649 0.49404002 0.65038214 0.66673692 0.49249816 0.3718717\n",
      "  0.15726206 0.51544266 0.31830267 0.2145235  0.59866438 0.44228293\n",
      "  0.647168   0.33154628 0.87815769 0.18198115 0.31968676 0.01409374\n",
      "  0.20914746 0.21886597 0.54476428 0.41810801]\n",
      " [0.59004479 0.6555932  0.52788951 0.03239546 0.37712158 0.16109526\n",
      "  0.18189462 0.46402647 0.49814751 0.69099899 0.74336097 0.24722471\n",
      "  0.70361947 0.60390042 0.5716518  0.50413465 0.32417672 0.22473047\n",
      "  0.81873664 0.18313556 0.87761663 0.69118909 0.48514887 0.70611218\n",
      "  0.06880774 0.34531106 0.95683938 0.17367135 0.58751029 0.48668205\n",
      "  0.67560026 0.2144083  0.68519742 0.60303935 0.82555626 0.75247832\n",
      "  0.58132343 0.69700707 0.5150532  0.25504198 0.32001054 0.59714716\n",
      "  0.26861696 0.42552881 0.31379508 0.86272386 0.5390235  0.60409404\n",
      "  1.0026519  0.42950459 0.43968036 0.08549783 0.06571279 0.38619647\n",
      "  0.1287223  0.         0.79089616 0.64305325 0.73479555 0.6532991\n",
      "  0.19865627 0.89045043 0.19729622 0.32963318 0.55538614 0.57874897\n",
      "  0.64370571 0.2304488  0.35804814 0.65734788 0.59615138 0.19366697\n",
      "  0.18078403 0.60685399 0.69754538 0.75634072 0.51365681 0.38798315\n",
      "  0.47273843 0.48930747 0.75566748 0.75505288 0.58542295 0.41578978\n",
      "  0.23102833 0.59512944 0.36768203 0.09859532 0.6483409  0.48572346\n",
      "  0.71866014 0.45811981 1.00151489 0.06997094 0.26805695 0.14172202\n",
      "  0.14505773 0.23534599 0.6432375  0.48011551]\n",
      " [0.38693386 0.87743816 0.39993328 0.79032204 0.72847536 0.87675913\n",
      "  0.61298792 0.58361829 0.30204212 0.73633152 0.50275154 1.03776967\n",
      "  0.18215301 0.21629937 0.52062939 0.43329571 0.46879061 0.65327919\n",
      "  0.35562683 0.93707764 0.15172829 0.09985289 0.33852327 0.44927254\n",
      "  0.79171659 0.53420981 0.4242188  0.7644661  0.40331703 0.43774732\n",
      "  0.29958747 0.65106373 0.93111054 0.55785048 0.15928974 0.47680077\n",
      "  0.43025332 1.01522014 0.36090935 0.98248223 0.69267789 0.38085099\n",
      "  0.54998514 0.51862631 0.60152696 0.34291217 0.46459637 0.44709963\n",
      "  0.34552531 0.93616841 0.71578874 0.74265407 0.76020195 0.68258571\n",
      "  0.69547918 0.79089616 0.         0.34580321 0.59362419 0.20214905\n",
      "  0.74467005 0.4560259  0.81846744 1.10442867 0.95434363 0.2211966\n",
      "  0.76750428 0.87056475 0.54495405 0.58210029 0.4182946  0.60126931\n",
      "  0.90111479 0.77000345 0.31333342 0.6088286  0.31745846 0.79953463\n",
      "  0.84740054 0.56905893 0.9000563  0.06569521 0.88222259 0.9575295\n",
      "  0.78229435 0.95290299 0.45865752 0.88949144 0.31924911 0.39953282\n",
      "  0.18474003 0.45607499 0.41811289 0.79565492 0.70862382 0.69067294\n",
      "  0.90448104 0.8835273  0.88255346 0.35138718]\n",
      " [0.55547679 0.99006465 0.11636996 0.62874667 0.7562146  0.77737305\n",
      "  0.46945653 0.66931083 0.34497768 0.89725359 0.73368872 0.86787807\n",
      "  0.1640812  0.37003418 0.18125648 0.54496361 0.35731603 0.43897582\n",
      "  0.64648858 0.73630256 0.49677757 0.29149153 0.40319756 0.12329269\n",
      "  0.61473401 0.30394098 0.74759194 0.69538169 0.56961325 0.16133752\n",
      "  0.05190845 0.59841774 1.0410881  0.21344697 0.48994263 0.71661265\n",
      "  0.59133199 1.10562753 0.13512018 0.88498501 0.69784736 0.05211939\n",
      "  0.49950374 0.24213987 0.60320569 0.65276415 0.1423689  0.61974245\n",
      "  0.68926297 0.93910823 0.77374554 0.56876874 0.59021981 0.39045408\n",
      "  0.59846765 0.64305325 0.34580321 0.         0.80293903 0.41301852\n",
      "  0.68855369 0.75314318 0.58986457 0.90167334 1.00513876 0.22156931\n",
      "  0.90223224 0.63336492 0.56787748 0.23681577 0.58891805 0.49829834\n",
      "  0.80191885 0.88907506 0.05971346 0.82370799 0.40723244 0.81948336\n",
      "  0.89263586 0.25061914 1.04587717 0.28016947 0.96530846 0.94785492\n",
      "  0.73664587 1.0205003  0.28075541 0.73342679 0.02656633 0.15784589\n",
      "  0.16485666 0.53702167 0.75301838 0.61797064 0.45935277 0.60091273\n",
      "  0.78333901 0.8166476  0.98890949 0.1896935 ]\n",
      " [0.2480263  0.34975459 0.76569198 0.75742874 0.4057679  0.70132672\n",
      "  0.65129715 0.27115916 0.46659213 0.17336453 0.09722902 0.93304206\n",
      "  0.69695576 0.43821382 0.90483577 0.28496119 0.58530686 0.77247417\n",
      "  0.28417295 0.91742918 0.52977368 0.55895455 0.41422138 0.92597396\n",
      "  0.7839966  0.74619101 0.3625048  0.58959771 0.23489782 0.76920965\n",
      "  0.78426488 0.52067617 0.39716138 0.95312774 0.47164968 0.1273674\n",
      "  0.21666744 0.49324995 0.7105351  0.76639083 0.43376195 0.80191699\n",
      "  0.5016133  0.80030567 0.421507   0.33207507 0.83569546 0.18629932\n",
      "  0.4938765  0.56450627 0.34578309 0.75243594 0.7551664  0.91563446\n",
      "  0.60713249 0.73479555 0.59362419 0.80293903 0.         0.41082847\n",
      "  0.558833   0.26075144 0.88856951 1.04415879 0.5002468  0.58194399\n",
      "  0.23485453 0.93849124 0.38593672 1.00185876 0.21563367 0.58776489\n",
      "  0.71589979 0.26189514 0.8102497  0.02322298 0.40167553 0.45205127\n",
      "  0.435352   0.89167733 0.32989828 0.62630058 0.3968399  0.6002352\n",
      "  0.55793777 0.47364782 0.66507721 0.80678276 0.78291236 0.72616872\n",
      "  0.71100176 0.31827046 0.42450749 0.78740497 0.85720377 0.59358438\n",
      "  0.75581758 0.64960992 0.36254347 0.65370019]\n",
      " [0.18595945 0.67607737 0.40969169 0.65949567 0.53356998 0.71361026\n",
      "  0.49002926 0.38310027 0.16304358 0.54042269 0.329307   0.89863146\n",
      "  0.2878482  0.05817609 0.55086398 0.23330792 0.35555034 0.56452883\n",
      "  0.23975724 0.81824944 0.22840366 0.14824255 0.16892709 0.53516138\n",
      "  0.66870829 0.47398009 0.36035293 0.59534063 0.20243865 0.43047692\n",
      "  0.3850231  0.48306608 0.72976863 0.59657397 0.17255003 0.30858304\n",
      "  0.2292944  0.81318741 0.35585559 0.81482206 0.50390178 0.42510632\n",
      "  0.39118565 0.49170174 0.41834554 0.25857917 0.48329903 0.24842766\n",
      "  0.35886026 0.74197178 0.51638122 0.62183704 0.63590615 0.64463983\n",
      "  0.54189553 0.6532991  0.20214905 0.41301852 0.41082847 0.\n",
      "  0.57198787 0.34517026 0.72315172 0.97989947 0.7535519  0.19774941\n",
      "  0.56757015 0.7773129  0.35921962 0.63636322 0.21845908 0.45974278\n",
      "  0.73690393 0.56861108 0.40902735 0.42889888 0.14126455 0.60453555\n",
      "  0.64793244 0.56781474 0.70279625 0.21939995 0.68011128 0.76547301\n",
      "  0.60437279 0.75109571 0.3858543  0.75005636 0.38965808 0.38501704\n",
      "  0.30115796 0.26086559 0.38462331 0.67273421 0.6360278  0.53439708\n",
      "  0.7488141  0.70858608 0.68084458 0.31456258]\n",
      " [0.46019672 0.45785494 0.58434617 0.22887126 0.17897936 0.15021232\n",
      "  0.24489986 0.29036653 0.44342813 0.49680821 0.58288399 0.37504297\n",
      "  0.70307325 0.53445761 0.66777694 0.37324414 0.33155329 0.35716102\n",
      "  0.68969349 0.37002101 0.79989929 0.65004718 0.40854132 0.77768267\n",
      "  0.26358404 0.43316852 0.824127   0.03076886 0.45315265 0.55312308\n",
      "  0.7082712  0.09526622 0.48955592 0.70785075 0.74097509 0.59707733\n",
      "  0.43994217 0.50950628 0.55343361 0.24349454 0.12733699 0.65196971\n",
      "  0.200065   0.5179892  0.16167623 0.73868432 0.6185388  0.4564866\n",
      "  0.89349933 0.26609866 0.24272848 0.25497611 0.24570705 0.53414263\n",
      "  0.10938128 0.19865627 0.74467005 0.68855369 0.558833   0.57198787\n",
      "  0.         0.74575144 0.39018765 0.48544344 0.37330905 0.56021744\n",
      "  0.44646854 0.42806042 0.22043144 0.76471682 0.4567099  0.19389704\n",
      "  0.17040125 0.40895526 0.73407392 0.57896266 0.43320971 0.19296177\n",
      "  0.27975611 0.60103802 0.55713195 0.72414855 0.39024514 0.26584919\n",
      "  0.04950159 0.40815803 0.4126729  0.25083279 0.68610661 0.53568169\n",
      "  0.71974482 0.32965839 0.8752805  0.26573217 0.42730947 0.09958565\n",
      "  0.19952913 0.13897729 0.44602561 0.50239518]\n",
      " [0.30239124 0.61041709 0.75460932 0.90638604 0.62499744 0.89556847\n",
      "  0.7633236  0.46367868 0.47995311 0.43320601 0.1802798  1.11598929\n",
      "  0.61021694 0.39816381 0.89600848 0.38647292 0.65525249 0.86495803\n",
      "  0.10665463 1.07122131 0.34034336 0.46626826 0.4508484  0.87283526\n",
      "  0.92570916 0.79860932 0.10210617 0.77548275 0.30328744 0.77346677\n",
      "  0.71960846 0.68255204 0.65709172 0.94172876 0.30058931 0.15621024\n",
      "  0.30964154 0.75344157 0.70033306 0.97655862 0.63343506 0.76910904\n",
      "  0.6267612  0.82882308 0.58784016 0.11545179 0.82825422 0.28968971\n",
      "  0.24323587 0.80771634 0.57469493 0.88531178 0.89376326 0.97302378\n",
      "  0.76325652 0.89045043 0.4560259  0.75314318 0.26075144 0.34517026\n",
      "  0.74575144 0.         1.00833012 1.21685622 0.75719667 0.54277502\n",
      "  0.49546766 1.06185001 0.53514973 0.98085159 0.29437477 0.71236015\n",
      "  0.91412344 0.52075246 0.74094303 0.2591046  0.4255412  0.68312882\n",
      "  0.68255951 0.9095842  0.58211575 0.50920734 0.65582242 0.84141371\n",
      "  0.7581025  0.73306021 0.70984837 0.97643825 0.72849134 0.72785132\n",
      "  0.61975471 0.4324058  0.16412644 0.92955024 0.94474736 0.7515385\n",
      "  0.94454936 0.85924097 0.62329485 0.65568425]\n",
      " [0.70711737 0.84772262 0.4758117  0.16496077 0.56454571 0.34756013\n",
      "  0.2451394  0.6248185  0.56010864 0.86766812 0.88118903 0.30396273\n",
      "  0.69252155 0.66715123 0.46943925 0.62846219 0.3676035  0.16521941\n",
      "  0.92367015 0.15566989 0.93097352 0.72072067 0.56757109 0.61999312\n",
      "  0.12861538 0.29404416 1.06089315 0.36819929 0.70859822 0.42950634\n",
      "  0.63298692 0.37918544 0.87959938 0.48802893 0.88793409 0.88506867\n",
      "  0.70878378 0.89406413 0.48441669 0.42007819 0.50245333 0.53851181\n",
      "  0.38952882 0.34831695 0.47289887 0.96122809 0.45954423 0.73564696\n",
      "  1.08197499 0.62590136 0.62393545 0.14011394 0.14495266 0.24071262\n",
      "  0.29680966 0.19729622 0.81846744 0.58986457 0.88856951 0.72315172\n",
      "  0.39018765 1.00833012 0.         0.31320414 0.75267652 0.59727097\n",
      "  0.82641394 0.05425067 0.5026337  0.53550108 0.72106923 0.30212032\n",
      "  0.36203389 0.79150991 0.64911909 0.91116928 0.59582856 0.58247169\n",
      "  0.66828704 0.37772255 0.94539169 0.7700696  0.78008404 0.61045121\n",
      "  0.42684733 0.79216992 0.35999512 0.21910515 0.60282081 0.44712837\n",
      "  0.70475736 0.58479053 1.09786492 0.12732759 0.13322757 0.31081041\n",
      "  0.31182192 0.42817988 0.83614699 0.47187771]\n",
      " [0.91825211 0.89476531 0.78658648 0.3204578  0.65268688 0.35135837\n",
      "  0.49348463 0.77439649 0.82137506 0.97275404 1.06327787 0.12103072\n",
      "  0.99489312 0.92859369 0.78076791 0.83160294 0.63660863 0.46629089\n",
      "  1.14777114 0.16849813 1.20128753 1.00476299 0.81292181 0.93251137\n",
      "  0.31338552 0.60111724 1.28569199 0.45471081 0.91496101 0.74061694\n",
      "  0.94337164 0.53471732 0.90968903 0.79598952 1.15137135 1.07476718\n",
      "  0.90721584 0.89034956 0.79043915 0.33456026 0.61184711 0.85070586\n",
      "  0.59824932 0.66100033 0.63184432 1.19220317 0.77274423 0.92840152\n",
      "  1.33176073 0.60827751 0.7181369  0.36209438 0.34563215 0.54554198\n",
      "  0.45401797 0.32963318 1.10442867 0.90167334 1.04415879 0.97989947\n",
      "  0.48544344 1.21685622 0.31320414 0.         0.74796019 0.88576022\n",
      "  0.91466081 0.27745716 0.68189626 0.84005413 0.92260917 0.52098747\n",
      "  0.34386111 0.87461403 0.96057276 1.06439358 0.84160445 0.63491251\n",
      "  0.70336779 0.68854543 1.00070821 1.06219457 0.81406063 0.5777325\n",
      "  0.49248845 0.79571378 0.65490874 0.24055813 0.91352777 0.7546701\n",
      "  1.00820168 0.78556138 1.3309889  0.30939501 0.44625592 0.4654136\n",
      "  0.2936989  0.42402066 0.87909251 0.77013059]\n",
      " [0.57755644 0.18198508 0.91602686 0.58771772 0.24902725 0.42161391\n",
      "  0.61098511 0.37072535 0.69042885 0.3419847  0.57844304 0.62734908\n",
      "  0.97460499 0.74195822 1.01980341 0.5210547  0.65979851 0.72955897\n",
      "  0.75259477 0.69218084 0.95288418 0.87836322 0.63598823 1.11005263\n",
      "  0.62409098 0.79158605 0.85678997 0.38865753 0.56248298 0.89335215\n",
      "  1.01249377 0.4325962  0.17297215 1.06328082 0.8891966  0.60587663\n",
      "  0.53688908 0.14458511 0.87446087 0.41376358 0.3107099  0.97813042\n",
      "  0.51352784 0.87399258 0.4023998  0.80545757 0.9630773  0.53097006\n",
      "  0.97386768 0.13974573 0.24049002 0.62460128 0.61238689 0.90658925\n",
      "  0.48194826 0.55538614 0.95434363 1.00513876 0.5002468  0.7535519\n",
      "  0.37330905 0.75719667 0.75267652 0.74796019 0.         0.82820234\n",
      "  0.27122635 0.78281221 0.43943009 1.1201141  0.5524808  0.54980588\n",
      "  0.41804112 0.23880006 1.04006696 0.50816523 0.64830779 0.19098552\n",
      "  0.11266247 0.96245251 0.27982501 0.95716307 0.10689037 0.17145314\n",
      "  0.32923078 0.04898008 0.75198305 0.56653023 0.99634625 0.8665157\n",
      "  0.99156787 0.50212612 0.91793472 0.6253569  0.8005679  0.47082665\n",
      "  0.47507231 0.3375135  0.16407559 0.81607719]\n",
      " [0.3352771  0.79008859 0.21383988 0.57542088 0.58436136 0.67943573\n",
      "  0.39796689 0.47131045 0.13891722 0.68358045 0.51224082 0.82392997\n",
      "  0.14717516 0.14957562 0.35373685 0.3343173  0.25458395 0.4320846\n",
      "  0.43691639 0.71782802 0.34491278 0.12470533 0.19659375 0.34485936\n",
      "  0.57430038 0.31540775 0.550948   0.57544163 0.34990192 0.23982959\n",
      "  0.20391922 0.46496353 0.84260047 0.39901699 0.31550047 0.49566415\n",
      "  0.37268901 0.91454418 0.16221727 0.78749379 0.53518304 0.22808367\n",
      "  0.36016751 0.31128561 0.43876126 0.45115199 0.2870294  0.40022546\n",
      "  0.52105123 0.78330513 0.58923505 0.52508686 0.54345202 0.47273221\n",
      "  0.4947374  0.57874897 0.2211966  0.22156931 0.58194399 0.19774941\n",
      "  0.56021744 0.54277502 0.59727097 0.88576022 0.82820234 0.\n",
      "  0.69469739 0.649411   0.39116858 0.43874376 0.36910391 0.39553392\n",
      "  0.70428219 0.68566712 0.2308897  0.60249517 0.1935243  0.65290817\n",
      "  0.71614183 0.37770492 0.83721939 0.17686698 0.77499088 0.7986987\n",
      "  0.60322625 0.83690794 0.2375295  0.67699114 0.2009703  0.19585349\n",
      "  0.16421941 0.33500467 0.56687442 0.57818147 0.48897122 0.49214518\n",
      "  0.70091607 0.69804087 0.79091097 0.13471848]\n",
      " [0.38164927 0.1172675  0.83734509 0.67236125 0.26771878 0.56342321\n",
      "  0.61967081 0.23964405 0.55907293 0.07134429 0.32256021 0.79595907\n",
      "  0.83106152 0.57425735 0.96414419 0.36038628 0.60651919 0.74833826\n",
      "  0.50708075 0.81557476 0.73412567 0.70989652 0.50032812 1.01999773\n",
      "  0.70515394 0.76400729 0.59695959 0.47457665 0.36516204 0.82777653\n",
      "  0.89606889 0.4494085  0.16859277 1.011624   0.67196185 0.35207952\n",
      "  0.33838286 0.26205659 0.78660405 0.60231953 0.32460869 0.88808565\n",
      "  0.47978896 0.83502205 0.36689054 0.55818501 0.89866866 0.32046504\n",
      "  0.72411606 0.35964094 0.20402906 0.68647517 0.68240344 0.91483824\n",
      "  0.52960428 0.64370571 0.76750428 0.90223224 0.23485453 0.56757015\n",
      "  0.44646854 0.49546766 0.82641394 0.91466081 0.27122635 0.69469739\n",
      "  0.         0.86929823 0.3654813  1.0657194  0.34936127 0.55102392\n",
      "  0.57143115 0.0407515  0.9236767  0.23971627 0.50122306 0.28105693\n",
      "  0.23105428 0.92878665 0.14378589 0.78564062 0.16498712 0.39725261\n",
      "  0.42595916 0.24023826 0.69892763 0.69293774 0.88718964 0.79092167\n",
      "  0.84706331 0.36538906 0.6588729  0.70778331 0.83099067 0.51561043\n",
      "  0.6212811  0.49389572 0.12840598 0.72598902]\n",
      " [0.76036049 0.88573871 0.52080996 0.19929122 0.60500438 0.36875035\n",
      "  0.29852693 0.67296722 0.61426972 0.91265514 0.93308789 0.28759185\n",
      "  0.74136991 0.72123227 0.50393182 0.68105709 0.42177692 0.21752533\n",
      "  0.97765739 0.13732368 0.98443996 0.77320503 0.62177554 0.65646488\n",
      "  0.1646806  0.34264992 1.11496181 0.40402752 0.76159502 0.47435772\n",
      "  0.67786989 0.42506432 0.91564176 0.51853663 0.94179558 0.93746165\n",
      "  0.7613198  0.92561257 0.532442   0.42985367 0.54471573 0.58159472\n",
      "  0.44123801 0.39122515 0.52063117 1.01538152 0.49965599 0.78789552\n",
      "  1.13615109 0.65243286 0.66588328 0.18662248 0.1873655  0.26813916\n",
      "  0.34073209 0.2304488  0.87056475 0.63336492 0.93849124 0.7773129\n",
      "  0.42806042 1.06185001 0.05425067 0.27745716 0.78281221 0.649411\n",
      "  0.86929823 0.         0.55270775 0.5630865  0.77382248 0.35375763\n",
      "  0.38027408 0.83356772 0.69291612 0.96096133 0.650051   0.61842969\n",
      "  0.7030426  0.41160818 0.98504772 0.82128085 0.81585858 0.63440891\n",
      "  0.46140622 0.82388145 0.41190763 0.23019919 0.64749009 0.49454499\n",
      "  0.75320476 0.63707484 1.1520786  0.16237492 0.17401435 0.35482377\n",
      "  0.32653489 0.45186632 0.87355332 0.52255553]\n",
      " [0.2411982  0.43234431 0.48631753 0.37714782 0.19322922 0.36930848\n",
      "  0.26857316 0.13078521 0.25641407 0.38702948 0.38567201 0.58156095\n",
      "  0.53829339 0.3291803  0.60451072 0.15368566 0.24229485 0.39440063\n",
      "  0.47181882 0.54078989 0.58469624 0.45708528 0.20795819 0.67730023\n",
      "  0.40099759 0.39852951 0.60796673 0.24763046 0.23554385 0.47042877\n",
      "  0.57328136 0.14741442 0.48041659 0.65111552 0.52427422 0.39444433\n",
      "  0.22562155 0.53872696 0.44046019 0.46308942 0.14802826 0.54436872\n",
      "  0.11954693 0.47054091 0.05986904 0.5197299  0.5415996  0.24662103\n",
      "  0.67310181 0.39487875 0.20616143 0.36709892 0.37102816 0.55293031\n",
      "  0.22954551 0.35804814 0.54495405 0.56787748 0.38593672 0.35921962\n",
      "  0.22043144 0.53514973 0.5026337  0.68189626 0.43943009 0.39116858\n",
      "  0.3654813  0.55270775 0.         0.70640578 0.24145365 0.20275254\n",
      "  0.39051496 0.34151674 0.60091933 0.40854789 0.22749624 0.26198872\n",
      "  0.32681296 0.5640959  0.50532827 0.53491335 0.39870504 0.41370602\n",
      "  0.24693203 0.45271191 0.33588095 0.44137958 0.55788111 0.43771581\n",
      "  0.55533197 0.1092983  0.65724181 0.40457693 0.47909827 0.21721312\n",
      "  0.41360265 0.35210949 0.428484   0.38062693]\n",
      " [0.75508696 1.13871363 0.23617839 0.6334654  0.87571603 0.81320105\n",
      "  0.52059471 0.82620449 0.53540856 1.07276102 0.94273567 0.83854373\n",
      "  0.3999678  0.58712719 0.10189523 0.72580392 0.4657737  0.43264978\n",
      "  0.8745466  0.69113442 0.73339715 0.5262208  0.58827628 0.14976505\n",
      "  0.60789211 0.33157526 0.98141332 0.76200777 0.76728517 0.23809754\n",
      "  0.28297055 0.68920837 1.1861424  0.05696602 0.72626041 0.92908517\n",
      "  0.78543446 1.23772021 0.29152323 0.91237132 0.81051435 0.21193865\n",
      "  0.60905465 0.24709735 0.72550652 0.88470056 0.16785036 0.81559218\n",
      "  0.92607219 1.02995657 0.9078996  0.57253759 0.59372661 0.29545026\n",
      "  0.65917214 0.65734788 0.58210029 0.23681577 1.00185876 0.63636322\n",
      "  0.76471682 0.98085159 0.53550108 0.84005413 1.1201141  0.43874376\n",
      "  1.0657194  0.5630865  0.70640578 0.         0.78643057 0.57355793\n",
      "  0.83543048 1.0458833  0.27340404 1.02387904 0.600331   0.92916568\n",
      "  1.01120314 0.16815443 1.20848023 0.51640568 1.10001283 1.03033249\n",
      "  0.81412708 1.14404075 0.37166085 0.72905899 0.26334364 0.27753614\n",
      "  0.39882856 0.70661513 0.98893006 0.60997939 0.40711423 0.66639925\n",
      "  0.80201476 0.87188937 1.13445312 0.34847706]\n",
      " [0.03428903 0.45954208 0.5502528  0.61255491 0.36149711 0.6069076\n",
      "  0.47633646 0.19559725 0.2510439  0.32318309 0.16716312 0.82299174\n",
      "  0.49269699 0.23172412 0.68992257 0.09308175 0.38577097 0.58695503\n",
      "  0.23363161 0.7773256  0.40040377 0.36323578 0.20006528 0.71161933\n",
      "  0.6328419  0.5425263  0.36749225 0.48561402 0.01933412 0.55496471\n",
      "  0.57269319 0.38879072 0.51315732 0.73815443 0.33671898 0.16532614\n",
      "  0.01745308 0.59912562 0.49500521 0.69411749 0.35397491 0.58651645\n",
      "  0.33448541 0.59043878 0.29618317 0.28410496 0.62066811 0.03137893\n",
      "  0.44604781 0.56397323 0.32704407 0.59382863 0.60124768 0.71549093\n",
      "  0.46888882 0.59615138 0.4182946  0.58891805 0.21563367 0.21845908\n",
      "  0.4567099  0.29437477 0.72106923 0.92260917 0.5524808  0.36910391\n",
      "  0.34936127 0.77382248 0.24145365 0.78643057 0.         0.42123729\n",
      "  0.62675704 0.35226144 0.59925147 0.23746716 0.18611462 0.42857813\n",
      "  0.45434755 0.68028451 0.4845888  0.43739463 0.47019805 0.59281239\n",
      "  0.47442206 0.54413311 0.45788033 0.68229542 0.56966044 0.51142309\n",
      "  0.5077906  0.13850041 0.41897816 0.63663375 0.66991044 0.45722391\n",
      "  0.65368183 0.57850262 0.46529724 0.43859035]\n",
      " [0.40997035 0.59606164 0.3914488  0.20076153 0.31441655 0.28618469\n",
      "  0.0686469  0.33012068 0.30504101 0.58236299 0.57933028 0.44014911\n",
      "  0.52990998 0.41029377 0.47528601 0.32819891 0.1463411  0.19731547\n",
      "  0.63394119 0.36339866 0.68405025 0.50210837 0.29200679 0.58408652\n",
      "  0.21478081 0.24259294 0.77221717 0.19745257 0.40992094 0.35930201\n",
      "  0.52157127 0.11728115 0.63725563 0.51659392 0.63191653 0.5840017\n",
      "  0.40820619 0.67542798 0.36354316 0.39490004 0.24694837 0.45971798\n",
      "  0.08748113 0.32646409 0.18432692 0.67564232 0.4247334  0.43432453\n",
      "  0.81100118 0.45680168 0.36040282 0.17295223 0.18225039 0.36756866\n",
      "  0.10175954 0.19366697 0.60126931 0.49829834 0.58776489 0.45974278\n",
      "  0.19389704 0.71236015 0.30212032 0.52098747 0.54980588 0.39553392\n",
      "  0.55102392 0.35375763 0.20275254 0.57355793 0.42123729 0.\n",
      "  0.31113214 0.52090571 0.54644141 0.61055908 0.32064989 0.35934231\n",
      "  0.44442379 0.41293988 0.68290201 0.56938114 0.54327981 0.45922059\n",
      "  0.24326345 0.57767538 0.21959497 0.29121605 0.49774199 0.34330008\n",
      "  0.5459232  0.28364579 0.8141806  0.2187252  0.28041929 0.10275073\n",
      "  0.30541417 0.31839065 0.58809741 0.31647747]\n",
      " [0.63059789 0.55268493 0.68979099 0.20938087 0.31394899 0.02494769\n",
      "  0.33271991 0.45386787 0.59923002 0.6311286  0.74781695 0.22452918\n",
      "  0.84092685 0.6960621  0.74686263 0.54361089 0.45734113 0.40332574\n",
      "  0.85995905 0.27534666 0.96529586 0.80397551 0.5703968  0.87525641\n",
      "  0.24249314 0.51511511 0.99398587 0.14311533 0.62348327 0.65177409\n",
      "  0.8292154  0.25383858 0.57099307 0.78038189 0.90752952 0.76357333\n",
      "  0.60988555 0.5626107  0.66914604 0.08380429 0.28385435 0.75928615\n",
      "  0.35120665 0.59824737 0.33206018 0.90906839 0.7092696  0.62559715\n",
      "  1.06358806 0.28053373 0.37865046 0.26610995 0.24644848 0.56689136\n",
      "  0.20993265 0.18078403 0.90111479 0.80191885 0.71589979 0.73690393\n",
      "  0.17040125 0.91412344 0.36203389 0.34386111 0.41804112 0.70428219\n",
      "  0.57143115 0.38027408 0.39051496 0.83543048 0.62675704 0.31113214\n",
      "  0.         0.53119373 0.85309764 0.73470038 0.59646306 0.29110851\n",
      "  0.36109193 0.66728711 0.6582252  0.87500822 0.47339289 0.25755331\n",
      "  0.15827952 0.46346126 0.52132623 0.15231369 0.80394794 0.64431801\n",
      "  0.8570009  0.49980999 1.0455287  0.24202165 0.44840933 0.21217118\n",
      "  0.05716796 0.08182724 0.53750281 0.62598281]\n",
      " [0.38306962 0.1074663  0.82001455 0.63591955 0.22997652 0.52350277\n",
      "  0.58947155 0.22093767 0.54839789 0.10937178 0.3442877  0.75571818\n",
      "  0.82477059 0.57115636 0.9440861  0.35259984 0.58370897 0.71806115\n",
      "  0.52521758 0.7772753  0.74456768 0.70798314 0.48974836 1.00527792\n",
      "  0.66914016 0.73913782 0.62142483 0.43661033 0.36669694 0.80844627\n",
      "  0.88516387 0.41631452 0.16115763 0.9912048  0.68172519 0.37295956\n",
      "  0.33976131 0.24828063 0.77038519 0.5615771  0.28907981 0.87278497\n",
      "  0.45273702 0.81205487 0.33769677 0.57718113 0.8795511  0.32504791\n",
      "  0.74447286 0.32037668 0.16769267 0.65183183 0.64709118 0.88655856\n",
      "  0.49486011 0.60685399 0.77000345 0.88907506 0.26189514 0.56861108\n",
      "  0.40895526 0.52075246 0.79150991 0.87461403 0.23880006 0.68566712\n",
      "  0.0407515  0.83356772 0.34151674 1.0458833  0.35226144 0.52090571\n",
      "  0.53119373 0.         0.91289288 0.26936541 0.49293875 0.24055153\n",
      "  0.19110075 0.90560424 0.16393855 0.78480481 0.13510401 0.35788358\n",
      "  0.38695572 0.21232158 0.67694017 0.65410889 0.87500124 0.77284597\n",
      "  0.84103659 0.35253504 0.68305392 0.67168441 0.7999903  0.48094965\n",
      "  0.58140028 0.45338426 0.11335752 0.70970611]\n",
      " [0.56521215 1.0158167  0.17419917 0.68426516 0.79189539 0.82840041\n",
      "  0.52161109 0.69522942 0.36469332 0.91428568 0.73593369 0.92505726\n",
      "  0.13355658 0.37251955 0.23319505 0.56378849 0.40267968 0.49688488\n",
      "  0.6346622  0.79479782 0.46500676 0.27472522 0.42344114 0.13610518\n",
      "  0.67132246 0.36152942 0.72751868 0.74247394 0.58015133 0.21995775\n",
      "  0.02781524 0.64225942 1.06764298 0.25946272 0.46515138 0.71685404\n",
      "  0.60335374 1.13558044 0.18396521 0.93650232 0.73578354 0.11181693\n",
      "  0.54105727 0.3017134  0.6400146  0.63615459 0.20094674 0.6304983\n",
      "  0.65885832 0.97984434 0.80541319 0.62481659 0.64612466 0.44957237\n",
      "  0.64751548 0.69754538 0.31333342 0.05971346 0.8102497  0.40902735\n",
      "  0.73407392 0.74094303 0.64911909 0.96057276 1.04006696 0.2308897\n",
      "  0.9236767  0.69291612 0.60091933 0.27340404 0.59925147 0.54644141\n",
      "  0.85309764 0.91289288 0.         0.83020981 0.423535   0.85695331\n",
      "  0.92740499 0.30809539 1.0667275  0.24817201 0.99532532 0.99021439\n",
      "  0.7814748  1.05318837 0.33210789 0.78913995 0.04927293 0.21197069\n",
      "  0.12863238 0.56047464 0.72830454 0.67462818 0.51890242 0.64918678\n",
      "  0.83644841 0.86460921 1.01562141 0.23172493]\n",
      " [0.26944756 0.35239392 0.78770094 0.77922788 0.42339455 0.7205067\n",
      "  0.67425408 0.29242002 0.48851035 0.17452707 0.10774204 0.95271344\n",
      "  0.71574499 0.45786885 0.9270854  0.30804389 0.60849738 0.79559936\n",
      "  0.29120965 0.93881977 0.54034226 0.57678017 0.43656043 0.94682843\n",
      "  0.80603855 0.76933811 0.36120785 0.60971127 0.25666441 0.7916203\n",
      "  0.80437214 0.54239004 0.39814852 0.97535959 0.48331652 0.13676097\n",
      "  0.2390431  0.49459475 0.73247198 0.78389178 0.45335483 0.82330904\n",
      "  0.52452287 0.82321426 0.44334559 0.337329   0.85790225 0.2085358\n",
      "  0.49623146 0.57718269 0.36238276 0.77480746 0.77735283 0.93884671\n",
      "  0.62889117 0.75634072 0.6088286  0.82370799 0.02322298 0.42889888\n",
      "  0.57896266 0.2591046  0.91116928 1.06439358 0.50816523 0.60249517\n",
      "  0.23971627 0.96096133 0.40854789 1.02387904 0.23746716 0.61055908\n",
      "  0.73470038 0.26936541 0.83020981 0.         0.42358124 0.46764494\n",
      "  0.44742128 0.91448256 0.32545258 0.64304646 0.40355521 0.61329019\n",
      "  0.57698339 0.47973645 0.68809891 0.82749428 0.80345239 0.74845511\n",
      "  0.72960188 0.34149261 0.42323047 0.80942702 0.88034185 0.61529228\n",
      "  0.77533231 0.66743422 0.36596698 0.67586362]\n",
      " [0.15506776 0.59815086 0.36415823 0.52121854 0.41353101 0.57297888\n",
      "  0.35620817 0.28253852 0.0649293  0.49098476 0.34591984 0.75811484\n",
      "  0.33252978 0.10210278 0.50420023 0.14084415 0.23215104 0.4437145\n",
      "  0.33166933 0.68199291 0.36934879 0.23170382 0.02879386 0.52881601\n",
      "  0.53238002 0.37381978 0.466781   0.45560992 0.16695417 0.37012669\n",
      "  0.39616375 0.34276175 0.65103706 0.55236084 0.31363043 0.33621537\n",
      "  0.1859373  0.72582268 0.30889074 0.67515633 0.37527797 0.40156693\n",
      "  0.2499573  0.41156558 0.28449238 0.36600691 0.434871   0.21562574\n",
      "  0.49118552 0.62001787 0.40781898 0.48663954 0.49951379 0.54848176\n",
      "  0.40069526 0.51365681 0.31745846 0.40723244 0.40167553 0.14126455\n",
      "  0.43320971 0.4255412  0.59582856 0.84160445 0.64830779 0.1935243\n",
      "  0.50122306 0.650051   0.22749624 0.600331   0.18611462 0.32064989\n",
      "  0.59646306 0.49293875 0.423535   0.42358124 0.         0.48431908\n",
      "  0.53818524 0.49874269 0.6436991  0.31035242 0.58743247 0.64047014\n",
      "  0.4678103  0.6527017  0.28557507 0.60979204 0.3897292  0.32602548\n",
      "  0.34904383 0.14671019 0.50204753 0.53639549 0.52107286 0.39313389\n",
      "  0.60759119 0.57094899 0.59968204 0.25283205]\n",
      " [0.4460187  0.26899458 0.72724537 0.41934934 0.07108038 0.28479034\n",
      "  0.42178297 0.2329889  0.51823905 0.3435614  0.50496443 0.51550464\n",
      "  0.80007941 0.58346749 0.82895936 0.37343097 0.47017213 0.54312887\n",
      "  0.65332571 0.5465058  0.81958174 0.71592188 0.46776087 0.92172502\n",
      "  0.45487695 0.60071137 0.77504429 0.21453456 0.43337665 0.70336085\n",
      "  0.82964306 0.24206122 0.29728746 0.87231941 0.75652586 0.52696556\n",
      "  0.41135476 0.31889689 0.6872708  0.32299929 0.12170746 0.7904958\n",
      "  0.32377601 0.68300923 0.21696193 0.70605096 0.77276172 0.41512619\n",
      "  0.87222651 0.13757733 0.10853304 0.44792702 0.43844245 0.71972199\n",
      "  0.29765248 0.38798315 0.79953463 0.81948336 0.45205127 0.60453555\n",
      "  0.19296177 0.68312882 0.58247169 0.63491251 0.19098552 0.65290817\n",
      "  0.28105693 0.61842969 0.26198872 0.92916568 0.42857813 0.35934231\n",
      "  0.29110851 0.24055153 0.85695331 0.46764494 0.48431908 0.\n",
      "  0.08729438 0.7716423  0.3720036  0.79438066 0.19763072 0.16427872\n",
      "  0.15742608 0.2190824  0.56169094 0.42098655 0.81201767 0.67767311\n",
      "  0.81712282 0.34407033 0.83279554 0.45676144 0.61728307 0.2855076\n",
      "  0.34270485 0.21284056 0.25581869 0.629862  ]\n",
      " [0.47687687 0.19160376 0.80441749 0.50444068 0.13694375 0.35854688\n",
      "  0.50793204 0.26524271 0.57872842 0.30027532 0.50228144 0.58266006\n",
      "  0.86275322 0.63348385 0.91043678 0.41465622 0.54893092 0.63012775\n",
      "  0.66626392 0.62569305 0.85340814 0.76909962 0.52492293 0.99816821\n",
      "  0.54025556 0.68450726 0.77913329 0.30009085 0.4625389  0.78261183\n",
      "  0.89983135 0.32733899 0.21344539 0.9545014  0.78976513 0.52749326\n",
      "  0.43798349 0.23188748 0.76228527 0.37869285 0.2006892  0.86604334\n",
      "  0.40302253 0.76592497 0.29033486 0.7193966  0.85267216 0.4356677\n",
      "  0.88760688 0.13040796 0.13162704 0.53468681 0.5247438  0.80655412\n",
      "  0.38494649 0.47273843 0.84740054 0.89263586 0.435352   0.64793244\n",
      "  0.27975611 0.68255951 0.66828704 0.70336779 0.11266247 0.71614183\n",
      "  0.23105428 0.7030426  0.32681296 1.01120314 0.45434755 0.44442379\n",
      "  0.36109193 0.19110075 0.92740499 0.44742128 0.53818524 0.08729438\n",
      "  0.         0.85554175 0.29735796 0.8479205  0.11382737 0.1674549\n",
      "  0.2417251  0.13333201 0.64169839 0.49942953 0.88372382 0.75496322\n",
      "  0.87973872 0.39280439 0.83899436 0.54200626 0.70456605 0.3727761\n",
      "  0.4156742  0.27969923 0.17650424 0.70371004]\n",
      " [0.6520144  0.9933671  0.16940789 0.46580448 0.72197668 0.6451076\n",
      "  0.3561545  0.68991588 0.43630051 0.94304692 0.84421162 0.67735742\n",
      "  0.39906117 0.51217032 0.09234263 0.60798981 0.32226854 0.26457869\n",
      "  0.80632511 0.53278757 0.71232468 0.49066769 0.48071255 0.24578638\n",
      "  0.44107671 0.17103461 0.92685329 0.59675435 0.66193901 0.13799234\n",
      "  0.30183964 0.52992267 1.03874308 0.1140801  0.69081451 0.834926\n",
      "  0.67623373 1.08477949 0.2157104  0.74429654 0.65549834 0.20089412\n",
      "  0.45792058 0.09383985 0.57567403 0.82585029 0.10911713 0.70700224\n",
      "  0.89640946 0.86701418 0.75917292 0.40467361 0.42596781 0.14783878\n",
      "  0.49404002 0.48930747 0.56905893 0.25061914 0.89167733 0.56781474\n",
      "  0.60103802 0.9095842  0.37772255 0.68854543 0.96245251 0.37770492\n",
      "  0.92878665 0.41160818 0.5640959  0.16815443 0.68028451 0.41293988\n",
      "  0.66728711 0.90560424 0.30809539 0.91448256 0.49874269 0.7716423\n",
      "  0.85554175 0.         1.06941829 0.50659084 0.94916483 0.86586159\n",
      "  0.65021314 0.9888426  0.23101474 0.56273321 0.27230989 0.18298721\n",
      "  0.40499907 0.581674   0.94453663 0.44330627 0.2456365  0.50195897\n",
      "  0.63408954 0.70469571 0.98775053 0.2539294 ]\n",
      " [0.51795428 0.10617114 0.98088349 0.78598686 0.3809141  0.65470576\n",
      "  0.75127411 0.38233469 0.70231551 0.16440428 0.42640695 0.87994754\n",
      "  0.97192529 0.7133476  1.10678719 0.50301972 0.74738802 0.87960479\n",
      "  0.61393762 0.91848802 0.85449756 0.8475063  0.64360259 1.16377777\n",
      "  0.8204048  0.90307424 0.68384183 0.58249856 0.5015412  0.97070825\n",
      "  1.03917202 0.5753     0.10988041 1.15409777 0.79406537 0.45673837\n",
      "  0.47523293 0.19434175 0.93031407 0.67365865 0.44483572 1.0318672\n",
      "  0.61643185 0.97581634 0.50072786 0.66188317 1.04169768 0.45436859\n",
      "  0.82157813 0.40583693 0.32436184 0.80681643 0.80045187 1.04947759\n",
      "  0.65038214 0.75566748 0.9000563  1.04587717 0.32989828 0.70279625\n",
      "  0.55713195 0.58211575 0.94539169 1.00070821 0.27982501 0.83721939\n",
      "  0.14378589 0.98504772 0.50532827 1.20848023 0.4845888  0.68290201\n",
      "  0.6582252  0.16393855 1.0667275  0.32545258 0.6436991  0.3720036\n",
      "  0.29735796 1.06941829 0.         0.92196782 0.18876118 0.44225001\n",
      "  0.52812423 0.23325452 0.84040945 0.79296156 1.03065351 0.9342692\n",
      "  0.98772896 0.5091463  0.74552486 0.82267284 0.96067546 0.63673813\n",
      "  0.71222726 0.57700849 0.12268382 0.86968349]\n",
      " [0.40428175 0.8921204  0.33812812 0.75220337 0.72373392 0.85033883\n",
      "  0.57468488 0.58787035 0.28196865 0.75981409 0.53929558 1.00064791\n",
      "  0.11646144 0.21586406 0.45579763 0.43853529 0.43094617 0.60500697\n",
      "  0.40585632 0.89406931 0.21727439 0.07882318 0.32706034 0.38423974\n",
      "  0.75111442 0.48147095 0.48427881 0.74191156 0.42075353 0.37756421\n",
      "  0.23394235 0.6293227  0.94576156 0.49248748 0.21943562 0.51515894\n",
      "  0.44737815 1.02657281 0.30215688 0.95751039 0.68280809 0.3159911\n",
      "  0.52587907 0.46010814 0.58888497 0.39853573 0.40099904 0.46766894\n",
      "  0.41085129 0.92940139 0.71694503 0.70189579 0.72031506 0.62403655\n",
      "  0.66673692 0.75505288 0.06569521 0.28016947 0.62630058 0.21939995\n",
      "  0.72414855 0.50920734 0.7700696  1.06219457 0.95716307 0.17686698\n",
      "  0.78564062 0.82128085 0.53491335 0.51640568 0.43739463 0.56938114\n",
      "  0.87500822 0.78480481 0.24817201 0.64304646 0.31035242 0.79438066\n",
      "  0.8479205  0.50659084 0.92196782 0.         0.89083001 0.94856159\n",
      "  0.76432121 0.95908078 0.41041942 0.85343307 0.25362465 0.34127511\n",
      "  0.11955599 0.4551868  0.4812517  0.75498816 0.65610347 0.66310637\n",
      "  0.87455362 0.86303381 0.89597818 0.29903299]\n",
      " [0.49816978 0.08323341 0.88470548 0.61690279 0.22886328 0.47176331\n",
      "  0.60914723 0.30489435 0.63607383 0.23533853 0.47877961 0.69310015\n",
      "  0.9189874  0.67503486 0.99842318 0.45237053 0.63444735 0.73417026\n",
      "  0.65750272 0.73948396 0.86871515 0.81256903 0.57902613 1.07598513\n",
      "  0.65249082 0.77865287 0.75635998 0.41213682 0.48233552 0.86686273\n",
      "  0.96752741 0.4280145  0.09983372 1.04382478 0.80529893 0.50709173\n",
      "  0.45582777 0.14033569 0.83914364 0.48521348 0.29634212 0.94302481\n",
      "  0.49173317 0.85766566 0.37456101 0.70989487 0.93776813 0.44583719\n",
      "  0.87775481 0.21781136 0.19292013 0.64497294 0.63591557 0.90932906\n",
      "  0.49249816 0.58542295 0.88222259 0.96530846 0.3968399  0.68011128\n",
      "  0.39024514 0.65582242 0.78008404 0.81406063 0.10689037 0.77499088\n",
      "  0.16498712 0.81585858 0.39870504 1.10001283 0.47019805 0.54327981\n",
      "  0.47339289 0.13510401 0.99532532 0.40355521 0.58743247 0.19763072\n",
      "  0.11382737 0.94916483 0.18876118 0.89083001 0.         0.25475769\n",
      "  0.35449065 0.0774957  0.72844534 0.61319098 0.95403925 0.83583365\n",
      "  0.93571402 0.44117128 0.81791141 0.65435425 0.81093946 0.47974538\n",
      "  0.52857513 0.39166919 0.0660996  0.77918367]\n",
      " [0.61020054 0.33787863 0.84724066 0.44787877 0.23340381 0.26595783\n",
      "  0.5099151  0.39724481 0.66853851 0.46724181 0.66175581 0.45758304\n",
      "  0.94529175 0.74124976 0.933624   0.53624405 0.59107971 0.61486131\n",
      "  0.81616746 0.53263154 0.98290357 0.87079032 0.62166373 1.04144723\n",
      "  0.48393823 0.69887714 0.93541842 0.26943704 0.59763993 0.81769291\n",
      "  0.96361043 0.34992604 0.3406479  0.97351224 0.9200348  0.68533098\n",
      "  0.57560847 0.31261717 0.81316231 0.24317722 0.26575409 0.91381006\n",
      "  0.44915711 0.78377346 0.36070753 0.86905509 0.88391459 0.57887855\n",
      "  1.03577301 0.03772596 0.26902946 0.49374059 0.47820498 0.78984183\n",
      "  0.3718717  0.41578978 0.9575295  0.94785492 0.6002352  0.76547301\n",
      "  0.26584919 0.84141371 0.61045121 0.5777325  0.17145314 0.7986987\n",
      "  0.39725261 0.63440891 0.41370602 1.03033249 0.59281239 0.45922059\n",
      "  0.25755331 0.35788358 0.99021439 0.61329019 0.64047014 0.16427872\n",
      "  0.1674549  0.86586159 0.44225001 0.94856159 0.25475769 0.\n",
      "  0.21635359 0.22012929 0.67635327 0.40957631 0.94335396 0.79809186\n",
      "  0.96228583 0.50461623 0.99399365 0.48450389 0.67665615 0.36402092\n",
      "  0.31443653 0.18262838 0.32039961 0.75916804]\n",
      " [0.48120843 0.42616067 0.63322092 0.26272355 0.16036927 0.14360964\n",
      "  0.29406211 0.29612575 0.48262169 0.48108504 0.59002454 0.37712537\n",
      "  0.74726556 0.56973466 0.71727042 0.39582969 0.37938573 0.40414524\n",
      "  0.70804895 0.39123077 0.83112151 0.68915677 0.44439772 0.82678485\n",
      "  0.29860497 0.48260209 0.84025765 0.05946239 0.47275704 0.60237261\n",
      "  0.75547343 0.13980946 0.45430439 0.75727426 0.77107207 0.60637171\n",
      "  0.4572503  0.46809662 0.60155119 0.21970318 0.12573177 0.70062395\n",
      "  0.24407035 0.56745241 0.18707112 0.75824165 0.66796506 0.47104341\n",
      "  0.91643784 0.21733419 0.22586951 0.29559136 0.2842061  0.58084804\n",
      "  0.15726206 0.23102833 0.78229435 0.73664587 0.55793777 0.60437279\n",
      "  0.04950159 0.7581025  0.42684733 0.49248845 0.32923078 0.60322625\n",
      "  0.42595916 0.46140622 0.24693203 0.81412708 0.47442206 0.24326345\n",
      "  0.15827952 0.38695572 0.7814748  0.57698339 0.4678103  0.15742608\n",
      "  0.2417251  0.65021314 0.52812423 0.76432121 0.35449065 0.21635359\n",
      "  0.         0.36629118 0.46167914 0.26719043 0.73372956 0.58442754\n",
      "  0.76403685 0.35433848 0.89323733 0.30031131 0.47209934 0.14834702\n",
      "  0.19955915 0.10533839 0.41321213 0.54975077]\n",
      " [0.57113146 0.14007108 0.93503259 0.62732399 0.26853062 0.46593528\n",
      "  0.64079308 0.37125519 0.69828322 0.30923198 0.55625348 0.67495857\n",
      "  0.9822956  0.74326045 1.04309842 0.52082834 0.68074786 0.76195084\n",
      "  0.73479676 0.73653568 0.94367989 0.88049513 0.64238071 1.12811605\n",
      "  0.66357916 0.81780844 0.83372504 0.42567723 0.55554162 0.91436644\n",
      "  1.02547665 0.460515   0.12497459 1.08740035 0.88014366 0.58458703\n",
      "  0.52930405 0.10189572 0.89165634 0.46184    0.3336714  0.99557792\n",
      "  0.53533466 0.89906842 0.42097501 0.78725042 0.98469053 0.52066476\n",
      "  0.95517839 0.18751675 0.24804043 0.66175817 0.65044687 0.9386868\n",
      "  0.51544266 0.59512944 0.95290299 1.0205003  0.47364782 0.75109571\n",
      "  0.40815803 0.73306021 0.79216992 0.79571378 0.04898008 0.83690794\n",
      "  0.24023826 0.82388145 0.45271191 1.14404075 0.54413311 0.57767538\n",
      "  0.46346126 0.21232158 1.05318837 0.47973645 0.6527017  0.2190824\n",
      "  0.13333201 0.9888426  0.23325452 0.95908078 0.0774957  0.22012929\n",
      "  0.36629118 0.         0.77392985 0.6105055  1.01055634 0.88571281\n",
      "  0.9991565  0.50599153 0.89531475 0.66501501 0.83501755 0.50371832\n",
      "  0.52029055 0.38233039 0.12263242 0.8324662 ]\n",
      " [0.43219934 0.76767783 0.17185479 0.35732284 0.50539988 0.49672211\n",
      "  0.18953047 0.4595838  0.23053915 0.71205441 0.62433177 0.6036808\n",
      "  0.34095132 0.32769877 0.26998211 0.38021253 0.09413121 0.19478249\n",
      "  0.61219558 0.48641062 0.57674976 0.36164398 0.2629486  0.36516383\n",
      "  0.34936629 0.08897886 0.7426293  0.41700012 0.44036888 0.1420458\n",
      "  0.30897502 0.32723778 0.8146639  0.31577243 0.53899036 0.61810457\n",
      "  0.4520481  0.86651453 0.14826551 0.60456887 0.44134273 0.24030267\n",
      "  0.23867703 0.13736281 0.35409148 0.64044828 0.21109756 0.48275717\n",
      "  0.74017185 0.67122407 0.53623886 0.30081359 0.32113299 0.26318374\n",
      "  0.31830267 0.36768203 0.45865752 0.28075541 0.66507721 0.3858543\n",
      "  0.4126729  0.70984837 0.35999512 0.65490874 0.75198305 0.2375295\n",
      "  0.69892763 0.41190763 0.33588095 0.37166085 0.45788033 0.21959497\n",
      "  0.52132623 0.67694017 0.33210789 0.68809891 0.28557507 0.56169094\n",
      "  0.64169839 0.23101474 0.84040945 0.41041942 0.72844534 0.67635327\n",
      "  0.46167914 0.77392985 0.         0.46210565 0.28286739 0.12398439\n",
      "  0.35497045 0.35156065 0.77030341 0.3530118  0.25411038 0.32146092\n",
      "  0.50458122 0.53700103 0.76308001 0.11545278]\n",
      " [0.67862721 0.68918769 0.61742579 0.10498064 0.42594089 0.14501404\n",
      "  0.27941715 0.53603524 0.59615532 0.74632109 0.82314715 0.14894498\n",
      "  0.80024472 0.70143291 0.64923624 0.59167562 0.42249286 0.30220598\n",
      "  0.90871249 0.12639215 0.97520834 0.7897827  0.58146567 0.78953575\n",
      "  0.12205556 0.43158429 1.0463544  0.22075817 0.67495315 0.57467023\n",
      "  0.76804749 0.29415947 0.71239891 0.67674229 0.92250274 0.83431525\n",
      "  0.66680276 0.71095536 0.60815183 0.20120752 0.37815841 0.68608321\n",
      "  0.36210735 0.50780669 0.39152559 0.95396571 0.62259054 0.68784819\n",
      "  1.09699212 0.43108021 0.49108891 0.16485909 0.14326197 0.44432363\n",
      "  0.2145235  0.09859532 0.88949144 0.73342679 0.80678276 0.75005636\n",
      "  0.25083279 0.97643825 0.21910515 0.24055813 0.56653023 0.67699114\n",
      "  0.69293774 0.23019919 0.44137958 0.72905899 0.68229542 0.29121605\n",
      "  0.15231369 0.65410889 0.78913995 0.82749428 0.60979204 0.42098655\n",
      "  0.49942953 0.56273321 0.79296156 0.85343307 0.61319098 0.40957631\n",
      "  0.26719043 0.6105055  0.46210565 0.         0.74012958 0.57721581\n",
      "  0.81506706 0.54567472 1.09265732 0.11958263 0.3255149  0.22539376\n",
      "  0.09674996 0.2294185  0.67513737 0.57582929]\n",
      " [0.53599165 0.97685989 0.12703429 0.63522458 0.74773397 0.77926647\n",
      "  0.47235621 0.65601167 0.3286015  0.88051418 0.71218707 0.87654595\n",
      "  0.13762067 0.34813456 0.20634454 0.52862903 0.35456932 0.44896324\n",
      "  0.62184662 0.7472831  0.47021198 0.265731   0.38717979 0.14551592\n",
      "  0.62259828 0.31350088 0.72181046 0.69407992 0.55039988 0.17332433\n",
      "  0.03060876 0.59477643 1.0282536  0.23965285 0.46363465 0.69458021\n",
      "  0.57262641 1.09437042 0.13480498 0.88732149 0.69059307 0.07146112\n",
      "  0.49430364 0.25688917 0.59525699 0.62738467 0.16331182 0.60065174\n",
      "  0.66272864 0.93359322 0.76319682 0.57592134 0.59718451 0.40942439\n",
      "  0.59866438 0.6483409  0.31924911 0.02656633 0.78291236 0.38965808\n",
      "  0.68610661 0.72849134 0.60282081 0.91352777 0.99634625 0.2009703\n",
      "  0.88718964 0.64749009 0.55788111 0.26334364 0.56966044 0.49774199\n",
      "  0.80394794 0.87500124 0.04927293 0.80345239 0.3897292  0.81201767\n",
      "  0.88372382 0.27230989 1.03065351 0.25362465 0.95403925 0.94335396\n",
      "  0.73372956 1.01055634 0.28286739 0.74012958 0.         0.16291378\n",
      "  0.1388315  0.52253326 0.72679049 0.62593009 0.473589   0.60049227\n",
      "  0.78717588 0.81602884 0.97612731 0.18422853]\n",
      " [0.48106212 0.86877779 0.04957842 0.4723148  0.61803512 0.6198331\n",
      "  0.31170796 0.55214975 0.26157872 0.79578212 0.6713592  0.7141799\n",
      "  0.24840247 0.32985898 0.1787089  0.44832007 0.20810994 0.2885506\n",
      "  0.6239778  0.58735259 0.5364385  0.31361114 0.3119598  0.24429375\n",
      "  0.45994148 0.15365358 0.74386883 0.54075265 0.4924777  0.04561883\n",
      "  0.19115574 0.44823917 0.91777172 0.22703975 0.51084299 0.65990929\n",
      "  0.50950437 0.97534711 0.03933381 0.72726899 0.55624542 0.11641865\n",
      "  0.35411223 0.11909475 0.46482952 0.64288295 0.10989417 0.53992233\n",
      "  0.71654014 0.79160854 0.64291752 0.41306346 0.43429299 0.28307997\n",
      "  0.44228293 0.48572346 0.39953282 0.15784589 0.72616872 0.38501704\n",
      "  0.53568169 0.72785132 0.44712837 0.7546701  0.8665157  0.19585349\n",
      "  0.79092167 0.49454499 0.43771581 0.27753614 0.51142309 0.34330008\n",
      "  0.64431801 0.77284597 0.21197069 0.74845511 0.32602548 0.67767311\n",
      "  0.75496322 0.18298721 0.9342692  0.34127511 0.83583365 0.79809186\n",
      "  0.58442754 0.88571281 0.12398439 0.57721581 0.16291378 0.\n",
      "  0.25929625 0.42950536 0.76208124 0.46331271 0.32279022 0.44539566\n",
      "  0.62552614 0.66097923 0.86570123 0.07364915]\n",
      " [0.47354199 0.94685025 0.24285441 0.71088803 0.74848343 0.8320547\n",
      "  0.53697756 0.63102279 0.30116824 0.82967392 0.63035308 0.95832695\n",
      "  0.01704439 0.27606664 0.34481931 0.48847548 0.40014328 0.54281108\n",
      "  0.51437953 0.83988267 0.33645228 0.15627628 0.35688534 0.26468396\n",
      "  0.70428155 0.41077661 0.60122754 0.73317377 0.48945919 0.28707724\n",
      "  0.11588509 0.62479574 0.99988938 0.37829853 0.33754323 0.60886471\n",
      "  0.51463605 1.07459739 0.22083999 0.94071676 0.69928236 0.20659475\n",
      "  0.5200477  0.37280921 0.60278945 0.51215559 0.2964447  0.53909716\n",
      "  0.53025105 0.94733516 0.75200434 0.6555806  0.67562583 0.53373849\n",
      "  0.647168   0.71866014 0.18474003 0.16485666 0.71100176 0.30115796\n",
      "  0.71974482 0.61975471 0.70475736 1.00820168 0.99156787 0.16421941\n",
      "  0.84706331 0.75320476 0.55533197 0.39882856 0.5077906  0.5459232\n",
      "  0.8570009  0.84103659 0.12863238 0.72960188 0.34904383 0.81712282\n",
      "  0.87973872 0.40499907 0.98772896 0.11955599 0.93571402 0.96228583\n",
      "  0.76403685 0.9991565  0.35497045 0.81506706 0.1388315  0.25929625\n",
      "  0.         0.49457339 0.60027971 0.70794624 0.5820668  0.64604013\n",
      "  0.84878987 0.85626974 0.94865106 0.2397501 ]\n",
      " [0.13318172 0.45557771 0.47440621 0.47411449 0.27301108 0.47857857\n",
      "  0.34116654 0.13650287 0.19654333 0.36627962 0.29682619 0.68822979\n",
      "  0.47787825 0.24088442 0.60611235 0.04605152 0.26774798 0.45700189\n",
      "  0.36391728 0.63891614 0.48136673 0.37636469 0.13841867 0.65466397\n",
      "  0.49438708 0.42941203 0.50095682 0.35691729 0.12944801 0.4688975\n",
      "  0.53272096 0.25395178 0.50780604 0.65424108 0.41971957 0.30039986\n",
      "  0.12470811 0.58009489 0.42239651 0.57187871 0.2448606  0.52301301\n",
      "  0.19646742 0.48860421 0.1683211  0.41104211 0.53878027 0.15085644\n",
      "  0.56384103 0.48131843 0.26177247 0.45579132 0.46287281 0.59748273\n",
      "  0.33154628 0.45811981 0.45607499 0.53702167 0.31827046 0.26086559\n",
      "  0.32965839 0.4324058  0.58479053 0.78556138 0.50212612 0.33500467\n",
      "  0.36538906 0.63707484 0.1092983  0.70661513 0.13850041 0.28364579\n",
      "  0.49980999 0.35253504 0.56047464 0.34149261 0.14671019 0.34407033\n",
      "  0.39280439 0.581674   0.5091463  0.4551868  0.44117128 0.50461623\n",
      "  0.35433848 0.50599153 0.35156065 0.54567472 0.52253326 0.42950536\n",
      "  0.49457339 0.         0.54898452 0.4981707  0.54122996 0.32028907\n",
      "  0.52226342 0.45967662 0.45600612 0.36203796]\n",
      " [0.41607373 0.77426189 0.77936316 1.01369353 0.77092224 1.02536123\n",
      "  0.85672112 0.60562316 0.54321873 0.59726773 0.339507   1.23682438\n",
      "  0.59485589 0.44279119 0.91509639 0.50365548 0.73274972 0.9441654\n",
      "  0.18559206 1.17750031 0.27207247 0.46299174 0.5303108  0.86427773\n",
      "  1.02884221 0.85858323 0.06204076 0.90380861 0.42220189 0.80658046\n",
      "  0.71152079 0.8029035  0.82118006 0.95735191 0.26339099 0.31232975\n",
      "  0.43604625 0.91749572 0.72906601 1.11293516 0.77142298 0.77921376\n",
      "  0.73309186 0.87360524 0.71404576 0.13879105 0.85130565 0.42334301\n",
      "  0.10102433 0.96148186 0.72529136 0.9850215  0.9961527  1.02891743\n",
      "  0.87815769 1.00151489 0.41811289 0.75301838 0.42450749 0.38462331\n",
      "  0.8752805  0.16412644 1.09786492 1.3309889  0.91793472 0.56687442\n",
      "  0.6588729  1.1520786  0.65724181 0.98893006 0.41897816 0.8141806\n",
      "  1.0455287  0.68305392 0.72830454 0.42323047 0.50204753 0.83279554\n",
      "  0.83899436 0.94453663 0.74552486 0.4812517  0.81791141 0.99399365\n",
      "  0.89323733 0.89531475 0.77030341 1.09265732 0.72679049 0.76208124\n",
      "  0.60027971 0.54898452 0.         1.03280774 1.01854796 0.86768005\n",
      "  1.07084168 0.99689824 0.78693796 0.69504526]\n",
      " [0.62735331 0.7235192  0.50165218 0.03769192 0.44275775 0.22496529\n",
      "  0.18417062 0.51844487 0.51278383 0.75269008 0.78969057 0.25115113\n",
      "  0.69376301 0.62035615 0.52965851 0.5436697  0.32730923 0.18306171\n",
      "  0.85260322 0.1456198  0.89236545 0.69588233 0.50760344 0.6706143\n",
      "  0.00402617 0.31460276 0.99089366 0.24222688 0.62640257 0.45800045\n",
      "  0.65446774 0.26812414 0.7540488  0.55735455 0.84337272 0.79678457\n",
      "  0.62272718 0.76690092 0.4959375  0.30901442 0.38321238 0.56969142\n",
      "  0.30281101 0.38896108 0.36626956 0.89432592 0.5038855  0.64728393\n",
      "  1.02757645 0.49902882 0.5040657  0.05309474 0.03688311 0.32875132\n",
      "  0.18198115 0.06997094 0.79565492 0.61797064 0.78740497 0.67273421\n",
      "  0.26573217 0.92955024 0.12732759 0.30939501 0.6253569  0.57818147\n",
      "  0.70778331 0.16237492 0.40457693 0.60997939 0.63663375 0.2187252\n",
      "  0.24202165 0.67168441 0.67462818 0.80942702 0.53639549 0.45676144\n",
      "  0.54200626 0.44330627 0.82267284 0.75498816 0.65435425 0.48450389\n",
      "  0.30031131 0.66501501 0.3530118  0.11958263 0.62593009 0.46331271\n",
      "  0.70794624 0.4981707  1.03280774 0.         0.20946226 0.19598134\n",
      "  0.19761812 0.30297565 0.7114748  0.46823715]\n",
      " [0.65064078 0.8700971  0.34708629 0.23914961 0.58461657 0.4291522\n",
      "  0.21199066 0.60886966 0.47532925 0.86260393 0.83565441 0.43209287\n",
      "  0.57086628 0.57827064 0.33680611 0.58077582 0.2895325  0.08489395\n",
      "  0.8527347  0.287312   0.83072048 0.6136689  0.49452627 0.48679903\n",
      "  0.2081417  0.17465145 0.98699154 0.41317829 0.65501728 0.30062857\n",
      "  0.50401141 0.3858978  0.90805016 0.35753514 0.79286503 0.83514728\n",
      "  0.6600338  0.9358998  0.36134118 0.518322   0.51796414 0.40760542\n",
      "  0.35958575 0.21721427 0.46468784 0.8853997  0.32675003 0.68913897\n",
      "  0.99291465 0.68565246 0.63653868 0.1842849  0.20243086 0.1192902\n",
      "  0.31968676 0.26805695 0.70862382 0.45935277 0.85720377 0.6360278\n",
      "  0.42730947 0.94474736 0.13322757 0.44625592 0.8005679  0.48897122\n",
      "  0.83099067 0.17401435 0.47909827 0.40711423 0.66991044 0.28041929\n",
      "  0.44840933 0.7999903  0.51890242 0.88034185 0.52107286 0.61728307\n",
      "  0.70456605 0.2456365  0.96067546 0.65610347 0.81093946 0.67665615\n",
      "  0.47209934 0.83501755 0.25411038 0.3255149  0.473589   0.32279022\n",
      "  0.5820668  0.54122996 1.01854796 0.20946226 0.         0.33180504\n",
      "  0.40683607 0.50071273 0.86075984 0.35747572]\n",
      " [0.45324023 0.54190811 0.49314575 0.16407129 0.25632432 0.18737474\n",
      "  0.14589494 0.32334703 0.38961458 0.55783256 0.60190198 0.36962163\n",
      "  0.62980484 0.48986008 0.5703595  0.36630116 0.24819721 0.25873264\n",
      "  0.68344837 0.32485592 0.76216255 0.59283435 0.36575411 0.68471056\n",
      "  0.19289023 0.33515726 0.82099538 0.09646145 0.44961069 0.45955265\n",
      "  0.62427102 0.07290831 0.57766093 0.60962841 0.70667078 0.6115188\n",
      "  0.44193643 0.60427743 0.46624957 0.29537978 0.19220229 0.56176165\n",
      "  0.14336127 0.42018762 0.17221621 0.72909083 0.52320634 0.46377508\n",
      "  0.87462754 0.36557174 0.31362572 0.1709036  0.16745856 0.43577043\n",
      "  0.01409374 0.14172202 0.69067294 0.60091273 0.59358438 0.53439708\n",
      "  0.09958565 0.7515385  0.31081041 0.4654136  0.47082665 0.49214518\n",
      "  0.51561043 0.35482377 0.21721312 0.66639925 0.45722391 0.10275073\n",
      "  0.21217118 0.48094965 0.64918678 0.61529228 0.39313389 0.2855076\n",
      "  0.3727761  0.50195897 0.63673813 0.66310637 0.47974538 0.36402092\n",
      "  0.14834702 0.50371832 0.32146092 0.22539376 0.60049227 0.44539566\n",
      "  0.64604013 0.32028907 0.86768005 0.19598134 0.33180504 0.\n",
      "  0.2150293  0.21573787 0.53157436 0.41898184]\n",
      " [0.65479611 0.60706498 0.66923417 0.16910778 0.35927839 0.0579437\n",
      "  0.31516775 0.48940078 0.604253   0.67906147 0.78238064 0.17762867\n",
      "  0.83313146 0.70486975 0.71670501 0.5672481  0.4489972  0.36958829\n",
      "  0.88538208 0.21825782 0.97686285 0.80601183 0.58047744 0.85019862\n",
      "  0.19874514 0.48914581 1.02106018 0.16927948 0.64890187 0.62919805\n",
      "  0.81355617 0.26968061 0.62667863 0.74792784 0.9207871  0.79656137\n",
      "  0.63721951 0.61965375 0.65282661 0.11150093 0.32205567 0.73872102\n",
      "  0.35828193 0.57023353 0.35750826 0.93324555 0.68326946 0.65496105\n",
      "  1.08399548 0.33770167 0.4246504  0.22948607 0.2084438  0.52605571\n",
      "  0.20914746 0.14505773 0.90448104 0.78333901 0.75581758 0.7488141\n",
      "  0.19952913 0.94454936 0.31182192 0.2936989  0.47507231 0.70091607\n",
      "  0.6212811  0.32653489 0.41360265 0.80201476 0.65368183 0.30541417\n",
      "  0.05716796 0.58140028 0.83644841 0.77533231 0.60759119 0.34270485\n",
      "  0.4156742  0.63408954 0.71222726 0.87455362 0.52857513 0.31443653\n",
      "  0.19955915 0.52029055 0.50458122 0.09674996 0.78717588 0.62552614\n",
      "  0.84878987 0.52226342 1.07084168 0.19761812 0.40683607 0.2150293\n",
      "  0.         0.13807554 0.59217735 0.61350794]\n",
      " [0.5861098  0.4712928  0.7084667  0.26697109 0.24406306 0.08444309\n",
      "  0.355152   0.39570762 0.58240279 0.55551548 0.68828278 0.30370831\n",
      "  0.83972437 0.67255904 0.77906396 0.5010386  0.46256236 0.44544666\n",
      "  0.81200931 0.35469525 0.93579005 0.78902445 0.54679499 0.89895534\n",
      "  0.302629   0.54402275 0.94320935 0.1231597  0.57736501 0.67381178\n",
      "  0.839472   0.23377062 0.4891672  0.81575481 0.87600806 0.70603091\n",
      "  0.56123963 0.48207484 0.68193319 0.11762791 0.22600732 0.77727995\n",
      "  0.33807203 0.62882973 0.2922415  0.86254468 0.73567569 0.57397127\n",
      "  1.02147275 0.20180194 0.30683583 0.31648597 0.29943272 0.61665804\n",
      "  0.21886597 0.23534599 0.8835273  0.8166476  0.64960992 0.70858608\n",
      "  0.13897729 0.85924097 0.42817988 0.42402066 0.3375135  0.69804087\n",
      "  0.49389572 0.45186632 0.35210949 0.87188937 0.57850262 0.31839065\n",
      "  0.08182724 0.45338426 0.86460921 0.66743422 0.57094899 0.21284056\n",
      "  0.27969923 0.70469571 0.57700849 0.86303381 0.39166919 0.18262838\n",
      "  0.10533839 0.38233039 0.53700103 0.2294185  0.81602884 0.66097923\n",
      "  0.85626974 0.45967662 0.99689824 0.30297565 0.50071273 0.21573787\n",
      "  0.13807554 0.         0.45596645 0.63380701]\n",
      " [0.49571536 0.01795153 0.9138977  0.67428144 0.27614948 0.53500035\n",
      "  0.65530316 0.32039734 0.65254009 0.192095   0.45094564 0.75820655\n",
      "  0.93219187 0.68141615 1.03258824 0.4606822  0.66898475 0.78208466\n",
      "  0.63491849 0.80119448 0.85768445 0.81867464 0.59433875 1.10261036\n",
      "  0.70943866 0.81836045 0.72497487 0.46956774 0.47940601 0.89891222\n",
      "  0.9878172  0.4753681  0.05220514 1.07882458 0.79493382 0.48040267\n",
      "  0.45248827 0.13521426 0.86625994 0.55108218 0.34297792 0.96964917\n",
      "  0.53003991 0.89518728 0.4122795  0.68627344 0.97007961 0.43833665\n",
      "  0.85246601 0.2836589  0.22899637 0.699372   0.6914184  0.95555193\n",
      "  0.54476428 0.6432375  0.88255346 0.98890949 0.36254347 0.68084458\n",
      "  0.44602561 0.62329485 0.83614699 0.87909251 0.16407559 0.79091097\n",
      "  0.12840598 0.87355332 0.428484   1.13445312 0.46529724 0.58809741\n",
      "  0.53750281 0.11335752 1.01562141 0.36596698 0.59968204 0.25581869\n",
      "  0.17650424 0.98775053 0.12268382 0.89597818 0.0660996  0.32039961\n",
      "  0.41321213 0.12263242 0.76308001 0.67513737 0.97612731 0.86570123\n",
      "  0.94865106 0.45600612 0.78693796 0.7114748  0.86075984 0.53157436\n",
      "  0.59217735 0.45596645 0.         0.80577767]\n",
      " [0.40789897 0.80795882 0.11298044 0.47139809 0.56706105 0.60111169\n",
      "  0.29921808 0.48879034 0.18818696 0.72787746 0.59783482 0.71858929\n",
      "  0.22554997 0.25837246 0.25137602 0.37811053 0.17129643 0.30738736\n",
      "  0.5524574  0.60164312 0.47962647 0.25843875 0.23980817 0.29697498\n",
      "  0.46456067 0.18288933 0.67455681 0.51128839 0.41956141 0.11882189\n",
      "  0.20591585 0.41061062 0.85797018 0.29957204 0.44898809 0.58626684\n",
      "  0.43712253 0.91931451 0.06067954 0.70972967 0.50819923 0.16395596\n",
      "  0.31024119 0.17870706 0.41383969 0.57305789 0.18208052 0.46740116\n",
      "  0.65400056 0.74975224 0.58678776 0.41583139 0.4358968  0.33834754\n",
      "  0.41810801 0.48011551 0.35138718 0.1896935  0.65370019 0.31456258\n",
      "  0.50239518 0.65568425 0.47187771 0.77013059 0.81607719 0.13471848\n",
      "  0.72598902 0.52255553 0.38062693 0.34847706 0.43859035 0.31647747\n",
      "  0.62598281 0.70970611 0.23172493 0.67586362 0.25283205 0.629862\n",
      "  0.70371004 0.2539294  0.86968349 0.29903299 0.77918367 0.75916804\n",
      "  0.54975077 0.8324662  0.11545278 0.57582929 0.18422853 0.07364915\n",
      "  0.2397501  0.36203796 0.69504526 0.46823715 0.35747572 0.41898184\n",
      "  0.61350794 0.63380701 0.80577767 0.        ]]\n"
     ]
    }
   ],
   "source": [
    "Vec = np.random.random((100,2))\n",
    "X,Y = np.atleast_2d(Vec[:,0], Vec[:,1])\n",
    "D = np.sqrt( (X-X.T)**2 + (Y-Y.T)**2)\n",
    "print(D)"
   ]
  },
  {
   "cell_type": "markdown",
   "metadata": {},
   "source": [
    "#### 53. How to convert a float (32 bits) array into an integer (32 bits) in place?"
   ]
  },
  {
   "cell_type": "code",
   "execution_count": 55,
   "metadata": {},
   "outputs": [
    {
     "data": {
      "text/plain": [
       "array([43, 34, 76, 31, 91, 63, 45, 19, 99, 97])"
      ]
     },
     "execution_count": 55,
     "metadata": {},
     "output_type": "execute_result"
    }
   ],
   "source": [
    "Matr = (np.random.rand(10)*100).astype(np.float32)\n",
    "Int = Matr.view(np.int32)\n",
    "Int[:] = Matr\n",
    "Int"
   ]
  },
  {
   "cell_type": "markdown",
   "metadata": {},
   "source": [
    "#### 54. How to read the following file? (★★☆)\n",
    "```\n",
    "1, 2, 3, 4, 5\n",
    "6,  ,  , 7, 8\n",
    " ,  , 9,10,11\n",
    "```"
   ]
  },
  {
   "cell_type": "code",
   "execution_count": 72,
   "metadata": {},
   "outputs": [
    {
     "ename": "NameError",
     "evalue": "name 'fname' is not defined",
     "output_type": "error",
     "traceback": [
      "\u001b[1;31m---------------------------------------------------------------------------\u001b[0m",
      "\u001b[1;31mNameError\u001b[0m                                 Traceback (most recent call last)",
      "\u001b[1;32m<ipython-input-72-6a3a8ceb9de7>\u001b[0m in \u001b[0;36m<module>\u001b[1;34m\u001b[0m\n\u001b[1;32m----> 1\u001b[1;33m \u001b[0mRead\u001b[0m \u001b[1;33m=\u001b[0m \u001b[0mnp\u001b[0m\u001b[1;33m.\u001b[0m\u001b[0mgenfromtxt\u001b[0m\u001b[1;33m(\u001b[0m\u001b[0mfname\u001b[0m\u001b[1;33m,\u001b[0m\u001b[0mdelimiter\u001b[0m\u001b[1;33m=\u001b[0m\u001b[1;34m\",\"\u001b[0m\u001b[1;33m)\u001b[0m\u001b[1;33m\u001b[0m\u001b[1;33m\u001b[0m\u001b[0m\n\u001b[0m",
      "\u001b[1;31mNameError\u001b[0m: name 'fname' is not defined"
     ]
    }
   ],
   "source": [
    "Read = np.genfromtxt(fname,delimiter=\",\")"
   ]
  },
  {
   "cell_type": "markdown",
   "metadata": {},
   "source": [
    "#### 55. What is the equivalent of enumerate for numpy arrays? (★★☆)"
   ]
  },
  {
   "cell_type": "code",
   "execution_count": 57,
   "metadata": {},
   "outputs": [
    {
     "name": "stdout",
     "output_type": "stream",
     "text": [
      "(0, 0) 0\n",
      "(0, 1) 1\n",
      "(0, 2) 2\n",
      "(1, 0) 3\n",
      "(1, 1) 4\n",
      "(1, 2) 5\n",
      "(2, 0) 6\n",
      "(2, 1) 7\n",
      "(2, 2) 8\n",
      "(0, 0) 0\n",
      "(0, 1) 1\n",
      "(0, 2) 2\n",
      "(1, 0) 3\n",
      "(1, 1) 4\n",
      "(1, 2) 5\n",
      "(2, 0) 6\n",
      "(2, 1) 7\n",
      "(2, 2) 8\n"
     ]
    }
   ],
   "source": [
    "Arr = np.arange(9).reshape(3,3)\n",
    "for index, value in np.ndenumerate(Arr):\n",
    "    print(index, value)\n",
    "for index in np.ndindex(Arr.shape):\n",
    "    print(index, Arr[index])"
   ]
  },
  {
   "cell_type": "markdown",
   "metadata": {},
   "source": [
    "#### 56. Generate a generic 2D Gaussian-like array (★★☆)"
   ]
  },
  {
   "cell_type": "code",
   "execution_count": 58,
   "metadata": {},
   "outputs": [
    {
     "name": "stdout",
     "output_type": "stream",
     "text": [
      "[[0.36787944 0.44822088 0.51979489 0.57375342 0.60279818 0.60279818\n",
      "  0.57375342 0.51979489 0.44822088 0.36787944]\n",
      " [0.44822088 0.54610814 0.63331324 0.69905581 0.73444367 0.73444367\n",
      "  0.69905581 0.63331324 0.54610814 0.44822088]\n",
      " [0.51979489 0.63331324 0.73444367 0.81068432 0.85172308 0.85172308\n",
      "  0.81068432 0.73444367 0.63331324 0.51979489]\n",
      " [0.57375342 0.69905581 0.81068432 0.89483932 0.9401382  0.9401382\n",
      "  0.89483932 0.81068432 0.69905581 0.57375342]\n",
      " [0.60279818 0.73444367 0.85172308 0.9401382  0.98773022 0.98773022\n",
      "  0.9401382  0.85172308 0.73444367 0.60279818]\n",
      " [0.60279818 0.73444367 0.85172308 0.9401382  0.98773022 0.98773022\n",
      "  0.9401382  0.85172308 0.73444367 0.60279818]\n",
      " [0.57375342 0.69905581 0.81068432 0.89483932 0.9401382  0.9401382\n",
      "  0.89483932 0.81068432 0.69905581 0.57375342]\n",
      " [0.51979489 0.63331324 0.73444367 0.81068432 0.85172308 0.85172308\n",
      "  0.81068432 0.73444367 0.63331324 0.51979489]\n",
      " [0.44822088 0.54610814 0.63331324 0.69905581 0.73444367 0.73444367\n",
      "  0.69905581 0.63331324 0.54610814 0.44822088]\n",
      " [0.36787944 0.44822088 0.51979489 0.57375342 0.60279818 0.60279818\n",
      "  0.57375342 0.51979489 0.44822088 0.36787944]]\n"
     ]
    }
   ],
   "source": [
    "x, y = np.meshgrid(np.linspace(-1,1,10), np.linspace(-1,1,10))\n",
    "D = np.sqrt(x * x + y * y)\n",
    "sigma, mu = 1.0, 0.0\n",
    "G = np.exp(- ( (D - mu)**2 / ( 2.0 * sigma**2 ) ) )\n",
    "print(G)"
   ]
  },
  {
   "cell_type": "markdown",
   "metadata": {},
   "source": [
    "#### 57. How to randomly place p elements in a 2D array? (★★☆)"
   ]
  },
  {
   "cell_type": "code",
   "execution_count": 59,
   "metadata": {},
   "outputs": [
    {
     "data": {
      "text/plain": [
       "array([[0., 0., 0., 0., 0., 0., 0., 0., 0., 0.],\n",
       "       [0., 0., 0., 0., 0., 0., 0., 0., 0., 0.],\n",
       "       [0., 0., 0., 0., 0., 1., 0., 0., 0., 0.],\n",
       "       [0., 0., 0., 0., 0., 0., 0., 0., 0., 0.],\n",
       "       [0., 0., 0., 0., 0., 0., 0., 0., 0., 0.],\n",
       "       [0., 0., 0., 0., 0., 0., 0., 0., 0., 0.],\n",
       "       [0., 0., 0., 0., 0., 0., 0., 0., 0., 0.],\n",
       "       [0., 0., 1., 0., 0., 0., 0., 0., 0., 0.],\n",
       "       [0., 0., 1., 0., 0., 0., 0., 0., 0., 0.],\n",
       "       [0., 0., 0., 0., 0., 0., 0., 0., 0., 0.]])"
      ]
     },
     "execution_count": 59,
     "metadata": {},
     "output_type": "execute_result"
    }
   ],
   "source": [
    "n = 10\n",
    "p = 3\n",
    "Matr = np.zeros((n,n))\n",
    "np.put(Matr, np.random.choice(range(n*n), p, replace=False),1)\n",
    "Matr"
   ]
  },
  {
   "cell_type": "markdown",
   "metadata": {},
   "source": [
    "#### 58. Subtract the mean of each row of a matrix (★★☆)"
   ]
  },
  {
   "cell_type": "code",
   "execution_count": 136,
   "metadata": {},
   "outputs": [
    {
     "data": {
      "text/plain": [
       "array([[ 0.40399365, -0.2776867 ,  0.04217292, -0.18422548,  0.09531516,\n",
       "        -0.28616004,  0.04175086, -0.41124691,  0.37560569,  0.20048086],\n",
       "       [-0.37351094, -0.47620564, -0.22745166,  0.02741766, -0.23826041,\n",
       "         0.4476493 ,  0.49738666, -0.01202486,  0.11979346,  0.23520644],\n",
       "       [ 0.53208836, -0.07881121, -0.14023632,  0.00968997,  0.26371755,\n",
       "         0.34115464, -0.22527355, -0.40758673, -0.0307556 , -0.26398711],\n",
       "       [ 0.31590784, -0.19692673,  0.19781369, -0.39694346,  0.03844368,\n",
       "         0.1264292 ,  0.33678619,  0.17525037, -0.17624494, -0.42051583],\n",
       "       [-0.14042385,  0.51912445, -0.12926336, -0.28342554, -0.13830891,\n",
       "        -0.38395578,  0.44852797,  0.43211512, -0.14156209, -0.182828  ]])"
      ]
     },
     "execution_count": 136,
     "metadata": {},
     "output_type": "execute_result"
    }
   ],
   "source": [
    "Arr = np.random.rand(5, 10)\n",
    "Y = Arr - Arr.mean(axis=1, keepdims=True)\n",
    "Y"
   ]
  },
  {
   "cell_type": "markdown",
   "metadata": {},
   "source": [
    "#### 59. How to sort an array by the nth column? (★★☆)"
   ]
  },
  {
   "cell_type": "code",
   "execution_count": 60,
   "metadata": {},
   "outputs": [
    {
     "name": "stdout",
     "output_type": "stream",
     "text": [
      "[[7 4 8]\n",
      " [9 6 8]\n",
      " [2 2 0]]\n",
      "[[2 2 0]\n",
      " [7 4 8]\n",
      " [9 6 8]]\n"
     ]
    }
   ],
   "source": [
    "Matr = np.random.randint(0,10,(3,3))\n",
    "print(Matr)\n",
    "print(Matr[Matr[:,1].argsort()])"
   ]
  },
  {
   "cell_type": "markdown",
   "metadata": {},
   "source": [
    "#### 60. How to tell if a given 2D array has null columns? (★★☆)"
   ]
  },
  {
   "cell_type": "code",
   "execution_count": 61,
   "metadata": {},
   "outputs": [
    {
     "name": "stdout",
     "output_type": "stream",
     "text": [
      "[[2 1 1 0 2 2 0 2 2 2]\n",
      " [2 2 2 2 2 1 0 0 2 2]\n",
      " [0 2 0 1 1 2 2 0 0 0]]\n",
      "False\n"
     ]
    }
   ],
   "source": [
    "Matr = np.random.randint(0,3,(3,10))\n",
    "print(Matr)\n",
    "print((~Matr.any(axis=0)).any())"
   ]
  },
  {
   "cell_type": "markdown",
   "metadata": {},
   "source": [
    "#### 61. Find the nearest value from a given value in an array (★★☆)"
   ]
  },
  {
   "cell_type": "code",
   "execution_count": 62,
   "metadata": {},
   "outputs": [
    {
     "name": "stdout",
     "output_type": "stream",
     "text": [
      "0.4489555465730788\n"
     ]
    }
   ],
   "source": [
    "Matr = np.random.uniform(0,1,10)\n",
    "delta = 0.5\n",
    "m = Matr.flat[np.abs(Matr - delta).argmin()]\n",
    "print(m)"
   ]
  },
  {
   "cell_type": "markdown",
   "metadata": {},
   "source": [
    "#### 62. Considering two arrays with shape (1,3) and (3,1), how to compute their sum using an iterator? (★★☆)"
   ]
  },
  {
   "cell_type": "code",
   "execution_count": 63,
   "metadata": {},
   "outputs": [
    {
     "name": "stdout",
     "output_type": "stream",
     "text": [
      "[[0]\n",
      " [1]\n",
      " [2]] [[0 1 2]]\n",
      "[[0 1 2]\n",
      " [1 2 3]\n",
      " [2 3 4]]\n"
     ]
    }
   ],
   "source": [
    "A = np.arange(3).reshape(3,1)\n",
    "B = np.arange(3).reshape(1,3)\n",
    "it = np.nditer([A,B,None])\n",
    "for x,y,z in it: z[...] = x + y\n",
    "print(A, B)\n",
    "print(it.operands[2])"
   ]
  },
  {
   "cell_type": "markdown",
   "metadata": {},
   "source": [
    "#### 63. Create an array class that has a name attribute (★★☆)"
   ]
  },
  {
   "cell_type": "code",
   "execution_count": 65,
   "metadata": {},
   "outputs": [
    {
     "name": "stdout",
     "output_type": "stream",
     "text": [
      "Matrix10\n"
     ]
    }
   ],
   "source": [
    "class NamedArray(np.ndarray):\n",
    "    def __new__(cls, arr, name=\"no name\"):\n",
    "        objective = np.asarray(arr).view(cls)\n",
    "        objective.name = name\n",
    "        return objective\n",
    "    def __array_finalize__(self, objective):\n",
    "        if objective is None: return\n",
    "        self.info = getattr(objective, 'name', \"no name\")\n",
    "\n",
    "Matrix = NamedArray(np.arange(10), \"Matrix10\")\n",
    "print (Matrix.name)"
   ]
  }
 ],
 "metadata": {
  "kernelspec": {
   "display_name": "Python 3",
   "language": "python",
   "name": "python3"
  },
  "language_info": {
   "codemirror_mode": {
    "name": "ipython",
    "version": 3
   },
   "file_extension": ".py",
   "mimetype": "text/x-python",
   "name": "python",
   "nbconvert_exporter": "python",
   "pygments_lexer": "ipython3",
   "version": "3.7.6"
  }
 },
 "nbformat": 4,
 "nbformat_minor": 4
}
